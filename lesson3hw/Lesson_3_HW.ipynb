{
 "cells": [
  {
   "cell_type": "markdown",
   "id": "83918c99",
   "metadata": {},
   "source": [
    "# Практическое задание №3 по теме \"Связь бизнес-показателей и DS-метрик\"."
   ]
  },
  {
   "cell_type": "markdown",
   "id": "74b8d799",
   "metadata": {},
   "source": [
    "1. обучить несколько разных моделей на наборе данных ССЗ (train_case2.csv): логрег, бустинг, лес и т.д - на ваш выбор 2-3 варианта\n",
    "2. при обучении моделей обязательно использовать кроссвалидацию\n",
    "3. вывести сравнение полученных моделей по основным метрикам классификации: pr/rec/auc/f_score (можно в виде таблицы, где строки - модели, а столбцы - метрики)\n",
    "4. сделать выводы о том, какая модель справилась с задачей лучше других\n",
    "5. (опциональный вопрос) какая метрика (precision_recall_curve или roc_auc_curve) больше подходит в случае сильного дисбаланса классов? (когда объектов одного из классов намного больше чем другого). \n",
    "\n",
    "p.s.В вопросе проще разобраться, если вспомнить оси на графике roc auc curve и рассмотреть такой пример:\n",
    "\n",
    "Имеется 100000 объектов, из которых только 100 - класс \"1\" (99900 - класс \"0\", соответственно). \n",
    "Допустим, у нас две модели:\n",
    "\n",
    "- первая помечает 100 объектов как класс 1, но TP = 90\n",
    "- вторая помечает 1000 объектов как класс 1, но TP такой же - 90\n",
    "\n",
    "Какая модель лучше и почему? И что позволяет легче сделать вывод - roc_auc_curve или precision_recall_curve?"
   ]
  },
  {
   "cell_type": "code",
   "execution_count": 1,
   "id": "bbb583a1",
   "metadata": {},
   "outputs": [],
   "source": [
    "import numpy as np\n",
    "import pandas as pd\n",
    "\n",
    "from sklearn.model_selection import cross_val_score, train_test_split\n",
    "from sklearn.pipeline import Pipeline, make_pipeline\n",
    "from sklearn.pipeline import FeatureUnion\n",
    "from sklearn.base import BaseEstimator, TransformerMixin\n",
    "from sklearn.feature_extraction.text import TfidfVectorizer\n",
    "from sklearn.linear_model import LogisticRegression\n",
    "import xgboost\n",
    "from sklearn.neighbors import KNeighborsClassifier\n",
    "from sklearn.metrics import precision_recall_curve, roc_auc_score, confusion_matrix\n",
    "\n",
    "import warnings\n",
    "warnings.filterwarnings('ignore')\n",
    "\n",
    "%matplotlib inline"
   ]
  },
  {
   "cell_type": "code",
   "execution_count": 2,
   "id": "1e25b8f5",
   "metadata": {},
   "outputs": [
    {
     "data": {
      "text/html": [
       "<div>\n",
       "<style scoped>\n",
       "    .dataframe tbody tr th:only-of-type {\n",
       "        vertical-align: middle;\n",
       "    }\n",
       "\n",
       "    .dataframe tbody tr th {\n",
       "        vertical-align: top;\n",
       "    }\n",
       "\n",
       "    .dataframe thead th {\n",
       "        text-align: right;\n",
       "    }\n",
       "</style>\n",
       "<table border=\"1\" class=\"dataframe\">\n",
       "  <thead>\n",
       "    <tr style=\"text-align: right;\">\n",
       "      <th></th>\n",
       "      <th>id</th>\n",
       "      <th>age</th>\n",
       "      <th>gender</th>\n",
       "      <th>height</th>\n",
       "      <th>weight</th>\n",
       "      <th>ap_hi</th>\n",
       "      <th>ap_lo</th>\n",
       "      <th>cholesterol</th>\n",
       "      <th>gluc</th>\n",
       "      <th>smoke</th>\n",
       "      <th>alco</th>\n",
       "      <th>active</th>\n",
       "      <th>cardio</th>\n",
       "    </tr>\n",
       "  </thead>\n",
       "  <tbody>\n",
       "    <tr>\n",
       "      <th>26505</th>\n",
       "      <td>37865</td>\n",
       "      <td>16564</td>\n",
       "      <td>1</td>\n",
       "      <td>157</td>\n",
       "      <td>54.0</td>\n",
       "      <td>90</td>\n",
       "      <td>60</td>\n",
       "      <td>1</td>\n",
       "      <td>1</td>\n",
       "      <td>0</td>\n",
       "      <td>0</td>\n",
       "      <td>1</td>\n",
       "      <td>0</td>\n",
       "    </tr>\n",
       "    <tr>\n",
       "      <th>16099</th>\n",
       "      <td>22984</td>\n",
       "      <td>20310</td>\n",
       "      <td>1</td>\n",
       "      <td>158</td>\n",
       "      <td>70.0</td>\n",
       "      <td>120</td>\n",
       "      <td>80</td>\n",
       "      <td>3</td>\n",
       "      <td>3</td>\n",
       "      <td>0</td>\n",
       "      <td>0</td>\n",
       "      <td>1</td>\n",
       "      <td>0</td>\n",
       "    </tr>\n",
       "    <tr>\n",
       "      <th>35596</th>\n",
       "      <td>50835</td>\n",
       "      <td>21738</td>\n",
       "      <td>1</td>\n",
       "      <td>169</td>\n",
       "      <td>82.0</td>\n",
       "      <td>140</td>\n",
       "      <td>90</td>\n",
       "      <td>1</td>\n",
       "      <td>1</td>\n",
       "      <td>1</td>\n",
       "      <td>0</td>\n",
       "      <td>1</td>\n",
       "      <td>1</td>\n",
       "    </tr>\n",
       "    <tr>\n",
       "      <th>62735</th>\n",
       "      <td>89583</td>\n",
       "      <td>22808</td>\n",
       "      <td>2</td>\n",
       "      <td>170</td>\n",
       "      <td>78.0</td>\n",
       "      <td>140</td>\n",
       "      <td>80</td>\n",
       "      <td>1</td>\n",
       "      <td>1</td>\n",
       "      <td>1</td>\n",
       "      <td>0</td>\n",
       "      <td>0</td>\n",
       "      <td>1</td>\n",
       "    </tr>\n",
       "    <tr>\n",
       "      <th>67323</th>\n",
       "      <td>96126</td>\n",
       "      <td>19057</td>\n",
       "      <td>1</td>\n",
       "      <td>155</td>\n",
       "      <td>100.0</td>\n",
       "      <td>150</td>\n",
       "      <td>90</td>\n",
       "      <td>3</td>\n",
       "      <td>1</td>\n",
       "      <td>0</td>\n",
       "      <td>0</td>\n",
       "      <td>0</td>\n",
       "      <td>1</td>\n",
       "    </tr>\n",
       "    <tr>\n",
       "      <th>69982</th>\n",
       "      <td>99973</td>\n",
       "      <td>18941</td>\n",
       "      <td>1</td>\n",
       "      <td>153</td>\n",
       "      <td>86.0</td>\n",
       "      <td>130</td>\n",
       "      <td>90</td>\n",
       "      <td>1</td>\n",
       "      <td>2</td>\n",
       "      <td>0</td>\n",
       "      <td>0</td>\n",
       "      <td>1</td>\n",
       "      <td>1</td>\n",
       "    </tr>\n",
       "    <tr>\n",
       "      <th>49905</th>\n",
       "      <td>71239</td>\n",
       "      <td>19159</td>\n",
       "      <td>1</td>\n",
       "      <td>165</td>\n",
       "      <td>62.0</td>\n",
       "      <td>120</td>\n",
       "      <td>70</td>\n",
       "      <td>1</td>\n",
       "      <td>1</td>\n",
       "      <td>0</td>\n",
       "      <td>0</td>\n",
       "      <td>0</td>\n",
       "      <td>0</td>\n",
       "    </tr>\n",
       "    <tr>\n",
       "      <th>12076</th>\n",
       "      <td>17249</td>\n",
       "      <td>16837</td>\n",
       "      <td>1</td>\n",
       "      <td>155</td>\n",
       "      <td>73.0</td>\n",
       "      <td>120</td>\n",
       "      <td>80</td>\n",
       "      <td>1</td>\n",
       "      <td>2</td>\n",
       "      <td>0</td>\n",
       "      <td>0</td>\n",
       "      <td>1</td>\n",
       "      <td>0</td>\n",
       "    </tr>\n",
       "    <tr>\n",
       "      <th>59726</th>\n",
       "      <td>85267</td>\n",
       "      <td>17214</td>\n",
       "      <td>2</td>\n",
       "      <td>165</td>\n",
       "      <td>54.0</td>\n",
       "      <td>140</td>\n",
       "      <td>90</td>\n",
       "      <td>1</td>\n",
       "      <td>1</td>\n",
       "      <td>0</td>\n",
       "      <td>0</td>\n",
       "      <td>1</td>\n",
       "      <td>1</td>\n",
       "    </tr>\n",
       "    <tr>\n",
       "      <th>10726</th>\n",
       "      <td>15335</td>\n",
       "      <td>23435</td>\n",
       "      <td>1</td>\n",
       "      <td>162</td>\n",
       "      <td>82.0</td>\n",
       "      <td>140</td>\n",
       "      <td>90</td>\n",
       "      <td>1</td>\n",
       "      <td>1</td>\n",
       "      <td>0</td>\n",
       "      <td>0</td>\n",
       "      <td>1</td>\n",
       "      <td>0</td>\n",
       "    </tr>\n",
       "  </tbody>\n",
       "</table>\n",
       "</div>"
      ],
      "text/plain": [
       "          id    age  gender  height  weight  ap_hi  ap_lo  cholesterol  gluc  \\\n",
       "26505  37865  16564       1     157    54.0     90     60            1     1   \n",
       "16099  22984  20310       1     158    70.0    120     80            3     3   \n",
       "35596  50835  21738       1     169    82.0    140     90            1     1   \n",
       "62735  89583  22808       2     170    78.0    140     80            1     1   \n",
       "67323  96126  19057       1     155   100.0    150     90            3     1   \n",
       "69982  99973  18941       1     153    86.0    130     90            1     2   \n",
       "49905  71239  19159       1     165    62.0    120     70            1     1   \n",
       "12076  17249  16837       1     155    73.0    120     80            1     2   \n",
       "59726  85267  17214       2     165    54.0    140     90            1     1   \n",
       "10726  15335  23435       1     162    82.0    140     90            1     1   \n",
       "\n",
       "       smoke  alco  active  cardio  \n",
       "26505      0     0       1       0  \n",
       "16099      0     0       1       0  \n",
       "35596      1     0       1       1  \n",
       "62735      1     0       0       1  \n",
       "67323      0     0       0       1  \n",
       "69982      0     0       1       1  \n",
       "49905      0     0       0       0  \n",
       "12076      0     0       1       0  \n",
       "59726      0     0       1       1  \n",
       "10726      0     0       1       0  "
      ]
     },
     "execution_count": 2,
     "metadata": {},
     "output_type": "execute_result"
    }
   ],
   "source": [
    "df = pd.read_csv('train_case2.csv', ';')\n",
    "df.sample(10, random_state=12)"
   ]
  },
  {
   "cell_type": "code",
   "execution_count": 3,
   "id": "8abf442b",
   "metadata": {},
   "outputs": [],
   "source": [
    "#разделим данные на train/test\n",
    "X_train, X_test, y_train, y_test = train_test_split(df.drop('cardio', 1), df['cardio'], random_state=0)"
   ]
  },
  {
   "cell_type": "code",
   "execution_count": 4,
   "id": "19c999f1",
   "metadata": {},
   "outputs": [],
   "source": [
    "# выбор колонки (признака)\n",
    "class ColumnSelector(BaseEstimator, TransformerMixin):\n",
    "    \"\"\"\n",
    "    Transformer to select a single column from the data frame to perform additional transformations on\n",
    "    \"\"\"\n",
    "    def __init__(self, key):\n",
    "        self.key = key\n",
    "\n",
    "    def fit(self, X, y=None):\n",
    "        return self\n",
    "\n",
    "    def transform(self, X):\n",
    "        return X[self.key]\n",
    "\n",
    "# выбрать колонку с числовыми данными\n",
    "class NumberSelector(BaseEstimator, TransformerMixin):\n",
    "    \"\"\"\n",
    "    Transformer to select a single column from the data frame to perform additional transformations on\n",
    "    Use on numeric columns in the data\n",
    "    \"\"\"\n",
    "    def __init__(self, key):\n",
    "        self.key = key\n",
    "\n",
    "    def fit(self, X, y=None):\n",
    "        return self\n",
    "\n",
    "    def transform(self, X):\n",
    "        return X[[self.key]]\n",
    "\n",
    "# классическое преобразование категорийных признаков\n",
    "class OHEEncoder(BaseEstimator, TransformerMixin):\n",
    "    def __init__(self, key):\n",
    "        self.key = key\n",
    "        self.columns = []\n",
    "\n",
    "    def fit(self, X, y=None):\n",
    "        self.columns = [col for col in pd.get_dummies(X, prefix=self.key).columns]\n",
    "        return self\n",
    "\n",
    "    def transform(self, X):\n",
    "        X = pd.get_dummies(X, prefix=self.key)\n",
    "        test_columns = [col for col in X.columns]\n",
    "        for col_ in test_columns:\n",
    "            if col_ not in self.columns:\n",
    "                X[col_] = 0\n",
    "        return X[self.columns]\n",
    "\n",
    "\n",
    "from sklearn.preprocessing import StandardScaler\n",
    "\n",
    "# отобрали числовые, категорийные и бинарные признаки\n",
    "continuos_cols = ['age', 'height', 'weight', 'ap_hi', 'ap_lo']\n",
    "cat_cols = ['gender', 'cholesterol']\n",
    "base_cols = ['gluc', 'smoke', 'alco', 'active']\n",
    "\n",
    "# списки пайплайнов для каждого признака\n",
    "continuos_transformers = []\n",
    "cat_transformers = []\n",
    "base_transformers = []\n",
    "\n",
    "for cont_col in continuos_cols:\n",
    "    transfomer =  Pipeline([\n",
    "                ('selector', NumberSelector(key=cont_col)),\n",
    "                ('standard', StandardScaler())\n",
    "            ])\n",
    "    continuos_transformers.append((cont_col, transfomer))\n",
    "    \n",
    "for cat_col in cat_cols:\n",
    "    cat_transformer = Pipeline([\n",
    "                ('selector', ColumnSelector(key=cat_col)),\n",
    "                ('ohe', OHEEncoder(key=cat_col))\n",
    "            ])\n",
    "    cat_transformers.append((cat_col, cat_transformer))\n",
    "    \n",
    "for base_col in base_cols:\n",
    "    base_transformer = Pipeline([\n",
    "                ('selector', NumberSelector(key=base_col))\n",
    "            ])\n",
    "    base_transformers.append((base_col, base_transformer))"
   ]
  },
  {
   "cell_type": "code",
   "execution_count": 5,
   "id": "93356540",
   "metadata": {},
   "outputs": [
    {
     "data": {
      "text/plain": [
       "array([[-1.73391771,  0.6873301 ,  0.74843904, ...,  1.        ,\n",
       "         0.        ,  1.        ],\n",
       "       [-1.67343538,  0.07758923, -0.29640123, ...,  0.        ,\n",
       "         0.        ,  1.        ],\n",
       "       [ 0.13738132,  1.17512278, -0.15708919, ...,  0.        ,\n",
       "         0.        ,  0.        ],\n",
       "       ...,\n",
       "       [ 1.17775864,  1.17512278, -0.15708919, ...,  0.        ,\n",
       "         0.        ,  1.        ],\n",
       "       [-0.47190715, -1.38578883,  0.74843904, ...,  0.        ,\n",
       "         0.        ,  1.        ],\n",
       "       [ 0.38174619,  0.56538192, -0.08743318, ...,  0.        ,\n",
       "         0.        ,  1.        ]])"
      ]
     },
     "execution_count": 5,
     "metadata": {},
     "output_type": "execute_result"
    }
   ],
   "source": [
    "feats = FeatureUnion(continuos_transformers+cat_transformers+base_transformers)\n",
    "feature_processing = Pipeline([('feats', feats)])\n",
    "\n",
    "feature_processing.fit_transform(X_train)"
   ]
  },
  {
   "cell_type": "code",
   "execution_count": 6,
   "id": "28e0a617",
   "metadata": {},
   "outputs": [],
   "source": [
    "result_dict = {'LogReg':[], 'XGB':[], 'kNN':[]}"
   ]
  },
  {
   "cell_type": "markdown",
   "id": "9936f7f6",
   "metadata": {},
   "source": [
    "## Задание №1, 2"
   ]
  },
  {
   "cell_type": "markdown",
   "id": "556e37cc",
   "metadata": {},
   "source": [
    "#### 1. Logistic Regression"
   ]
  },
  {
   "cell_type": "code",
   "execution_count": 7,
   "id": "5d7cee01",
   "metadata": {},
   "outputs": [
    {
     "name": "stdout",
     "output_type": "stream",
     "text": [
      "CPU times: total: 1.84 s\n",
      "Wall time: 1.85 s\n"
     ]
    }
   ],
   "source": [
    "%%time\n",
    "classifier = Pipeline([\n",
    "    ('features',feats),\n",
    "    ('classifier', LogisticRegression(random_state = 42)),\n",
    "])\n",
    "\n",
    "cv_scores = cross_val_score(classifier, X_train, y_train, cv=16, scoring='roc_auc')\n",
    "cv_score = np.mean(cv_scores)\n",
    "cv_score_std = np.std(cv_scores)\n",
    "\n",
    "classifier.fit(X_train, y_train)\n",
    "y_score = classifier.predict_proba(X_test)[:, 1]"
   ]
  },
  {
   "cell_type": "code",
   "execution_count": 8,
   "id": "0ec3ef0b",
   "metadata": {},
   "outputs": [
    {
     "name": "stdout",
     "output_type": "stream",
     "text": [
      "CV score is 0.7867401104915408+-0.00852135511666111\n"
     ]
    }
   ],
   "source": [
    "print('CV score is {}+-{}'.format(cv_score, cv_score_std))"
   ]
  },
  {
   "cell_type": "code",
   "execution_count": 9,
   "id": "0d945373",
   "metadata": {},
   "outputs": [
    {
     "name": "stdout",
     "output_type": "stream",
     "text": [
      "Best Threshold=0.386937, F-Score=0.730, Precision=0.647, Recall=0.838\n"
     ]
    }
   ],
   "source": [
    "b=1\n",
    "precision, recall, thresholds = precision_recall_curve(y_test.values, y_score)\n",
    "fscore = (1+b**2)*(precision * recall) / (b**2*precision + recall)\n",
    "ix = np.argmax(fscore)\n",
    "ras = roc_auc_score(y_test, y_score)\n",
    "\n",
    "result_dict['LogReg'].append(fscore[ix])\n",
    "result_dict['LogReg'].append(precision[ix])\n",
    "result_dict['LogReg'].append(recall[ix])\n",
    "result_dict['LogReg'].append(ras)\n",
    "\n",
    "print('Best Threshold=%f, F-Score=%.3f, Precision=%.3f, Recall=%.3f' % (thresholds[ix], \n",
    "                                                                        fscore[ix],\n",
    "                                                                        precision[ix],\n",
    "                                                                        recall[ix]))"
   ]
  },
  {
   "cell_type": "markdown",
   "id": "b3085211",
   "metadata": {},
   "source": [
    "#### 2. Xgboost"
   ]
  },
  {
   "cell_type": "code",
   "execution_count": 10,
   "id": "176e48ab",
   "metadata": {},
   "outputs": [
    {
     "name": "stdout",
     "output_type": "stream",
     "text": [
      "CPU times: total: 58.4 s\n",
      "Wall time: 4.91 s\n"
     ]
    }
   ],
   "source": [
    "%%time\n",
    "classifier = Pipeline([\n",
    "    ('features',feats),\n",
    "    ('classifier', xgboost.XGBClassifier(n_estimators=100, random_state=0)),\n",
    "])\n",
    "\n",
    "cv_scores = cross_val_score(classifier, X_train, y_train, cv=5, scoring='roc_auc')\n",
    "cv_score = np.mean(cv_scores)\n",
    "cv_score_std = np.std(cv_scores)\n",
    "\n",
    "classifier.fit(X_train, y_train)\n",
    "y_score = classifier.predict_proba(X_test)[:, 1]"
   ]
  },
  {
   "cell_type": "code",
   "execution_count": 11,
   "id": "a0d1c182",
   "metadata": {},
   "outputs": [
    {
     "name": "stdout",
     "output_type": "stream",
     "text": [
      "CV score is 0.7962156108988848+-0.004388386094897168\n"
     ]
    }
   ],
   "source": [
    "print('CV score is {}+-{}'.format(cv_score, cv_score_std))"
   ]
  },
  {
   "cell_type": "code",
   "execution_count": 12,
   "id": "4c2b0c2e",
   "metadata": {},
   "outputs": [
    {
     "name": "stdout",
     "output_type": "stream",
     "text": [
      "Best Threshold=0.347103, F-Score=0.738, Precision=0.665, Recall=0.828\n"
     ]
    }
   ],
   "source": [
    "b=1\n",
    "precision, recall, thresholds = precision_recall_curve(y_test.values, y_score)\n",
    "fscore = (1+b**2)*(precision * recall) / (b**2*precision + recall)\n",
    "ix = np.argmax(fscore)\n",
    "ras = roc_auc_score(y_test, y_score)\n",
    "\n",
    "result_dict['XGB'].append(fscore[ix])\n",
    "result_dict['XGB'].append(precision[ix])\n",
    "result_dict['XGB'].append(recall[ix])\n",
    "result_dict['XGB'].append(ras)\n",
    "\n",
    "print('Best Threshold=%f, F-Score=%.3f, Precision=%.3f, Recall=%.3f' % (thresholds[ix], \n",
    "                                                                        fscore[ix],\n",
    "                                                                        precision[ix],\n",
    "                                                                        recall[ix]))"
   ]
  },
  {
   "cell_type": "markdown",
   "id": "691b509e",
   "metadata": {},
   "source": [
    "#### 3. k-NN"
   ]
  },
  {
   "cell_type": "code",
   "execution_count": 13,
   "id": "bd6973dd",
   "metadata": {},
   "outputs": [
    {
     "name": "stdout",
     "output_type": "stream",
     "text": [
      "CPU times: total: 11.2 s\n",
      "Wall time: 10.4 s\n"
     ]
    }
   ],
   "source": [
    "%%time\n",
    "classifier = Pipeline([\n",
    "    ('features',feats),\n",
    "    ('classifier', KNeighborsClassifier(n_neighbors = 5))\n",
    "])\n",
    "\n",
    "cv_scores = cross_val_score(classifier, X_train, y_train, cv=5, scoring='roc_auc')\n",
    "cv_score = np.mean(cv_scores)\n",
    "cv_score_std = np.std(cv_scores)\n",
    "\n",
    "classifier.fit(X_train, y_train)\n",
    "y_score = classifier.predict_proba(X_test)[:, 1]"
   ]
  },
  {
   "cell_type": "code",
   "execution_count": 14,
   "id": "d37053b9",
   "metadata": {},
   "outputs": [
    {
     "name": "stdout",
     "output_type": "stream",
     "text": [
      "CV score is 0.6894341449677974+-0.0036001530814609166\n"
     ]
    }
   ],
   "source": [
    "print('CV score is {}+-{}'.format(cv_score, cv_score_std))"
   ]
  },
  {
   "cell_type": "code",
   "execution_count": 15,
   "id": "f1d5cee0",
   "metadata": {},
   "outputs": [
    {
     "name": "stdout",
     "output_type": "stream",
     "text": [
      "Best Threshold=0.400000, F-Score=0.686, Precision=0.588, Recall=0.822\n"
     ]
    }
   ],
   "source": [
    "b=1\n",
    "precision, recall, thresholds = precision_recall_curve(y_test.values, y_score)\n",
    "fscore = (1+b**2)*(precision * recall) / (b**2*precision + recall)\n",
    "ix = np.argmax(fscore)\n",
    "ras = roc_auc_score(y_test, y_score)\n",
    "\n",
    "result_dict['kNN'].append(fscore[ix])\n",
    "result_dict['kNN'].append(precision[ix])\n",
    "result_dict['kNN'].append(recall[ix])\n",
    "result_dict['kNN'].append(ras)\n",
    "\n",
    "print('Best Threshold=%f, F-Score=%.3f, Precision=%.3f, Recall=%.3f' % (thresholds[ix], \n",
    "                                                                        fscore[ix],\n",
    "                                                                        precision[ix],\n",
    "                                                                        recall[ix]))"
   ]
  },
  {
   "cell_type": "code",
   "execution_count": 16,
   "id": "0f1648f0",
   "metadata": {},
   "outputs": [
    {
     "data": {
      "text/plain": [
       "{'LogReg': [0.7303229695112764,\n",
       "  0.6474307596402173,\n",
       "  0.8375576036866359,\n",
       "  0.7840347790421852],\n",
       " 'XGB': [0.7378899835796389,\n",
       "  0.6652479644707624,\n",
       "  0.8283410138248848,\n",
       "  0.797227760535858],\n",
       " 'kNN': [0.6858626159688507,\n",
       "  0.5884682009403613,\n",
       "  0.821889400921659,\n",
       "  0.6940984174007545]}"
      ]
     },
     "execution_count": 16,
     "metadata": {},
     "output_type": "execute_result"
    }
   ],
   "source": [
    "result_dict"
   ]
  },
  {
   "cell_type": "markdown",
   "id": "f12fba55",
   "metadata": {},
   "source": [
    "## Задание №3"
   ]
  },
  {
   "cell_type": "code",
   "execution_count": 17,
   "id": "d08ef66e",
   "metadata": {},
   "outputs": [
    {
     "data": {
      "text/html": [
       "<div>\n",
       "<style scoped>\n",
       "    .dataframe tbody tr th:only-of-type {\n",
       "        vertical-align: middle;\n",
       "    }\n",
       "\n",
       "    .dataframe tbody tr th {\n",
       "        vertical-align: top;\n",
       "    }\n",
       "\n",
       "    .dataframe thead th {\n",
       "        text-align: right;\n",
       "    }\n",
       "</style>\n",
       "<table border=\"1\" class=\"dataframe\">\n",
       "  <thead>\n",
       "    <tr style=\"text-align: right;\">\n",
       "      <th></th>\n",
       "      <th>F-score</th>\n",
       "      <th>Precision</th>\n",
       "      <th>Recall</th>\n",
       "      <th>Roc Auc Score</th>\n",
       "    </tr>\n",
       "  </thead>\n",
       "  <tbody>\n",
       "    <tr>\n",
       "      <th>LogReg</th>\n",
       "      <td>0.730323</td>\n",
       "      <td>0.647431</td>\n",
       "      <td>0.837558</td>\n",
       "      <td>0.784035</td>\n",
       "    </tr>\n",
       "    <tr>\n",
       "      <th>XGB</th>\n",
       "      <td>0.737890</td>\n",
       "      <td>0.665248</td>\n",
       "      <td>0.828341</td>\n",
       "      <td>0.797228</td>\n",
       "    </tr>\n",
       "    <tr>\n",
       "      <th>kNN</th>\n",
       "      <td>0.685863</td>\n",
       "      <td>0.588468</td>\n",
       "      <td>0.821889</td>\n",
       "      <td>0.694098</td>\n",
       "    </tr>\n",
       "  </tbody>\n",
       "</table>\n",
       "</div>"
      ],
      "text/plain": [
       "         F-score  Precision    Recall  Roc Auc Score\n",
       "LogReg  0.730323   0.647431  0.837558       0.784035\n",
       "XGB     0.737890   0.665248  0.828341       0.797228\n",
       "kNN     0.685863   0.588468  0.821889       0.694098"
      ]
     },
     "execution_count": 17,
     "metadata": {},
     "output_type": "execute_result"
    }
   ],
   "source": [
    "result_df = pd.DataFrame(result_dict, index=['F-score', 'Precision', 'Recall', 'Roc Auc Score'])\n",
    "result_df = result_df.T\n",
    "result_df"
   ]
  },
  {
   "cell_type": "markdown",
   "id": "3019fb0a",
   "metadata": {},
   "source": [
    "## Задание №4"
   ]
  },
  {
   "cell_type": "markdown",
   "id": "bd94ce9a",
   "metadata": {},
   "source": [
    "Из полученных результатов можно сделать вывод, что худшие результаты по всем метрикам у алгоритма **k-NN**. Алгоритмы **Logistic Regression** и **XGboost** показали примерно одинаковые результаты, но **XGboost** все-таки немного лучше.\n",
    "\n",
    "Однако, важно обратить внимание на то, что по времени обработки **XGboost** сильно проиграл **Logistic Regression**."
   ]
  },
  {
   "cell_type": "markdown",
   "id": "b7236ef8",
   "metadata": {},
   "source": [
    "## Задание №5"
   ]
  },
  {
   "cell_type": "markdown",
   "id": "10325a1e",
   "metadata": {},
   "source": [
    "В лекции преподаватель несколько раз упоминал, что метрика *roc_auc_curve* совершенно не подходит для датасетов, в которых присутствует сильный дисбаланс классов. В таких случаях лучше всего использовать метрику **F-score** и соответственно *precision_recall_curve*.\n",
    "\n",
    "В задании предлагается рассмотреть пример:\n",
    "\n",
    "Имеется 100000 объектов, из которых только 100 - класс \"1\" (99900 - класс \"0\", соответственно). \n",
    "Допустим, у нас две модели:\n",
    "\n",
    "- первая помечает 100 объектов как класс 1, но TP = 90\n",
    "- вторая помечает 1000 объектов как класс 1, но TP такой же - 90"
   ]
  },
  {
   "cell_type": "markdown",
   "id": "435fb2b3",
   "metadata": {},
   "source": [
    "F-score:\n",
    "\n",
    "$$precision = \\frac{TP}{TP+FP}$$\n",
    "\n",
    "$$recall = \\frac{TP}{TP+FN}$$\n",
    "\n",
    "$$Fscore = (1+\\beta^2)\\cdot\\frac{precision \\cdot recall}{(\\beta^2 \\cdot precision)+recall}$$"
   ]
  },
  {
   "cell_type": "markdown",
   "id": "a74e9522",
   "metadata": {},
   "source": [
    "Roc Auc score:\n",
    "\n",
    "$$TPR = \\frac{TP}{TP+FN}$$\n",
    "\n",
    "$$FPR = \\frac{FP}{FP+TN}$$"
   ]
  },
  {
   "cell_type": "markdown",
   "id": "d0210b2a",
   "metadata": {},
   "source": [
    "Первая модель"
   ]
  },
  {
   "cell_type": "code",
   "execution_count": 18,
   "id": "9818331c",
   "metadata": {},
   "outputs": [],
   "source": [
    "y_true = [1]*100 + [0]*99900\n",
    "y_score = [1]*90 + [0]*10 + [1]*10 + [0]*99890"
   ]
  },
  {
   "cell_type": "code",
   "execution_count": 19,
   "id": "f57b2a5b",
   "metadata": {
    "scrolled": true
   },
   "outputs": [
    {
     "name": "stdout",
     "output_type": "stream",
     "text": [
      "F-Score=0.900, \n",
      "Precision=0.900, \n",
      "Recall=0.900, \n",
      "Roc Auc Score=0.950\n"
     ]
    }
   ],
   "source": [
    "cnf_matrix = confusion_matrix(y_true, y_score)\n",
    "TN = cnf_matrix[0][0]\n",
    "FN = cnf_matrix[1][0]\n",
    "TP = cnf_matrix[1][1]\n",
    "FP = cnf_matrix[0][1]\n",
    "precision = TP/(TP+FP)\n",
    "recall = TP/(TP+FN)\n",
    "beta = 1\n",
    "f_score = 2*precision*recall/(precision + recall)\n",
    "ras = roc_auc_score(y_true, y_score)\n",
    "print('F-Score=%.3f, \\nPrecision=%.3f, \\nRecall=%.3f, \\nRoc Auc Score=%.3f' % (f_score, precision, recall, ras))"
   ]
  },
  {
   "cell_type": "markdown",
   "id": "925d6df5",
   "metadata": {},
   "source": [
    "Вторая модель"
   ]
  },
  {
   "cell_type": "code",
   "execution_count": 20,
   "id": "7e48f4da",
   "metadata": {},
   "outputs": [],
   "source": [
    "y_true = [1]*100 + [0]*99900\n",
    "y_score = [1]*90 + [0]*10 + [1]*910 + [0]*98990"
   ]
  },
  {
   "cell_type": "code",
   "execution_count": 21,
   "id": "c0d00170",
   "metadata": {},
   "outputs": [
    {
     "name": "stdout",
     "output_type": "stream",
     "text": [
      "F-Score=0.164, \n",
      "Precision=0.090, \n",
      "Recall=0.900, \n",
      "Roc Auc Score=0.945\n"
     ]
    }
   ],
   "source": [
    "cnf_matrix = confusion_matrix(y_true, y_score)\n",
    "TN = cnf_matrix[0][0]\n",
    "FN = cnf_matrix[1][0]\n",
    "TP = cnf_matrix[1][1]\n",
    "FP = cnf_matrix[0][1]\n",
    "precision = TP/(TP+FP)\n",
    "recall = TP/(TP+FN)\n",
    "beta = 1\n",
    "f_score = 2*precision*recall/(precision + recall)\n",
    "ras = roc_auc_score(y_true, y_score)\n",
    "print('F-Score=%.3f, \\nPrecision=%.3f, \\nRecall=%.3f, \\nRoc Auc Score=%.3f' % (f_score, precision, recall, ras))"
   ]
  },
  {
   "cell_type": "markdown",
   "id": "d10ee203",
   "metadata": {},
   "source": [
    "**Вывод:**\n",
    "\n",
    "Рассмотрим результаты двух примеров. В первом случае нам повезло и несбалансированность выборки не так сильно заметно, потому что модель определила правильно классы примерно в той же доле, что и разбиты классы в выборке. Однако, во втором случае, мы видим что модель предсказала очень много FP классов, что привело к сильному снижению точности и соответственно F-score. \n",
    "\n",
    "Если теперь судить по метрикам при несбалансированности классов, то определенно предпочтительней использовать F-score, который улавливает FP ошибки и вовремя сигнализирует нам о том, что с моделью что-то не так. Roc Auc Score вообще практически никак не отриагировал на появление ошибок и поэтому, если мы будем использовать его, то мы можем и не узнать, что у нас проблемы."
   ]
  },
  {
   "cell_type": "markdown",
   "id": "ff495684",
   "metadata": {},
   "source": [
    "Определенно первая модель намного качественнее, поскольку показатель F-score у нее выше."
   ]
  },
  {
   "cell_type": "markdown",
   "id": "d68e75e2",
   "metadata": {},
   "source": [
    "---"
   ]
  }
 ],
 "metadata": {
  "kernelspec": {
   "display_name": "Python 3 (ipykernel)",
   "language": "python",
   "name": "python3"
  },
  "language_info": {
   "codemirror_mode": {
    "name": "ipython",
    "version": 3
   },
   "file_extension": ".py",
   "mimetype": "text/x-python",
   "name": "python",
   "nbconvert_exporter": "python",
   "pygments_lexer": "ipython3",
   "version": "3.9.12"
  }
 },
 "nbformat": 4,
 "nbformat_minor": 5
}
