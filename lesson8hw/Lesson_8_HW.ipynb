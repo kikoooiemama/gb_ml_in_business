{
 "cells": [
  {
   "cell_type": "markdown",
   "id": "6b404765",
   "metadata": {},
   "source": [
    "# Практическое задание №8 по теме \"Проверяем работу модели на практике: A/B-тестирование\"."
   ]
  },
  {
   "cell_type": "markdown",
   "id": "e3e79a59",
   "metadata": {},
   "source": [
    "## Из видеоурока"
   ]
  },
  {
   "cell_type": "markdown",
   "id": "175d6625",
   "metadata": {},
   "source": [
    "1. Скачать датасет: https://drive.google.com/file/d/1MpWBFIbqu4mbiD0BBKYX6YhS-f4mN3Z_\n",
    "2. Проверить гипотезу о том, в каком варианте теста (control/personalization) больше конверсия (converted)\n",
    "3. Проверить значимо ли это отличие статистически"
   ]
  },
  {
   "cell_type": "code",
   "execution_count": 1,
   "id": "9cb432de",
   "metadata": {},
   "outputs": [],
   "source": [
    "import pandas as pd\n",
    "import numpy as np\n",
    "from statsmodels.stats import proportion\n",
    "import matplotlib.pyplot as plt\n",
    "\n",
    "import warnings\n",
    "warnings.filterwarnings('ignore')"
   ]
  },
  {
   "cell_type": "code",
   "execution_count": 2,
   "id": "aeadb5a9",
   "metadata": {},
   "outputs": [
    {
     "data": {
      "text/html": [
       "<div>\n",
       "<style scoped>\n",
       "    .dataframe tbody tr th:only-of-type {\n",
       "        vertical-align: middle;\n",
       "    }\n",
       "\n",
       "    .dataframe tbody tr th {\n",
       "        vertical-align: top;\n",
       "    }\n",
       "\n",
       "    .dataframe thead th {\n",
       "        text-align: right;\n",
       "    }\n",
       "</style>\n",
       "<table border=\"1\" class=\"dataframe\">\n",
       "  <thead>\n",
       "    <tr style=\"text-align: right;\">\n",
       "      <th></th>\n",
       "      <th>user_id</th>\n",
       "      <th>date_served</th>\n",
       "      <th>marketing_channel</th>\n",
       "      <th>variant</th>\n",
       "      <th>language_displayed</th>\n",
       "      <th>converted</th>\n",
       "    </tr>\n",
       "  </thead>\n",
       "  <tbody>\n",
       "    <tr>\n",
       "      <th>0</th>\n",
       "      <td>a1000</td>\n",
       "      <td>1/1/18</td>\n",
       "      <td>House Ads</td>\n",
       "      <td>personalization</td>\n",
       "      <td>English</td>\n",
       "      <td>True</td>\n",
       "    </tr>\n",
       "    <tr>\n",
       "      <th>1</th>\n",
       "      <td>a1001</td>\n",
       "      <td>1/1/18</td>\n",
       "      <td>House Ads</td>\n",
       "      <td>personalization</td>\n",
       "      <td>English</td>\n",
       "      <td>True</td>\n",
       "    </tr>\n",
       "    <tr>\n",
       "      <th>2</th>\n",
       "      <td>a1002</td>\n",
       "      <td>1/1/18</td>\n",
       "      <td>House Ads</td>\n",
       "      <td>personalization</td>\n",
       "      <td>English</td>\n",
       "      <td>True</td>\n",
       "    </tr>\n",
       "  </tbody>\n",
       "</table>\n",
       "</div>"
      ],
      "text/plain": [
       "  user_id date_served marketing_channel          variant language_displayed  \\\n",
       "0   a1000      1/1/18         House Ads  personalization            English   \n",
       "1   a1001      1/1/18         House Ads  personalization            English   \n",
       "2   a1002      1/1/18         House Ads  personalization            English   \n",
       "\n",
       "  converted  \n",
       "0      True  \n",
       "1      True  \n",
       "2      True  "
      ]
     },
     "execution_count": 2,
     "metadata": {},
     "output_type": "execute_result"
    }
   ],
   "source": [
    "marketing_campaign = pd.read_csv(\"marketing_campaign.csv\")\n",
    "marketing_campaign.head(3)"
   ]
  },
  {
   "cell_type": "code",
   "execution_count": 3,
   "id": "8c649cfb",
   "metadata": {
    "scrolled": true
   },
   "outputs": [
    {
     "name": "stdout",
     "output_type": "stream",
     "text": [
      "<class 'pandas.core.frame.DataFrame'>\n",
      "RangeIndex: 10037 entries, 0 to 10036\n",
      "Data columns (total 6 columns):\n",
      " #   Column              Non-Null Count  Dtype \n",
      "---  ------              --------------  ----- \n",
      " 0   user_id             10037 non-null  object\n",
      " 1   date_served         10021 non-null  object\n",
      " 2   marketing_channel   10022 non-null  object\n",
      " 3   variant             10037 non-null  object\n",
      " 4   language_displayed  10037 non-null  object\n",
      " 5   converted           10022 non-null  object\n",
      "dtypes: object(6)\n",
      "memory usage: 470.6+ KB\n"
     ]
    }
   ],
   "source": [
    "marketing_campaign.info()"
   ]
  },
  {
   "cell_type": "markdown",
   "id": "12ee1251",
   "metadata": {},
   "source": [
    "Как видим есть в наших данных пропуски."
   ]
  },
  {
   "cell_type": "markdown",
   "id": "3a810dcc",
   "metadata": {},
   "source": [
    "Нас интересует признак converted и признак variant. Остальные признаки нас не интересуют. Посмотрим соотношение данных и пропуски в этих столбцах."
   ]
  },
  {
   "cell_type": "code",
   "execution_count": 4,
   "id": "057846b5",
   "metadata": {},
   "outputs": [
    {
     "data": {
      "text/plain": [
       "control            5091\n",
       "personalization    4946\n",
       "Name: variant, dtype: int64"
      ]
     },
     "execution_count": 4,
     "metadata": {},
     "output_type": "execute_result"
    }
   ],
   "source": [
    "marketing_campaign.variant.value_counts()"
   ]
  },
  {
   "cell_type": "markdown",
   "id": "2ea6ef70",
   "metadata": {},
   "source": [
    "Соотношение в целом 50 на 50"
   ]
  },
  {
   "cell_type": "code",
   "execution_count": 5,
   "id": "cf92c59e",
   "metadata": {
    "scrolled": false
   },
   "outputs": [
    {
     "data": {
      "text/plain": [
       "False    8946\n",
       "True     1076\n",
       "Name: converted, dtype: int64"
      ]
     },
     "execution_count": 5,
     "metadata": {},
     "output_type": "execute_result"
    }
   ],
   "source": [
    "marketing_campaign.converted.value_counts()"
   ]
  },
  {
   "cell_type": "markdown",
   "id": "1fe3c1e9",
   "metadata": {},
   "source": [
    "Соотношение 10 на 90."
   ]
  },
  {
   "cell_type": "code",
   "execution_count": 6,
   "id": "43d28d4a",
   "metadata": {},
   "outputs": [
    {
     "data": {
      "text/html": [
       "<div>\n",
       "<style scoped>\n",
       "    .dataframe tbody tr th:only-of-type {\n",
       "        vertical-align: middle;\n",
       "    }\n",
       "\n",
       "    .dataframe tbody tr th {\n",
       "        vertical-align: top;\n",
       "    }\n",
       "\n",
       "    .dataframe thead th {\n",
       "        text-align: right;\n",
       "    }\n",
       "</style>\n",
       "<table border=\"1\" class=\"dataframe\">\n",
       "  <thead>\n",
       "    <tr style=\"text-align: right;\">\n",
       "      <th></th>\n",
       "      <th>variant</th>\n",
       "      <th>converted</th>\n",
       "    </tr>\n",
       "  </thead>\n",
       "  <tbody>\n",
       "    <tr>\n",
       "      <th>9944</th>\n",
       "      <td>control</td>\n",
       "      <td>NaN</td>\n",
       "    </tr>\n",
       "    <tr>\n",
       "      <th>9945</th>\n",
       "      <td>control</td>\n",
       "      <td>NaN</td>\n",
       "    </tr>\n",
       "    <tr>\n",
       "      <th>9946</th>\n",
       "      <td>control</td>\n",
       "      <td>NaN</td>\n",
       "    </tr>\n",
       "    <tr>\n",
       "      <th>9947</th>\n",
       "      <td>control</td>\n",
       "      <td>NaN</td>\n",
       "    </tr>\n",
       "    <tr>\n",
       "      <th>9948</th>\n",
       "      <td>control</td>\n",
       "      <td>NaN</td>\n",
       "    </tr>\n",
       "    <tr>\n",
       "      <th>9949</th>\n",
       "      <td>control</td>\n",
       "      <td>NaN</td>\n",
       "    </tr>\n",
       "    <tr>\n",
       "      <th>9950</th>\n",
       "      <td>control</td>\n",
       "      <td>NaN</td>\n",
       "    </tr>\n",
       "    <tr>\n",
       "      <th>9951</th>\n",
       "      <td>control</td>\n",
       "      <td>NaN</td>\n",
       "    </tr>\n",
       "    <tr>\n",
       "      <th>9952</th>\n",
       "      <td>control</td>\n",
       "      <td>NaN</td>\n",
       "    </tr>\n",
       "    <tr>\n",
       "      <th>9953</th>\n",
       "      <td>control</td>\n",
       "      <td>NaN</td>\n",
       "    </tr>\n",
       "    <tr>\n",
       "      <th>9954</th>\n",
       "      <td>control</td>\n",
       "      <td>NaN</td>\n",
       "    </tr>\n",
       "    <tr>\n",
       "      <th>9955</th>\n",
       "      <td>control</td>\n",
       "      <td>NaN</td>\n",
       "    </tr>\n",
       "    <tr>\n",
       "      <th>9956</th>\n",
       "      <td>control</td>\n",
       "      <td>NaN</td>\n",
       "    </tr>\n",
       "    <tr>\n",
       "      <th>9957</th>\n",
       "      <td>control</td>\n",
       "      <td>NaN</td>\n",
       "    </tr>\n",
       "    <tr>\n",
       "      <th>9958</th>\n",
       "      <td>control</td>\n",
       "      <td>NaN</td>\n",
       "    </tr>\n",
       "  </tbody>\n",
       "</table>\n",
       "</div>"
      ],
      "text/plain": [
       "      variant converted\n",
       "9944  control       NaN\n",
       "9945  control       NaN\n",
       "9946  control       NaN\n",
       "9947  control       NaN\n",
       "9948  control       NaN\n",
       "9949  control       NaN\n",
       "9950  control       NaN\n",
       "9951  control       NaN\n",
       "9952  control       NaN\n",
       "9953  control       NaN\n",
       "9954  control       NaN\n",
       "9955  control       NaN\n",
       "9956  control       NaN\n",
       "9957  control       NaN\n",
       "9958  control       NaN"
      ]
     },
     "execution_count": 6,
     "metadata": {},
     "output_type": "execute_result"
    }
   ],
   "source": [
    "marketing_campaign.loc[marketing_campaign['converted'].isnull(), ['variant', 'converted']]"
   ]
  },
  {
   "cell_type": "markdown",
   "id": "31e90d60",
   "metadata": {},
   "source": [
    "Пропуски как мы видим есть только в контрольной группе. Так как количество объектов в контрольной больше чем в персонализированной, то можно просто откинуть Nan объекты."
   ]
  },
  {
   "cell_type": "code",
   "execution_count": 7,
   "id": "b58a80c6",
   "metadata": {},
   "outputs": [],
   "source": [
    "marketing_campaign = marketing_campaign.dropna(subset=['converted'])"
   ]
  },
  {
   "cell_type": "markdown",
   "id": "c8e13b96",
   "metadata": {},
   "source": [
    "По заданию нужно понять, а что же лучше, группа контрольная (А) или группа персонализированная (B)? Нужно понять где больше конверсия и понять являются ли различия в конверсии статистически значимымми"
   ]
  },
  {
   "cell_type": "markdown",
   "id": "db4ae7b5",
   "metadata": {},
   "source": [
    "Выборки: $X_{1}^{n_1}$ - контрольная, $X_{2}^{n_2}$ - персонализированная.\n",
    "\n",
    "Метрика: доля (конверсия), $p$\n",
    "\n",
    "Гипотезы: \n",
    "\n",
    "Нулевая гипотеза $H_0$: $p_1 = p_2$ (конверсии совпадают)\n",
    "\n",
    "Альтернативная гипотеза $H_1$: $p_1 \\neq p_2$ (конверсии разные)\n",
    "\n",
    "Статистический критерий: \n",
    "1. Z-критерий Фишера\n",
    "2. Критерий ХИ-квадрат\n",
    "\n",
    "Уровень значимости $\\alpha$: 0.05\n",
    "\n",
    "converted: конверсия в покупку, 1 - пользователь совершил покупку, 0 - нет"
   ]
  },
  {
   "cell_type": "code",
   "execution_count": 8,
   "id": "e4aa9d5e",
   "metadata": {},
   "outputs": [
    {
     "data": {
      "text/plain": [
       "(371, 5076, 705, 4946)"
      ]
     },
     "execution_count": 8,
     "metadata": {},
     "output_type": "execute_result"
    }
   ],
   "source": [
    "z_crit_value = 1.96 # соответствует доверительному интервалу в 95%\n",
    "k1 = (marketing_campaign[marketing_campaign['converted']==True]['variant'] == 'control').sum()\n",
    "n1 = marketing_campaign[marketing_campaign['variant'] == 'control'].shape[0]\n",
    "k2 = (marketing_campaign[marketing_campaign['converted']==True]['variant'] == 'personalization').sum()\n",
    "n2 = marketing_campaign[marketing_campaign['variant'] == 'personalization'].shape[0]\n",
    "\n",
    "k1, n1, k2, n2"
   ]
  },
  {
   "cell_type": "code",
   "execution_count": 9,
   "id": "68e55b90",
   "metadata": {
    "scrolled": true
   },
   "outputs": [
    {
     "data": {
      "text/html": [
       "<div>\n",
       "<style scoped>\n",
       "    .dataframe tbody tr th:only-of-type {\n",
       "        vertical-align: middle;\n",
       "    }\n",
       "\n",
       "    .dataframe tbody tr th {\n",
       "        vertical-align: top;\n",
       "    }\n",
       "\n",
       "    .dataframe thead tr th {\n",
       "        text-align: left;\n",
       "    }\n",
       "\n",
       "    .dataframe thead tr:last-of-type th {\n",
       "        text-align: right;\n",
       "    }\n",
       "</style>\n",
       "<table border=\"1\" class=\"dataframe\">\n",
       "  <thead>\n",
       "    <tr>\n",
       "      <th></th>\n",
       "      <th>sum</th>\n",
       "      <th>count</th>\n",
       "    </tr>\n",
       "    <tr>\n",
       "      <th></th>\n",
       "      <th>converted</th>\n",
       "      <th>converted</th>\n",
       "    </tr>\n",
       "    <tr>\n",
       "      <th>variant</th>\n",
       "      <th></th>\n",
       "      <th></th>\n",
       "    </tr>\n",
       "  </thead>\n",
       "  <tbody>\n",
       "    <tr>\n",
       "      <th>control</th>\n",
       "      <td>371</td>\n",
       "      <td>5076</td>\n",
       "    </tr>\n",
       "    <tr>\n",
       "      <th>personalization</th>\n",
       "      <td>705</td>\n",
       "      <td>4946</td>\n",
       "    </tr>\n",
       "  </tbody>\n",
       "</table>\n",
       "</div>"
      ],
      "text/plain": [
       "                      sum     count\n",
       "                converted converted\n",
       "variant                            \n",
       "control               371      5076\n",
       "personalization       705      4946"
      ]
     },
     "execution_count": 9,
     "metadata": {},
     "output_type": "execute_result"
    }
   ],
   "source": [
    "grouped = marketing_campaign.pivot_table(values='converted', index='variant', aggfunc=['sum', 'count'])\n",
    "grouped"
   ]
  },
  {
   "cell_type": "markdown",
   "id": "b808d462",
   "metadata": {},
   "source": [
    "Расчитываем конверсии для контрольной и персонализированной групп:"
   ]
  },
  {
   "cell_type": "code",
   "execution_count": 10,
   "id": "6fae8553",
   "metadata": {},
   "outputs": [
    {
     "name": "stdout",
     "output_type": "stream",
     "text": [
      "Конверсия А: 0.073; Конверсия B: 0.143\n",
      "A < B\n"
     ]
    }
   ],
   "source": [
    "p1, p2 = k1/n1, k2/n2\n",
    "print(f\"Конверсия А: {p1:.3f}; Конверсия B: {p2:.3f}\")\n",
    "if p1 > p2:\n",
    "    print(\"A > B\")\n",
    "elif p1 == p2:\n",
    "    print(\"A = B\")\n",
    "else:\n",
    "    print(\"A < B\")"
   ]
  },
  {
   "cell_type": "markdown",
   "id": "2bf9956b",
   "metadata": {},
   "source": [
    "Как видим конверсия контрольной группы А ниже чем у персонализированной группы B (которой показывали специальную рекламу). Теперь нужно проверить статистически и убедиться, что полученный результат неслучайный и статистически значимый."
   ]
  },
  {
   "cell_type": "markdown",
   "id": "63ff9e6f",
   "metadata": {},
   "source": [
    "Статистический тест с помощью z-критерия Фишера"
   ]
  },
  {
   "cell_type": "code",
   "execution_count": 11,
   "id": "746c0f32",
   "metadata": {},
   "outputs": [
    {
     "name": "stdout",
     "output_type": "stream",
     "text": [
      "Results are z_score=-11.228 pvalue=0.000\n"
     ]
    }
   ],
   "source": [
    "z_score, z_pvalue = proportion.proportions_ztest(np.array([k1, k2]), np.array([n1, n2]))\n",
    "print(f'Results are z_score={z_score:.3f} pvalue={z_pvalue:.3f}')"
   ]
  },
  {
   "cell_type": "markdown",
   "id": "3a7b3909",
   "metadata": {},
   "source": [
    "Статистический тест с помощью критерия хи-квадрат"
   ]
  },
  {
   "cell_type": "code",
   "execution_count": 12,
   "id": "c603b35d",
   "metadata": {},
   "outputs": [
    {
     "name": "stdout",
     "output_type": "stream",
     "text": [
      "Results are chisq=126.078 pvalue=0.000\n"
     ]
    }
   ],
   "source": [
    "chisq, pvalue, table = proportion.proportions_chisquare(np.array([k1, k2]), np.array([n1, n2]))\n",
    "print(f'Results are chisq={chisq:.3f} pvalue={pvalue:.3f}')"
   ]
  },
  {
   "cell_type": "markdown",
   "id": "17ab1b06",
   "metadata": {},
   "source": [
    "**Вывод:** \n",
    "\n",
    "В обоих статистических тестах $pvalue=0$, это означает, что мы смело отвергаем нулевую гипотезу. Различие имеет статистическую значимость. Конверсия для персонализированный группы выше чем для контрольной группы и это отличие является статистически значимым."
   ]
  },
  {
   "cell_type": "code",
   "execution_count": 13,
   "id": "4667faf9",
   "metadata": {},
   "outputs": [
    {
     "data": {
      "image/png": "[encoded data removed]",
      "text/plain": [
       "<Figure size 500x400 with 1 Axes>"
      ]
     },
     "metadata": {},
     "output_type": "display_data"
    }
   ],
   "source": [
    "plt.figure(figsize=(5, 4))\n",
    "plt.bar([1, 2], grouped['count']['converted'], label='Всего клиентов')\n",
    "plt.bar([1, 2], grouped['sum']['converted'], bottom=grouped['count']['converted'], label='Конверcия')\n",
    "plt.xticks([1, 2], ['control', 'personalization'])\n",
    "plt.legend();"
   ]
  },
  {
   "cell_type": "markdown",
   "id": "b9c0bbcd",
   "metadata": {},
   "source": [
    "## Из методички"
   ]
  },
  {
   "cell_type": "markdown",
   "id": "fc6aaf7c",
   "metadata": {},
   "source": [
    "#### 1. Если мы рассчитали 95% доверительный интервал для среднего значения, то какие из следующих утверждений являются верными?\n",
    "\n",
    "Выберите несколько вариантов и попытайтесь объяснить свой выбор:\n",
    "\n",
    "1) Если многократно повторять эксперимент, то 95 % выборочных средних значений будут принадлежать рассчитанному нами доверительному интервалу.\n",
    "\n",
    "2) Мы можем быть на 95% уверены, что среднее значение в генеральной совокупности принадлежит рассчитанному доверительному интервалу.\n",
    "\n",
    "3) Если многократно повторять эксперимент, для каждой выборки рассчитывать свой доверительный интервал, то в 95 % случаев истинное среднее будет находиться внутри доверительного интервала.\n",
    "\n",
    "4) Среднее значение в генеральной совокупности точно превышает нижнюю границу 95% доверительного интервала.\n",
    "\n",
    "5) Среднее значение в генеральной совокупности точно принадлежит рассчитанному доверительному интервалу."
   ]
  },
  {
   "cell_type": "markdown",
   "id": "9a4873e9",
   "metadata": {},
   "source": [
    "**Ответ:** 2, 3\n",
    "\n",
    "4 и 5 вариант можно сразу исключить поскольку утверждения строгие. Среднее значение в генеральной совокупности может и не превышать нижнюю границу 95% доверительного интервала, а также может и не принадлежать рассчитанному доверительному интервалу.\n",
    "\n",
    "Вариант 1. По условию мы рассчитали 95% доверительный интервал для некой выборочной средней. У нас спрашивают, попадут ли в этот интервал 95% всех выборочных средних. Собственно мы говорим о выборочных средних, а они могут быть какими угодно и нет никакой гарантии, что 95% этих выборочных средних попадут в расчитанный доверительный интервал какого-то выборочного среднего.\n",
    "\n",
    "Однако, можно смело утверждать, что мы можем быть на 95% уверены, что среднее значение в генеральной совокупности будет принадлежать расчитанному доверительному интервалу. Ведь доверительным называют интервал, который покрывает неизвестный параметр с заданной надёжностью (в нашем случае среднее значение в генеральной совокупности - неизвестный параметр).\n",
    "То есть вариант 2 подходит. \n",
    "\n",
    "Вариант 3 очень похож на 2, в нем также расчитывается доверительный интервал для каждой выборки. Как и в пункте 2 истинное значение среднего в генеральной совокупности будет находиться внутри доверительного интервала в 95% случаях."
   ]
  },
  {
   "cell_type": "markdown",
   "id": "dbdf1ee0",
   "metadata": {},
   "source": [
    "#### 2. Если мы увеличиваем объем выборки в два раза (при условии, что показатель стандартного отклонения остается неизменным), то 95% доверительный интервал\n",
    "\n",
    "Выберите один вариант из списка\n",
    "\n",
    "1) стал более узким\n",
    "2) возможны оба варианта\n",
    "3) стал более широким"
   ]
  },
  {
   "cell_type": "markdown",
   "id": "a124d6ad",
   "metadata": {},
   "source": [
    "**Ответ:** 1\n",
    "\n",
    "Среднеквадратичное отклонение (стандартная ошибка) среднего:\n",
    "$$se = \\frac{sd}{\\sqrt{n}}$$\n",
    "\n",
    "Стандартное отклонение не изменилось, а вот размер выборки увеличился в 2 раза. Получается, что с ростом выборки, уменьшается значение среднеквадратичного отклонения среднего. Ошибка меньше, интервал сужается."
   ]
  },
  {
   "cell_type": "markdown",
   "id": "582f8d45",
   "metadata": {},
   "source": [
    "#### 3. В центре 95% доверительного интервала, рассчитанного по выборочным значениям, находится:\n",
    "\n",
    "Выберите один вариант из списка\n",
    "\n",
    "1) Значение стандартной ошибки среднего\n",
    "2) Выборочное среднее значение\n",
    "3) Среднее значение генеральной совокупности"
   ]
  },
  {
   "cell_type": "markdown",
   "id": "8358739d",
   "metadata": {},
   "source": [
    "**Ответ:** 2"
   ]
  },
  {
   "cell_type": "markdown",
   "id": "be60fcce",
   "metadata": {},
   "source": [
    "#### 4. Часто на практике нулевая гипотеза отклоняется, и различия считаются статистически достоверными, если p < 0,05. Однако часто в статистике используется более жесткий критерий достоверности различий, например, при условии, что p < 0,01. Значение p-уровня значимости, которое выбирается, в качестве порога обозначается буквой α (альфа). Например, если исследователь решил, что α = 0,05, то и нулевая гипотеза будет отклоняться при условии, что p < 0,05. \n",
    "\n",
    "#### Если в определенной ситуации весьма рискованно отклонить нулевую гипотезу, когда она на самом деле верна, то лучше использовать показатель α равный \n",
    "\n",
    "Выберите один вариант из списка\n",
    "\n",
    "1) 0,1\n",
    "2) 0,001\n",
    "3) 0,05\n",
    "4) 0,5"
   ]
  },
  {
   "cell_type": "markdown",
   "id": "1efd7ae1",
   "metadata": {},
   "source": [
    "**Ответ:** 2"
   ]
  },
  {
   "cell_type": "markdown",
   "id": "a1d87aba",
   "metadata": {},
   "source": [
    "#### 5. Данные некоторого исследования сообщают нам, что средний рост детей в 14 лет составляет 166 сантиметров. Однако это лишь выборочная оценка, и исследователи рассчитали 95% доверительный интервал, который составил [160, 172]. Укажите верные утверждения:\n",
    "\n",
    "Выберите несколько вариантов и попытайтесь объяснить свой выбор:\n",
    "\n",
    "1) У нас достаточно оснований отклонить нулевую гипотезу, что среднее в генеральной совокупности равняется 173\n",
    "2) Вероятность того, что истинное среднее значение больше 172, составляет 0,01\n",
    "3) У нас достаточно оснований отклонить нулевую гипотезу, что среднее в генеральной совокупности равняется 158.\n",
    "4) Доверительный интервал не может иметь такие границы, т. к. выборочное стандартное отклонение равняется 10, следовательно доверительный интервал должен быть значительно шире."
   ]
  },
  {
   "cell_type": "markdown",
   "id": "dfbba6e3",
   "metadata": {},
   "source": [
    "**Ответ:** 1, 3 \n",
    "\n",
    "Вариант 1. Значение не попало в доверительный интервал - гипотеза отклоняется.<br>\n",
    "Вариант 2. Не факт, что это именно 0,01. Нужен расчет.<br>\n",
    "Вариант 3. Верно, значение выходит за пределы доверительного интервала.<br>\n",
    "Вариант 4. На размер доверительного интервала влияет также, например, размер выборки. Неверно."
   ]
  },
  {
   "cell_type": "markdown",
   "id": "efcba921",
   "metadata": {},
   "source": [
    "#### 6. Предположим, нулевой гипотезой вашего исследования являлось предположение, что конверсия в генеральной совокупности равняется 0.4. Вы получили p = 0,12 и не смогли отклонить нулевую гипотезу. Однако позже выяснилось, что конверсия в генеральной совокупности действиетльно равна 0.4. Как можно оценить результаты?\n",
    "\n",
    "\n",
    "Какой вариант корректный по вашему мнению и почему?\n",
    "1) Вы не совершали ни ошибку первого рода, ни ошибку второго рода.\n",
    "2) Вы совершили ошибку первого рода\n",
    "3) Вы совершили ошибку второго рода"
   ]
  },
  {
   "cell_type": "markdown",
   "id": "646690ac",
   "metadata": {},
   "source": [
    "**Ответ:** 1\n",
    "\n",
    "Ошибка первого рода - когда нулевая гипотеза отвергается, хотя на самом деле она верна! \n",
    "\n",
    "Ошибка второго рода - когда нулевая гипотеза принимается, хотя на самом деле она неверна! \n",
    "\n",
    "Нулевую гипотезу мы не отвергли, но при этом она верна. Ошибки первого рода и второго рода нет."
   ]
  },
  {
   "cell_type": "markdown",
   "id": "656fa6df",
   "metadata": {},
   "source": [
    "---"
   ]
  }
 ],
 "metadata": {
  "kernelspec": {
   "display_name": "Python 3 (ipykernel)",
   "language": "python",
   "name": "python3"
  },
  "language_info": {
   "codemirror_mode": {
    "name": "ipython",
    "version": 3
   },
   "file_extension": ".py",
   "mimetype": "text/x-python",
   "name": "python",
   "nbconvert_exporter": "python",
   "pygments_lexer": "ipython3",
   "version": "3.9.12"
  }
 },
 "nbformat": 4,
 "nbformat_minor": 5
}
