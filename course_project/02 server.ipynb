{
 "cells": [
  {
   "cell_type": "markdown",
   "id": "f9b05d55",
   "metadata": {},
   "source": [
    "# Сервер"
   ]
  },
  {
   "cell_type": "code",
   "execution_count": 1,
   "id": "cadab66d",
   "metadata": {},
   "outputs": [],
   "source": [
    "from flask import Flask, request, jsonify\n",
    "import pandas as pd\n",
    "import dill\n",
    "\n",
    "import warnings\n",
    "warnings.filterwarnings('ignore')"
   ]
  },
  {
   "cell_type": "code",
   "execution_count": 2,
   "id": "5373d46e",
   "metadata": {},
   "outputs": [],
   "source": [
    "MODEL_PATH = 'model/GBR_pipeline.dill'"
   ]
  },
  {
   "cell_type": "code",
   "execution_count": 3,
   "id": "a7dccd24",
   "metadata": {},
   "outputs": [],
   "source": [
    "with open(MODEL_PATH, 'rb') as in_strm:\n",
    "    pipeline = dill.load(in_strm)"
   ]
  },
  {
   "cell_type": "code",
   "execution_count": 4,
   "id": "aee43964",
   "metadata": {},
   "outputs": [],
   "source": [
    "# Обработчики и запуск Flask\n",
    "app = Flask(__name__)\n",
    "\n",
    "@app.route(\"/\", methods=[\"GET\"])\n",
    "def general():\n",
    "    return \"Welcome to prediction process\"\n",
    "\n",
    "@app.route('/predict', methods=['POST'])\n",
    "def predict():\n",
    "    data = {\"success\" : False}\n",
    "\n",
    "    # ensure an image was properly uploaded to our endpoint\n",
    "    prod_year = ''\n",
    "    engine_volume = ''\n",
    "    mileage = ''\n",
    "    cylinders = ''\n",
    "    airbags = ''\n",
    "    \n",
    "    manufacturer = ''\n",
    "    model = ''\n",
    "    category = ''\n",
    "    fuel_type = ''\n",
    "    gear_box_type = ''\n",
    "    drive_wheels = ''\n",
    "    doors = ''\n",
    "    color = ''\n",
    "    \n",
    "    leather_interior = ''\n",
    "    wheel = ''\n",
    "    turbo = ''\n",
    "    \n",
    "    request_json = request.get_json()\n",
    "    \n",
    "    if request_json[\"Prod_year\"]:\n",
    "        prod_year = request_json['Prod_year']\n",
    "    \n",
    "    if request_json[\"Engine_volume\"]:\n",
    "        engine_volume = request_json['Engine_volume']\n",
    "                \n",
    "    if request_json[\"Mileage\"]:\n",
    "        mileage = request_json['Mileage']\n",
    "    \n",
    "    if request_json[\"Cylinders\"]:\n",
    "        cylinders = request_json['Cylinders']\n",
    "    \n",
    "    if request_json[\"Airbags\"]:\n",
    "        airbags = request_json['Airbags']\n",
    "\n",
    "    if request_json[\"Manufacturer\"]:\n",
    "        manufacturer = request_json['Manufacturer']\n",
    "    \n",
    "    if request_json[\"Model\"]:\n",
    "        model = request_json['Model']\n",
    "    \n",
    "    if request_json[\"Category\"]:\n",
    "        category = request_json['Category']\n",
    "                \n",
    "    if request_json[\"Fuel_type\"]:\n",
    "        fuel_type = request_json['Fuel_type']\n",
    "    \n",
    "    if request_json[\"Gear_box_type\"]:\n",
    "        gear_box_type = request_json['Gear_box_type']\n",
    "    \n",
    "    if request_json[\"Drive_wheels\"]:\n",
    "        drive_wheels = request_json['Drive_wheels']\n",
    "                \n",
    "    if request_json[\"Doors\"]:\n",
    "        doors = request_json['Doors']\n",
    "    \n",
    "    if request_json[\"Color\"]:\n",
    "        color = request_json['Color']\n",
    "\n",
    "    if request_json[\"Leather_interior\"]:\n",
    "        leather_interior = request_json['Leather_interior']\n",
    "                \n",
    "    if request_json[\"Wheel\"]:\n",
    "        wheel = request_json['Wheel']\n",
    "    \n",
    "    if request_json[\"Turbo\"]:\n",
    "        turbo = request_json['Turbo']\n",
    "\n",
    "    preds = pipeline.predict(pd.DataFrame({'Prod_year': [prod_year],\n",
    "                                        'Engine_volume': [engine_volume],\n",
    "                                        'Mileage': [mileage],\n",
    "                                        'Cylinders': [cylinders],\n",
    "                                        'Airbags': [airbags],\n",
    "                                        'Manufacturer': [manufacturer],\n",
    "                                        'Model': [model],\n",
    "                                        'Category': [category],\n",
    "                                        'Fuel_type': [fuel_type],\n",
    "                                        'Gear_box_type': [gear_box_type],\n",
    "                                        'Drive_wheels': [drive_wheels],\n",
    "                                        'Doors': [doors],\n",
    "                                        'Color': [color],\n",
    "                                        'Leather_interior': [leather_interior],\n",
    "                                        'Wheel': [wheel],\n",
    "                                        'Turbo': [turbo]\n",
    "                                       }))\n",
    "    \n",
    "    data[\"predictions\"] = preds[0]\n",
    "    data[\"description\"] = f\"{manufacturer} {model} {prod_year} года выпуска\"\n",
    "    # indicate that the request was a success\n",
    "    data[\"success\"] = True\n",
    "    print('OK')\n",
    "\n",
    "    # return the data dictionary as a JSON response\n",
    "    return jsonify(data)"
   ]
  },
  {
   "cell_type": "markdown",
   "id": "82f2f98b",
   "metadata": {},
   "source": [
    "**Run**"
   ]
  },
  {
   "cell_type": "code",
   "execution_count": 5,
   "id": "0cef0b20",
   "metadata": {},
   "outputs": [
    {
     "name": "stdout",
     "output_type": "stream",
     "text": [
      "Loading the model and Flask starting server... please wait until server has fully started\n",
      " * Serving Flask app '__main__'\n",
      " * Debug mode: off\n"
     ]
    },
    {
     "name": "stderr",
     "output_type": "stream",
     "text": [
      "WARNING: This is a development server. Do not use it in a production deployment. Use a production WSGI server instead.\n",
      " * Running on http://127.0.0.1:5000\n",
      "Press CTRL+C to quit\n",
      "127.0.0.1 - - [08/Dec/2022 02:43:56] \"POST /predict HTTP/1.1\" 200 -\n"
     ]
    },
    {
     "name": "stdout",
     "output_type": "stream",
     "text": [
      "OK\n"
     ]
    },
    {
     "name": "stderr",
     "output_type": "stream",
     "text": [
      "127.0.0.1 - - [08/Dec/2022 02:44:06] \"POST /predict HTTP/1.1\" 200 -\n"
     ]
    },
    {
     "name": "stdout",
     "output_type": "stream",
     "text": [
      "OK\n"
     ]
    },
    {
     "name": "stderr",
     "output_type": "stream",
     "text": [
      "127.0.0.1 - - [08/Dec/2022 02:44:15] \"POST /predict HTTP/1.1\" 200 -\n"
     ]
    },
    {
     "name": "stdout",
     "output_type": "stream",
     "text": [
      "OK\n"
     ]
    },
    {
     "name": "stderr",
     "output_type": "stream",
     "text": [
      "127.0.0.1 - - [08/Dec/2022 02:44:24] \"POST /predict HTTP/1.1\" 200 -\n"
     ]
    },
    {
     "name": "stdout",
     "output_type": "stream",
     "text": [
      "OK\n"
     ]
    },
    {
     "name": "stderr",
     "output_type": "stream",
     "text": [
      "127.0.0.1 - - [08/Dec/2022 02:44:34] \"POST /predict HTTP/1.1\" 200 -\n"
     ]
    },
    {
     "name": "stdout",
     "output_type": "stream",
     "text": [
      "OK\n"
     ]
    },
    {
     "name": "stderr",
     "output_type": "stream",
     "text": [
      "127.0.0.1 - - [08/Dec/2022 02:44:43] \"POST /predict HTTP/1.1\" 200 -\n"
     ]
    },
    {
     "name": "stdout",
     "output_type": "stream",
     "text": [
      "OK\n"
     ]
    },
    {
     "name": "stderr",
     "output_type": "stream",
     "text": [
      "127.0.0.1 - - [08/Dec/2022 02:44:53] \"POST /predict HTTP/1.1\" 200 -\n"
     ]
    },
    {
     "name": "stdout",
     "output_type": "stream",
     "text": [
      "OK\n"
     ]
    },
    {
     "name": "stderr",
     "output_type": "stream",
     "text": [
      "127.0.0.1 - - [08/Dec/2022 02:45:02] \"POST /predict HTTP/1.1\" 200 -\n"
     ]
    },
    {
     "name": "stdout",
     "output_type": "stream",
     "text": [
      "OK\n"
     ]
    },
    {
     "name": "stderr",
     "output_type": "stream",
     "text": [
      "127.0.0.1 - - [08/Dec/2022 02:45:12] \"POST /predict HTTP/1.1\" 200 -\n"
     ]
    },
    {
     "name": "stdout",
     "output_type": "stream",
     "text": [
      "OK\n"
     ]
    },
    {
     "name": "stderr",
     "output_type": "stream",
     "text": [
      "127.0.0.1 - - [08/Dec/2022 02:45:21] \"POST /predict HTTP/1.1\" 200 -\n"
     ]
    },
    {
     "name": "stdout",
     "output_type": "stream",
     "text": [
      "OK\n"
     ]
    },
    {
     "name": "stderr",
     "output_type": "stream",
     "text": [
      "127.0.0.1 - - [08/Dec/2022 02:45:31] \"POST /predict HTTP/1.1\" 200 -\n"
     ]
    },
    {
     "name": "stdout",
     "output_type": "stream",
     "text": [
      "OK\n"
     ]
    },
    {
     "name": "stderr",
     "output_type": "stream",
     "text": [
      "127.0.0.1 - - [08/Dec/2022 02:45:40] \"POST /predict HTTP/1.1\" 200 -\n"
     ]
    },
    {
     "name": "stdout",
     "output_type": "stream",
     "text": [
      "OK\n"
     ]
    },
    {
     "name": "stderr",
     "output_type": "stream",
     "text": [
      "127.0.0.1 - - [08/Dec/2022 02:45:49] \"POST /predict HTTP/1.1\" 200 -\n"
     ]
    },
    {
     "name": "stdout",
     "output_type": "stream",
     "text": [
      "OK\n"
     ]
    },
    {
     "name": "stderr",
     "output_type": "stream",
     "text": [
      "127.0.0.1 - - [08/Dec/2022 02:45:59] \"POST /predict HTTP/1.1\" 200 -\n"
     ]
    },
    {
     "name": "stdout",
     "output_type": "stream",
     "text": [
      "OK\n"
     ]
    },
    {
     "name": "stderr",
     "output_type": "stream",
     "text": [
      "127.0.0.1 - - [08/Dec/2022 02:46:09] \"POST /predict HTTP/1.1\" 200 -\n"
     ]
    },
    {
     "name": "stdout",
     "output_type": "stream",
     "text": [
      "OK\n"
     ]
    },
    {
     "name": "stderr",
     "output_type": "stream",
     "text": [
      "127.0.0.1 - - [08/Dec/2022 02:46:19] \"POST /predict HTTP/1.1\" 200 -\n"
     ]
    },
    {
     "name": "stdout",
     "output_type": "stream",
     "text": [
      "OK\n"
     ]
    },
    {
     "name": "stderr",
     "output_type": "stream",
     "text": [
      "127.0.0.1 - - [08/Dec/2022 02:46:29] \"POST /predict HTTP/1.1\" 200 -\n"
     ]
    },
    {
     "name": "stdout",
     "output_type": "stream",
     "text": [
      "OK\n"
     ]
    },
    {
     "name": "stderr",
     "output_type": "stream",
     "text": [
      "127.0.0.1 - - [08/Dec/2022 02:46:39] \"POST /predict HTTP/1.1\" 200 -\n"
     ]
    },
    {
     "name": "stdout",
     "output_type": "stream",
     "text": [
      "OK\n"
     ]
    },
    {
     "name": "stderr",
     "output_type": "stream",
     "text": [
      "127.0.0.1 - - [08/Dec/2022 02:46:49] \"POST /predict HTTP/1.1\" 200 -\n"
     ]
    },
    {
     "name": "stdout",
     "output_type": "stream",
     "text": [
      "OK\n"
     ]
    },
    {
     "name": "stderr",
     "output_type": "stream",
     "text": [
      "127.0.0.1 - - [08/Dec/2022 02:46:58] \"POST /predict HTTP/1.1\" 200 -\n"
     ]
    },
    {
     "name": "stdout",
     "output_type": "stream",
     "text": [
      "OK\n"
     ]
    },
    {
     "name": "stderr",
     "output_type": "stream",
     "text": [
      "127.0.0.1 - - [08/Dec/2022 02:47:08] \"POST /predict HTTP/1.1\" 200 -\n"
     ]
    },
    {
     "name": "stdout",
     "output_type": "stream",
     "text": [
      "OK\n"
     ]
    },
    {
     "name": "stderr",
     "output_type": "stream",
     "text": [
      "127.0.0.1 - - [08/Dec/2022 02:47:18] \"POST /predict HTTP/1.1\" 200 -\n"
     ]
    },
    {
     "name": "stdout",
     "output_type": "stream",
     "text": [
      "OK\n"
     ]
    },
    {
     "name": "stderr",
     "output_type": "stream",
     "text": [
      "127.0.0.1 - - [08/Dec/2022 02:47:28] \"POST /predict HTTP/1.1\" 200 -\n"
     ]
    },
    {
     "name": "stdout",
     "output_type": "stream",
     "text": [
      "OK\n"
     ]
    },
    {
     "name": "stderr",
     "output_type": "stream",
     "text": [
      "127.0.0.1 - - [08/Dec/2022 02:47:37] \"POST /predict HTTP/1.1\" 200 -\n"
     ]
    },
    {
     "name": "stdout",
     "output_type": "stream",
     "text": [
      "OK\n"
     ]
    },
    {
     "name": "stderr",
     "output_type": "stream",
     "text": [
      "127.0.0.1 - - [08/Dec/2022 02:47:49] \"POST /predict HTTP/1.1\" 200 -\n"
     ]
    },
    {
     "name": "stdout",
     "output_type": "stream",
     "text": [
      "OK\n"
     ]
    }
   ],
   "source": [
    "if __name__ == \"__main__\":\n",
    "    print((\"Loading the model and Flask starting server... please wait until server has fully started\"))\n",
    "    app.run()"
   ]
  },
  {
   "cell_type": "markdown",
   "id": "d2b04790",
   "metadata": {},
   "source": [
    "---"
   ]
  }
 ],
 "metadata": {
  "kernelspec": {
   "display_name": "Python 3 (ipykernel)",
   "language": "python",
   "name": "python3"
  },
  "language_info": {
   "codemirror_mode": {
    "name": "ipython",
    "version": 3
   },
   "file_extension": ".py",
   "mimetype": "text/x-python",
   "name": "python",
   "nbconvert_exporter": "python",
   "pygments_lexer": "ipython3",
   "version": "3.9.12"
  }
 },
 "nbformat": 4,
 "nbformat_minor": 5
}
