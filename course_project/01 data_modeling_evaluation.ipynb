{
 "cells": [
  {
   "cell_type": "markdown",
   "id": "6d3106f5",
   "metadata": {},
   "source": [
    "# Итоговый проект по курсу \"Машинное обучение в бизнесе\". <a class='anchor' id='begin'>"
   ]
  },
  {
   "cell_type": "markdown",
   "id": "7bb0e191",
   "metadata": {},
   "source": [
    "## Содержание\n",
    "* [Итоговый проект по курсу \"Машинное обучение в бизнесе\"](#begin) \n",
    "    * [Задание](#task)\n",
    "    * [Загрузка библиотек и PATHS](#load_help)\n",
    "    * [Загрузка данных](#load_data)\n",
    "    * [1. Подготовка данных](#data_preparation)\n",
    "    * [2. Моделирование](#modeling)\n",
    "    * [3. Оценка](#evaluation)"
   ]
  },
  {
   "cell_type": "markdown",
   "id": "2b04a52a",
   "metadata": {},
   "source": [
    "## Задание <a class='anchor' id='task'>"
   ]
  },
  {
   "cell_type": "markdown",
   "id": "3dbd8beb",
   "metadata": {},
   "source": [
    "1. Скачать датасет из Интернета\n",
    "2. Придумать задачу по классификации или регрессии\n",
    "3. Обучить модель\n",
    "4. Оценить модель\n",
    "5. Создать ноутбук с сервером\n",
    "6. Создать ноутбук клиента\n",
    "7. Сделать предсказание с помощью клиент-сервера.\n",
    "\n",
    "В рамках задания был скачан датасет с автомобилями. По данному датасету была поставлена задача предсказания цены автомобиля."
   ]
  },
  {
   "cell_type": "markdown",
   "id": "512db84b",
   "metadata": {},
   "source": [
    "## Загрузка библиотек и PATHS <a class='anchor' id='load_help'>"
   ]
  },
  {
   "cell_type": "code",
   "execution_count": 1,
   "id": "fb47251a",
   "metadata": {},
   "outputs": [],
   "source": [
    "import pandas as pd\n",
    "import numpy as np\n",
    "import dill\n",
    "from sklearn.pipeline import Pipeline, make_pipeline\n",
    "from sklearn.pipeline import FeatureUnion\n",
    "from sklearn.model_selection import train_test_split\n",
    "from sklearn.base import BaseEstimator, TransformerMixin\n",
    "from sklearn.preprocessing import StandardScaler\n",
    "from sklearn.ensemble import GradientBoostingRegressor\n",
    "from sklearn.metrics import mean_squared_error, mean_absolute_error, r2_score\n",
    "\n",
    "import matplotlib.pyplot as plt\n",
    "import seaborn as sns\n",
    "import warnings\n",
    "warnings.filterwarnings('ignore')\n",
    "%matplotlib inline"
   ]
  },
  {
   "cell_type": "code",
   "execution_count": 2,
   "id": "7d9eb391",
   "metadata": {},
   "outputs": [],
   "source": [
    "RAW_DATASET_PATH = 'data/raw/car_price_prediction.csv'\n",
    "PREPARED_DATASET_PATH = 'data/prepared/car_price_prediction_prepared.csv'\n",
    "SPLIT_DATASET_DIR = 'model/dataset/'\n",
    "MODEL_PATH = 'model/GBR_pipeline.dill'\n",
    "TRAIN_PREDICTIONS_PATH = 'predictions/train_predictions.csv'\n",
    "TEST_PREDICTIONS_PATH = 'predictions/test_predictions.csv'"
   ]
  },
  {
   "cell_type": "code",
   "execution_count": 3,
   "id": "824382cd",
   "metadata": {},
   "outputs": [],
   "source": [
    "def evaluate_preds(train_true_values, train_pred_values, test_true_values, test_pred_values):\n",
    "    \"\"\"       \n",
    "    \"\"\"\n",
    "    print(\"Train R2:\\t\" + str(round(r2_score(train_true_values, train_pred_values), 3)))\n",
    "    print(\"Test R2:\\t\" + str(round(r2_score(test_true_values, test_pred_values), 3)))\n",
    "    print()\n",
    "    print(\"Test MSE:\\t\" + str(round(mean_squared_error(test_true_values, test_pred_values), 3)))\n",
    "    print(\"Test MAE:\\t\" + str(round(mean_absolute_error(test_true_values, test_pred_values), 3)))\n",
    "    \n",
    "    plt.figure(figsize=(18,10))\n",
    "    \n",
    "    plt.subplot(121)\n",
    "    sns.scatterplot(x=train_pred_values, y=train_true_values)\n",
    "    plt.xlabel('Predicted values')\n",
    "    plt.ylabel('True values')\n",
    "    plt.title('Train sample prediction')\n",
    "    \n",
    "    plt.subplot(122)\n",
    "    sns.scatterplot(x=test_pred_values, y=test_true_values)\n",
    "    plt.xlabel('Predicted values')\n",
    "    plt.ylabel('True values')\n",
    "    plt.title('Test sample prediction')\n",
    "\n",
    "    plt.show()"
   ]
  },
  {
   "cell_type": "markdown",
   "id": "87d731f3",
   "metadata": {},
   "source": [
    "## Загрузка данных <a class='anchor' id='load_data'>"
   ]
  },
  {
   "cell_type": "markdown",
   "id": "24b341a9",
   "metadata": {},
   "source": [
    "Признаки:\n",
    "\n",
    "1. ID - идентификатор\n",
    "2. Price - цена\n",
    "3. Levy - топливный сбор\n",
    "4. Manufacturer - производитель\n",
    "5. Model - название модели\n",
    "6. Prod. year - год выпуска\n",
    "7. Category - категория автомобиля ('Jeep', 'Hatchback', 'Sedan', 'Microbus', 'Goods wagon', 'Universal', 'Coupe', 'Minivan', 'Cabriolet', 'Limousine', 'Pickup')\n",
    "8. Leather interior - кожаный салон\n",
    "9. Fuel type - топливная система ('Hybrid', 'Petrol', 'Diesel', 'CNG', 'Plug-in Hybrid', 'LPG', 'Hydrogen')\n",
    "10. Engine volume - объем двигателя\n",
    "11. Mileage - пробег\n",
    "11. Cylinders - количетсво цилиндров в двигателе\n",
    "12. Gear box type - тип коробки переключения передач ('Automatic', 'Tiptronic', 'Variator', 'Manual')\n",
    "13. Drive wheels - привод ('4x4', 'Front', 'Rear')\n",
    "14. Doors - количество дверей ('04-May', '02-Mar', '>5')\n",
    "15. Wheel - праворульная или леворульная машина ('Left wheel', 'Right-hand drive')\n",
    "16. Color - цвет\n",
    "17. Airbags - количество подушек безопасности"
   ]
  },
  {
   "cell_type": "code",
   "execution_count": 4,
   "id": "a5861e29",
   "metadata": {},
   "outputs": [
    {
     "data": {
      "text/html": [
       "<div>\n",
       "<style scoped>\n",
       "    .dataframe tbody tr th:only-of-type {\n",
       "        vertical-align: middle;\n",
       "    }\n",
       "\n",
       "    .dataframe tbody tr th {\n",
       "        vertical-align: top;\n",
       "    }\n",
       "\n",
       "    .dataframe thead th {\n",
       "        text-align: right;\n",
       "    }\n",
       "</style>\n",
       "<table border=\"1\" class=\"dataframe\">\n",
       "  <thead>\n",
       "    <tr style=\"text-align: right;\">\n",
       "      <th></th>\n",
       "      <th>ID</th>\n",
       "      <th>Price</th>\n",
       "      <th>Levy</th>\n",
       "      <th>Manufacturer</th>\n",
       "      <th>Model</th>\n",
       "      <th>Prod. year</th>\n",
       "      <th>Category</th>\n",
       "      <th>Leather interior</th>\n",
       "      <th>Fuel type</th>\n",
       "      <th>Engine volume</th>\n",
       "      <th>Mileage</th>\n",
       "      <th>Cylinders</th>\n",
       "      <th>Gear box type</th>\n",
       "      <th>Drive wheels</th>\n",
       "      <th>Doors</th>\n",
       "      <th>Wheel</th>\n",
       "      <th>Color</th>\n",
       "      <th>Airbags</th>\n",
       "    </tr>\n",
       "  </thead>\n",
       "  <tbody>\n",
       "    <tr>\n",
       "      <th>0</th>\n",
       "      <td>45654403</td>\n",
       "      <td>13328</td>\n",
       "      <td>1399</td>\n",
       "      <td>LEXUS</td>\n",
       "      <td>RX 450</td>\n",
       "      <td>2010</td>\n",
       "      <td>Jeep</td>\n",
       "      <td>Yes</td>\n",
       "      <td>Hybrid</td>\n",
       "      <td>3.5</td>\n",
       "      <td>186005 km</td>\n",
       "      <td>6.0</td>\n",
       "      <td>Automatic</td>\n",
       "      <td>4x4</td>\n",
       "      <td>04-May</td>\n",
       "      <td>Left wheel</td>\n",
       "      <td>Silver</td>\n",
       "      <td>12</td>\n",
       "    </tr>\n",
       "    <tr>\n",
       "      <th>1</th>\n",
       "      <td>44731507</td>\n",
       "      <td>16621</td>\n",
       "      <td>1018</td>\n",
       "      <td>CHEVROLET</td>\n",
       "      <td>Equinox</td>\n",
       "      <td>2011</td>\n",
       "      <td>Jeep</td>\n",
       "      <td>No</td>\n",
       "      <td>Petrol</td>\n",
       "      <td>3</td>\n",
       "      <td>192000 km</td>\n",
       "      <td>6.0</td>\n",
       "      <td>Tiptronic</td>\n",
       "      <td>4x4</td>\n",
       "      <td>04-May</td>\n",
       "      <td>Left wheel</td>\n",
       "      <td>Black</td>\n",
       "      <td>8</td>\n",
       "    </tr>\n",
       "    <tr>\n",
       "      <th>2</th>\n",
       "      <td>45774419</td>\n",
       "      <td>8467</td>\n",
       "      <td>-</td>\n",
       "      <td>HONDA</td>\n",
       "      <td>FIT</td>\n",
       "      <td>2006</td>\n",
       "      <td>Hatchback</td>\n",
       "      <td>No</td>\n",
       "      <td>Petrol</td>\n",
       "      <td>1.3</td>\n",
       "      <td>200000 km</td>\n",
       "      <td>4.0</td>\n",
       "      <td>Variator</td>\n",
       "      <td>Front</td>\n",
       "      <td>04-May</td>\n",
       "      <td>Right-hand drive</td>\n",
       "      <td>Black</td>\n",
       "      <td>2</td>\n",
       "    </tr>\n",
       "    <tr>\n",
       "      <th>3</th>\n",
       "      <td>45769185</td>\n",
       "      <td>3607</td>\n",
       "      <td>862</td>\n",
       "      <td>FORD</td>\n",
       "      <td>Escape</td>\n",
       "      <td>2011</td>\n",
       "      <td>Jeep</td>\n",
       "      <td>Yes</td>\n",
       "      <td>Hybrid</td>\n",
       "      <td>2.5</td>\n",
       "      <td>168966 km</td>\n",
       "      <td>4.0</td>\n",
       "      <td>Automatic</td>\n",
       "      <td>4x4</td>\n",
       "      <td>04-May</td>\n",
       "      <td>Left wheel</td>\n",
       "      <td>White</td>\n",
       "      <td>0</td>\n",
       "    </tr>\n",
       "    <tr>\n",
       "      <th>4</th>\n",
       "      <td>45809263</td>\n",
       "      <td>11726</td>\n",
       "      <td>446</td>\n",
       "      <td>HONDA</td>\n",
       "      <td>FIT</td>\n",
       "      <td>2014</td>\n",
       "      <td>Hatchback</td>\n",
       "      <td>Yes</td>\n",
       "      <td>Petrol</td>\n",
       "      <td>1.3</td>\n",
       "      <td>91901 km</td>\n",
       "      <td>4.0</td>\n",
       "      <td>Automatic</td>\n",
       "      <td>Front</td>\n",
       "      <td>04-May</td>\n",
       "      <td>Left wheel</td>\n",
       "      <td>Silver</td>\n",
       "      <td>4</td>\n",
       "    </tr>\n",
       "  </tbody>\n",
       "</table>\n",
       "</div>"
      ],
      "text/plain": [
       "         ID  Price  Levy Manufacturer    Model  Prod. year   Category  \\\n",
       "0  45654403  13328  1399        LEXUS   RX 450        2010       Jeep   \n",
       "1  44731507  16621  1018    CHEVROLET  Equinox        2011       Jeep   \n",
       "2  45774419   8467     -        HONDA      FIT        2006  Hatchback   \n",
       "3  45769185   3607   862         FORD   Escape        2011       Jeep   \n",
       "4  45809263  11726   446        HONDA      FIT        2014  Hatchback   \n",
       "\n",
       "  Leather interior Fuel type Engine volume    Mileage  Cylinders  \\\n",
       "0              Yes    Hybrid           3.5  186005 km        6.0   \n",
       "1               No    Petrol             3  192000 km        6.0   \n",
       "2               No    Petrol           1.3  200000 km        4.0   \n",
       "3              Yes    Hybrid           2.5  168966 km        4.0   \n",
       "4              Yes    Petrol           1.3   91901 km        4.0   \n",
       "\n",
       "  Gear box type Drive wheels   Doors             Wheel   Color  Airbags  \n",
       "0     Automatic          4x4  04-May        Left wheel  Silver       12  \n",
       "1     Tiptronic          4x4  04-May        Left wheel   Black        8  \n",
       "2      Variator        Front  04-May  Right-hand drive   Black        2  \n",
       "3     Automatic          4x4  04-May        Left wheel   White        0  \n",
       "4     Automatic        Front  04-May        Left wheel  Silver        4  "
      ]
     },
     "execution_count": 4,
     "metadata": {},
     "output_type": "execute_result"
    }
   ],
   "source": [
    "df = pd.read_csv(RAW_DATASET_PATH)\n",
    "df.head()"
   ]
  },
  {
   "cell_type": "markdown",
   "id": "efcb34a0",
   "metadata": {},
   "source": [
    "## 1. Подготовка данных <a class='anchor' id='data_preparation'>"
   ]
  },
  {
   "cell_type": "markdown",
   "id": "52ddab50",
   "metadata": {},
   "source": [
    "### Преобразование формата "
   ]
  },
  {
   "cell_type": "markdown",
   "id": "00083f52",
   "metadata": {},
   "source": [
    "Избавимся от пробелов в названиях признаков"
   ]
  },
  {
   "cell_type": "code",
   "execution_count": 5,
   "id": "f4598d98",
   "metadata": {},
   "outputs": [],
   "source": [
    "df.rename(columns={'Engine volume': 'Engine_volume'}, inplace=True)\n",
    "df.rename(columns={'Prod. year': 'Prod_year'}, inplace=True)\n",
    "df.rename(columns={'Leather interior': 'Leather_interior'}, inplace=True)\n",
    "df.rename(columns={'Fuel type': 'Fuel_type'}, inplace=True)\n",
    "df.rename(columns={'Gear box type': 'Gear_box_type'}, inplace=True)\n",
    "df.rename(columns={'Drive wheels': 'Drive_wheels'}, inplace=True)"
   ]
  },
  {
   "cell_type": "code",
   "execution_count": 6,
   "id": "12762415",
   "metadata": {
    "scrolled": false
   },
   "outputs": [
    {
     "data": {
      "text/html": [
       "<div>\n",
       "<style scoped>\n",
       "    .dataframe tbody tr th:only-of-type {\n",
       "        vertical-align: middle;\n",
       "    }\n",
       "\n",
       "    .dataframe tbody tr th {\n",
       "        vertical-align: top;\n",
       "    }\n",
       "\n",
       "    .dataframe thead th {\n",
       "        text-align: right;\n",
       "    }\n",
       "</style>\n",
       "<table border=\"1\" class=\"dataframe\">\n",
       "  <thead>\n",
       "    <tr style=\"text-align: right;\">\n",
       "      <th></th>\n",
       "      <th>ID</th>\n",
       "      <th>Price</th>\n",
       "      <th>Levy</th>\n",
       "      <th>Manufacturer</th>\n",
       "      <th>Model</th>\n",
       "      <th>Prod_year</th>\n",
       "      <th>Category</th>\n",
       "      <th>Leather_interior</th>\n",
       "      <th>Fuel_type</th>\n",
       "      <th>Engine_volume</th>\n",
       "      <th>Mileage</th>\n",
       "      <th>Cylinders</th>\n",
       "      <th>Gear_box_type</th>\n",
       "      <th>Drive_wheels</th>\n",
       "      <th>Doors</th>\n",
       "      <th>Wheel</th>\n",
       "      <th>Color</th>\n",
       "      <th>Airbags</th>\n",
       "    </tr>\n",
       "  </thead>\n",
       "  <tbody>\n",
       "    <tr>\n",
       "      <th>0</th>\n",
       "      <td>45654403</td>\n",
       "      <td>13328</td>\n",
       "      <td>1399</td>\n",
       "      <td>LEXUS</td>\n",
       "      <td>RX 450</td>\n",
       "      <td>2010</td>\n",
       "      <td>Jeep</td>\n",
       "      <td>Yes</td>\n",
       "      <td>Hybrid</td>\n",
       "      <td>3.5</td>\n",
       "      <td>186005 km</td>\n",
       "      <td>6.0</td>\n",
       "      <td>Automatic</td>\n",
       "      <td>4x4</td>\n",
       "      <td>04-May</td>\n",
       "      <td>Left wheel</td>\n",
       "      <td>Silver</td>\n",
       "      <td>12</td>\n",
       "    </tr>\n",
       "    <tr>\n",
       "      <th>1</th>\n",
       "      <td>44731507</td>\n",
       "      <td>16621</td>\n",
       "      <td>1018</td>\n",
       "      <td>CHEVROLET</td>\n",
       "      <td>Equinox</td>\n",
       "      <td>2011</td>\n",
       "      <td>Jeep</td>\n",
       "      <td>No</td>\n",
       "      <td>Petrol</td>\n",
       "      <td>3</td>\n",
       "      <td>192000 km</td>\n",
       "      <td>6.0</td>\n",
       "      <td>Tiptronic</td>\n",
       "      <td>4x4</td>\n",
       "      <td>04-May</td>\n",
       "      <td>Left wheel</td>\n",
       "      <td>Black</td>\n",
       "      <td>8</td>\n",
       "    </tr>\n",
       "  </tbody>\n",
       "</table>\n",
       "</div>"
      ],
      "text/plain": [
       "         ID  Price  Levy Manufacturer    Model  Prod_year Category  \\\n",
       "0  45654403  13328  1399        LEXUS   RX 450       2010     Jeep   \n",
       "1  44731507  16621  1018    CHEVROLET  Equinox       2011     Jeep   \n",
       "\n",
       "  Leather_interior Fuel_type Engine_volume    Mileage  Cylinders  \\\n",
       "0              Yes    Hybrid           3.5  186005 km        6.0   \n",
       "1               No    Petrol             3  192000 km        6.0   \n",
       "\n",
       "  Gear_box_type Drive_wheels   Doors       Wheel   Color  Airbags  \n",
       "0     Automatic          4x4  04-May  Left wheel  Silver       12  \n",
       "1     Tiptronic          4x4  04-May  Left wheel   Black        8  "
      ]
     },
     "execution_count": 6,
     "metadata": {},
     "output_type": "execute_result"
    }
   ],
   "source": [
    "df.head(2)"
   ]
  },
  {
   "cell_type": "markdown",
   "id": "d89446e8",
   "metadata": {},
   "source": [
    "В признаке Engine_volume иногда встречается приписка Turbo. Это означает, что двигатель имеет турбонадув, в теории эта информация может повлиять на цену, поэтому сохраним ее в отдельный столбец 'Turbo'. "
   ]
  },
  {
   "cell_type": "code",
   "execution_count": 7,
   "id": "0d8dfa80",
   "metadata": {},
   "outputs": [],
   "source": [
    "df['Turbo'] = df['Engine_volume'].str.contains(\"Turbo\")"
   ]
  },
  {
   "cell_type": "code",
   "execution_count": 8,
   "id": "e940e204",
   "metadata": {},
   "outputs": [
    {
     "data": {
      "text/plain": [
       "False    17306\n",
       "True      1931\n",
       "Name: Turbo, dtype: int64"
      ]
     },
     "execution_count": 8,
     "metadata": {},
     "output_type": "execute_result"
    }
   ],
   "source": [
    "df['Turbo'].value_counts()"
   ]
  },
  {
   "cell_type": "markdown",
   "id": "6e8b8bf7",
   "metadata": {},
   "source": [
    "И почистим сам признак Engine_volume от Turbo"
   ]
  },
  {
   "cell_type": "code",
   "execution_count": 9,
   "id": "febd652b",
   "metadata": {},
   "outputs": [],
   "source": [
    "for i in df['Engine_volume']:\n",
    "    if i.endswith(\"Turbo\"):\n",
    "        df.loc[df['Engine_volume'] == i, 'Engine_volume'] = i[:-6]\n",
    "    \n",
    "df['Engine_volume'] = pd.to_numeric(df['Engine_volume'])"
   ]
  },
  {
   "cell_type": "markdown",
   "id": "cb2d8312",
   "metadata": {},
   "source": [
    "Убираем приписку km у призника Mileage"
   ]
  },
  {
   "cell_type": "code",
   "execution_count": 10,
   "id": "06e52396",
   "metadata": {},
   "outputs": [],
   "source": [
    "df['Mileage'] = df['Mileage'].str[:-3]\n",
    "df['Mileage'] = pd.to_numeric(df['Mileage'])"
   ]
  },
  {
   "cell_type": "markdown",
   "id": "f97a3be4",
   "metadata": {},
   "source": [
    "### Анализ данных"
   ]
  },
  {
   "cell_type": "markdown",
   "id": "d7987645",
   "metadata": {},
   "source": [
    "Проверим пропуски"
   ]
  },
  {
   "cell_type": "code",
   "execution_count": 11,
   "id": "6eac3790",
   "metadata": {},
   "outputs": [
    {
     "name": "stdout",
     "output_type": "stream",
     "text": [
      "<class 'pandas.core.frame.DataFrame'>\n",
      "RangeIndex: 19237 entries, 0 to 19236\n",
      "Data columns (total 19 columns):\n",
      " #   Column            Non-Null Count  Dtype  \n",
      "---  ------            --------------  -----  \n",
      " 0   ID                19237 non-null  int64  \n",
      " 1   Price             19237 non-null  int64  \n",
      " 2   Levy              19237 non-null  object \n",
      " 3   Manufacturer      19237 non-null  object \n",
      " 4   Model             19237 non-null  object \n",
      " 5   Prod_year         19237 non-null  int64  \n",
      " 6   Category          19237 non-null  object \n",
      " 7   Leather_interior  19237 non-null  object \n",
      " 8   Fuel_type         19237 non-null  object \n",
      " 9   Engine_volume     19237 non-null  float64\n",
      " 10  Mileage           19237 non-null  int64  \n",
      " 11  Cylinders         19237 non-null  float64\n",
      " 12  Gear_box_type     19237 non-null  object \n",
      " 13  Drive_wheels      19237 non-null  object \n",
      " 14  Doors             19237 non-null  object \n",
      " 15  Wheel             19237 non-null  object \n",
      " 16  Color             19237 non-null  object \n",
      " 17  Airbags           19237 non-null  int64  \n",
      " 18  Turbo             19237 non-null  bool   \n",
      "dtypes: bool(1), float64(2), int64(5), object(11)\n",
      "memory usage: 2.7+ MB\n"
     ]
    }
   ],
   "source": [
    "df.info()"
   ]
  },
  {
   "cell_type": "markdown",
   "id": "ad90c5b1",
   "metadata": {},
   "source": [
    "Пропусков не обнаружено. Поделим признаки на группы:"
   ]
  },
  {
   "cell_type": "code",
   "execution_count": 12,
   "id": "305ace09",
   "metadata": {},
   "outputs": [],
   "source": [
    "num_features = ['Levy', 'Prod_year', 'Engine_volume', 'Mileage', 'Cylinders', 'Airbags']\n",
    "cat_features = ['Manufacturer', 'Model', \"Category\", 'Fuel_type', 'Gear_box_type', 'Drive_wheels', 'Doors', 'Color']\n",
    "bin_features = ['Leather_interior', 'Wheel', 'Turbo']\n",
    "target = ['Price']"
   ]
  },
  {
   "cell_type": "markdown",
   "id": "4a56aa4b",
   "metadata": {},
   "source": [
    "**Целевой признак**"
   ]
  },
  {
   "cell_type": "code",
   "execution_count": 13,
   "id": "eac22609",
   "metadata": {
    "scrolled": false
   },
   "outputs": [
    {
     "data": {
      "image/png": "[encoded data removed]",
      "text/plain": [
       "<Figure size 800x400 with 1 Axes>"
      ]
     },
     "metadata": {},
     "output_type": "display_data"
    }
   ],
   "source": [
    "target_df = df[target]\n",
    "target_df.hist(figsize=(8,4), bins=20, grid=False)\n",
    "plt.show()"
   ]
  },
  {
   "cell_type": "code",
   "execution_count": 14,
   "id": "3552d5c2",
   "metadata": {
    "scrolled": true
   },
   "outputs": [
    {
     "data": {
      "text/html": [
       "<div>\n",
       "<style scoped>\n",
       "    .dataframe tbody tr th:only-of-type {\n",
       "        vertical-align: middle;\n",
       "    }\n",
       "\n",
       "    .dataframe tbody tr th {\n",
       "        vertical-align: top;\n",
       "    }\n",
       "\n",
       "    .dataframe thead th {\n",
       "        text-align: right;\n",
       "    }\n",
       "</style>\n",
       "<table border=\"1\" class=\"dataframe\">\n",
       "  <thead>\n",
       "    <tr style=\"text-align: right;\">\n",
       "      <th></th>\n",
       "      <th>Price</th>\n",
       "    </tr>\n",
       "  </thead>\n",
       "  <tbody>\n",
       "    <tr>\n",
       "      <th>count</th>\n",
       "      <td>1.923700e+04</td>\n",
       "    </tr>\n",
       "    <tr>\n",
       "      <th>mean</th>\n",
       "      <td>1.855593e+04</td>\n",
       "    </tr>\n",
       "    <tr>\n",
       "      <th>std</th>\n",
       "      <td>1.905813e+05</td>\n",
       "    </tr>\n",
       "    <tr>\n",
       "      <th>min</th>\n",
       "      <td>1.000000e+00</td>\n",
       "    </tr>\n",
       "    <tr>\n",
       "      <th>25%</th>\n",
       "      <td>5.331000e+03</td>\n",
       "    </tr>\n",
       "    <tr>\n",
       "      <th>50%</th>\n",
       "      <td>1.317200e+04</td>\n",
       "    </tr>\n",
       "    <tr>\n",
       "      <th>75%</th>\n",
       "      <td>2.207500e+04</td>\n",
       "    </tr>\n",
       "    <tr>\n",
       "      <th>max</th>\n",
       "      <td>2.630750e+07</td>\n",
       "    </tr>\n",
       "  </tbody>\n",
       "</table>\n",
       "</div>"
      ],
      "text/plain": [
       "              Price\n",
       "count  1.923700e+04\n",
       "mean   1.855593e+04\n",
       "std    1.905813e+05\n",
       "min    1.000000e+00\n",
       "25%    5.331000e+03\n",
       "50%    1.317200e+04\n",
       "75%    2.207500e+04\n",
       "max    2.630750e+07"
      ]
     },
     "execution_count": 14,
     "metadata": {},
     "output_type": "execute_result"
    }
   ],
   "source": [
    "target_df.describe()"
   ]
  },
  {
   "cell_type": "code",
   "execution_count": 15,
   "id": "fafc3abb",
   "metadata": {},
   "outputs": [
    {
     "data": {
      "text/plain": [
       "Price     \n",
       "627220.0      1\n",
       "872946.0      1\n",
       "26307500.0    1\n",
       "dtype: int64"
      ]
     },
     "execution_count": 15,
     "metadata": {},
     "output_type": "execute_result"
    }
   ],
   "source": [
    "target_df[target_df > 310000].value_counts()"
   ]
  },
  {
   "cell_type": "markdown",
   "id": "44855ee2",
   "metadata": {},
   "source": [
    "Видим, что есть выбросы"
   ]
  },
  {
   "cell_type": "code",
   "execution_count": 16,
   "id": "447a81e6",
   "metadata": {},
   "outputs": [
    {
     "data": {
      "image/png": "[encoded data removed]",
      "text/plain": [
       "<Figure size 800x400 with 1 Axes>"
      ]
     },
     "metadata": {},
     "output_type": "display_data"
    }
   ],
   "source": [
    "target_df = df[df[target] < 150000][target]\n",
    "target_df.hist(figsize=(8,4), bins=32, grid=False)\n",
    "plt.show()"
   ]
  },
  {
   "cell_type": "markdown",
   "id": "0ce87a18",
   "metadata": {},
   "source": [
    "**Вещественные признаки**"
   ]
  },
  {
   "cell_type": "code",
   "execution_count": 17,
   "id": "437dce38",
   "metadata": {
    "scrolled": false
   },
   "outputs": [
    {
     "data": {
      "image/png": "[encoded data removed]",
      "text/plain": [
       "<Figure size 1600x1000 with 6 Axes>"
      ]
     },
     "metadata": {},
     "output_type": "display_data"
    }
   ],
   "source": [
    "dftr_num_features = df[num_features]\n",
    "dftr_num_features.hist(figsize=(16,10), bins=20, grid=False)\n",
    "plt.show()"
   ]
  },
  {
   "cell_type": "markdown",
   "id": "b1a3c8fd",
   "metadata": {},
   "source": [
    "Видим, что есть выбросы"
   ]
  },
  {
   "cell_type": "code",
   "execution_count": 18,
   "id": "20d5d594",
   "metadata": {},
   "outputs": [
    {
     "data": {
      "text/plain": [
       "4.0     14367\n",
       "6.0      3462\n",
       "8.0       991\n",
       "5.0       169\n",
       "3.0       107\n",
       "2.0        42\n",
       "1.0        38\n",
       "12.0       38\n",
       "10.0       12\n",
       "16.0        5\n",
       "7.0         4\n",
       "9.0         1\n",
       "14.0        1\n",
       "Name: Cylinders, dtype: int64"
      ]
     },
     "execution_count": 18,
     "metadata": {},
     "output_type": "execute_result"
    }
   ],
   "source": [
    "df['Cylinders'].value_counts()"
   ]
  },
  {
   "cell_type": "code",
   "execution_count": 19,
   "id": "796dfe22",
   "metadata": {
    "scrolled": true
   },
   "outputs": [
    {
     "data": {
      "text/html": [
       "<div>\n",
       "<style scoped>\n",
       "    .dataframe tbody tr th:only-of-type {\n",
       "        vertical-align: middle;\n",
       "    }\n",
       "\n",
       "    .dataframe tbody tr th {\n",
       "        vertical-align: top;\n",
       "    }\n",
       "\n",
       "    .dataframe thead th {\n",
       "        text-align: right;\n",
       "    }\n",
       "</style>\n",
       "<table border=\"1\" class=\"dataframe\">\n",
       "  <thead>\n",
       "    <tr style=\"text-align: right;\">\n",
       "      <th></th>\n",
       "      <th>ID</th>\n",
       "      <th>Price</th>\n",
       "      <th>Levy</th>\n",
       "      <th>Manufacturer</th>\n",
       "      <th>Model</th>\n",
       "      <th>Prod_year</th>\n",
       "      <th>Category</th>\n",
       "      <th>Leather_interior</th>\n",
       "      <th>Fuel_type</th>\n",
       "      <th>Engine_volume</th>\n",
       "      <th>Mileage</th>\n",
       "      <th>Cylinders</th>\n",
       "      <th>Gear_box_type</th>\n",
       "      <th>Drive_wheels</th>\n",
       "      <th>Doors</th>\n",
       "      <th>Wheel</th>\n",
       "      <th>Color</th>\n",
       "      <th>Airbags</th>\n",
       "      <th>Turbo</th>\n",
       "    </tr>\n",
       "  </thead>\n",
       "  <tbody>\n",
       "    <tr>\n",
       "      <th>456</th>\n",
       "      <td>45773579</td>\n",
       "      <td>11604</td>\n",
       "      <td>993</td>\n",
       "      <td>OPEL</td>\n",
       "      <td>Astra</td>\n",
       "      <td>2006</td>\n",
       "      <td>Goods wagon</td>\n",
       "      <td>No</td>\n",
       "      <td>Diesel</td>\n",
       "      <td>1.3</td>\n",
       "      <td>27000</td>\n",
       "      <td>16.0</td>\n",
       "      <td>Manual</td>\n",
       "      <td>Front</td>\n",
       "      <td>04-May</td>\n",
       "      <td>Left wheel</td>\n",
       "      <td>Black</td>\n",
       "      <td>8</td>\n",
       "      <td>True</td>\n",
       "    </tr>\n",
       "    <tr>\n",
       "      <th>1917</th>\n",
       "      <td>45768286</td>\n",
       "      <td>7000</td>\n",
       "      <td>-</td>\n",
       "      <td>HONDA</td>\n",
       "      <td>Fit Aria</td>\n",
       "      <td>2003</td>\n",
       "      <td>Hatchback</td>\n",
       "      <td>No</td>\n",
       "      <td>Petrol</td>\n",
       "      <td>1.5</td>\n",
       "      <td>140203</td>\n",
       "      <td>16.0</td>\n",
       "      <td>Automatic</td>\n",
       "      <td>Front</td>\n",
       "      <td>04-May</td>\n",
       "      <td>Right-hand drive</td>\n",
       "      <td>Silver</td>\n",
       "      <td>2</td>\n",
       "      <td>True</td>\n",
       "    </tr>\n",
       "    <tr>\n",
       "      <th>6863</th>\n",
       "      <td>45802046</td>\n",
       "      <td>21953</td>\n",
       "      <td>-</td>\n",
       "      <td>HYUNDAI</td>\n",
       "      <td>Elantra</td>\n",
       "      <td>2016</td>\n",
       "      <td>Sedan</td>\n",
       "      <td>Yes</td>\n",
       "      <td>Petrol</td>\n",
       "      <td>1.8</td>\n",
       "      <td>69000</td>\n",
       "      <td>16.0</td>\n",
       "      <td>Automatic</td>\n",
       "      <td>Front</td>\n",
       "      <td>04-May</td>\n",
       "      <td>Left wheel</td>\n",
       "      <td>Silver</td>\n",
       "      <td>16</td>\n",
       "      <td>False</td>\n",
       "    </tr>\n",
       "    <tr>\n",
       "      <th>8358</th>\n",
       "      <td>45797531</td>\n",
       "      <td>15681</td>\n",
       "      <td>966</td>\n",
       "      <td>CHEVROLET</td>\n",
       "      <td>Lacetti</td>\n",
       "      <td>2009</td>\n",
       "      <td>Sedan</td>\n",
       "      <td>Yes</td>\n",
       "      <td>Diesel</td>\n",
       "      <td>2.0</td>\n",
       "      <td>6500</td>\n",
       "      <td>14.0</td>\n",
       "      <td>Automatic</td>\n",
       "      <td>Front</td>\n",
       "      <td>04-May</td>\n",
       "      <td>Left wheel</td>\n",
       "      <td>White</td>\n",
       "      <td>8</td>\n",
       "      <td>False</td>\n",
       "    </tr>\n",
       "    <tr>\n",
       "      <th>12550</th>\n",
       "      <td>45770557</td>\n",
       "      <td>39829</td>\n",
       "      <td>-</td>\n",
       "      <td>BMW</td>\n",
       "      <td>X6</td>\n",
       "      <td>2009</td>\n",
       "      <td>Jeep</td>\n",
       "      <td>Yes</td>\n",
       "      <td>Petrol</td>\n",
       "      <td>3.5</td>\n",
       "      <td>152000</td>\n",
       "      <td>16.0</td>\n",
       "      <td>Tiptronic</td>\n",
       "      <td>4x4</td>\n",
       "      <td>04-May</td>\n",
       "      <td>Left wheel</td>\n",
       "      <td>Grey</td>\n",
       "      <td>16</td>\n",
       "      <td>True</td>\n",
       "    </tr>\n",
       "    <tr>\n",
       "      <th>16487</th>\n",
       "      <td>45772894</td>\n",
       "      <td>7213</td>\n",
       "      <td>-</td>\n",
       "      <td>OPEL</td>\n",
       "      <td>Combo</td>\n",
       "      <td>2001</td>\n",
       "      <td>Goods wagon</td>\n",
       "      <td>No</td>\n",
       "      <td>Diesel</td>\n",
       "      <td>1.7</td>\n",
       "      <td>242701</td>\n",
       "      <td>16.0</td>\n",
       "      <td>Manual</td>\n",
       "      <td>Front</td>\n",
       "      <td>02-Mar</td>\n",
       "      <td>Left wheel</td>\n",
       "      <td>Blue</td>\n",
       "      <td>2</td>\n",
       "      <td>True</td>\n",
       "    </tr>\n",
       "  </tbody>\n",
       "</table>\n",
       "</div>"
      ],
      "text/plain": [
       "             ID  Price Levy Manufacturer     Model  Prod_year     Category  \\\n",
       "456    45773579  11604  993         OPEL     Astra       2006  Goods wagon   \n",
       "1917   45768286   7000    -        HONDA  Fit Aria       2003    Hatchback   \n",
       "6863   45802046  21953    -      HYUNDAI   Elantra       2016        Sedan   \n",
       "8358   45797531  15681  966    CHEVROLET   Lacetti       2009        Sedan   \n",
       "12550  45770557  39829    -          BMW        X6       2009         Jeep   \n",
       "16487  45772894   7213    -         OPEL     Combo       2001  Goods wagon   \n",
       "\n",
       "      Leather_interior Fuel_type  Engine_volume  Mileage  Cylinders  \\\n",
       "456                 No    Diesel            1.3    27000       16.0   \n",
       "1917                No    Petrol            1.5   140203       16.0   \n",
       "6863               Yes    Petrol            1.8    69000       16.0   \n",
       "8358               Yes    Diesel            2.0     6500       14.0   \n",
       "12550              Yes    Petrol            3.5   152000       16.0   \n",
       "16487               No    Diesel            1.7   242701       16.0   \n",
       "\n",
       "      Gear_box_type Drive_wheels   Doors             Wheel   Color  Airbags  \\\n",
       "456          Manual        Front  04-May        Left wheel   Black        8   \n",
       "1917      Automatic        Front  04-May  Right-hand drive  Silver        2   \n",
       "6863      Automatic        Front  04-May        Left wheel  Silver       16   \n",
       "8358      Automatic        Front  04-May        Left wheel   White        8   \n",
       "12550     Tiptronic          4x4  04-May        Left wheel    Grey       16   \n",
       "16487        Manual        Front  02-Mar        Left wheel    Blue        2   \n",
       "\n",
       "       Turbo  \n",
       "456     True  \n",
       "1917    True  \n",
       "6863   False  \n",
       "8358   False  \n",
       "12550   True  \n",
       "16487   True  "
      ]
     },
     "execution_count": 19,
     "metadata": {},
     "output_type": "execute_result"
    }
   ],
   "source": [
    "df[df['Cylinders'] > 12]"
   ]
  },
  {
   "cell_type": "code",
   "execution_count": 20,
   "id": "11ad6808",
   "metadata": {
    "scrolled": true
   },
   "outputs": [
    {
     "data": {
      "text/html": [
       "<div>\n",
       "<style scoped>\n",
       "    .dataframe tbody tr th:only-of-type {\n",
       "        vertical-align: middle;\n",
       "    }\n",
       "\n",
       "    .dataframe tbody tr th {\n",
       "        vertical-align: top;\n",
       "    }\n",
       "\n",
       "    .dataframe thead th {\n",
       "        text-align: right;\n",
       "    }\n",
       "</style>\n",
       "<table border=\"1\" class=\"dataframe\">\n",
       "  <thead>\n",
       "    <tr style=\"text-align: right;\">\n",
       "      <th></th>\n",
       "      <th>ID</th>\n",
       "      <th>Price</th>\n",
       "      <th>Levy</th>\n",
       "      <th>Manufacturer</th>\n",
       "      <th>Model</th>\n",
       "      <th>Prod_year</th>\n",
       "      <th>Category</th>\n",
       "      <th>Leather_interior</th>\n",
       "      <th>Fuel_type</th>\n",
       "      <th>Engine_volume</th>\n",
       "      <th>Mileage</th>\n",
       "      <th>Cylinders</th>\n",
       "      <th>Gear_box_type</th>\n",
       "      <th>Drive_wheels</th>\n",
       "      <th>Doors</th>\n",
       "      <th>Wheel</th>\n",
       "      <th>Color</th>\n",
       "      <th>Airbags</th>\n",
       "      <th>Turbo</th>\n",
       "    </tr>\n",
       "  </thead>\n",
       "  <tbody>\n",
       "    <tr>\n",
       "      <th>2357</th>\n",
       "      <td>45803214</td>\n",
       "      <td>10036</td>\n",
       "      <td>5603</td>\n",
       "      <td>HYUNDAI</td>\n",
       "      <td>Sonata</td>\n",
       "      <td>2014</td>\n",
       "      <td>Sedan</td>\n",
       "      <td>Yes</td>\n",
       "      <td>LPG</td>\n",
       "      <td>20.0</td>\n",
       "      <td>333686</td>\n",
       "      <td>4.0</td>\n",
       "      <td>Automatic</td>\n",
       "      <td>Front</td>\n",
       "      <td>04-May</td>\n",
       "      <td>Left wheel</td>\n",
       "      <td>Silver</td>\n",
       "      <td>4</td>\n",
       "      <td>False</td>\n",
       "    </tr>\n",
       "    <tr>\n",
       "      <th>17777</th>\n",
       "      <td>45732659</td>\n",
       "      <td>10036</td>\n",
       "      <td>5603</td>\n",
       "      <td>HYUNDAI</td>\n",
       "      <td>Sonata</td>\n",
       "      <td>2014</td>\n",
       "      <td>Sedan</td>\n",
       "      <td>Yes</td>\n",
       "      <td>LPG</td>\n",
       "      <td>20.0</td>\n",
       "      <td>333686</td>\n",
       "      <td>4.0</td>\n",
       "      <td>Automatic</td>\n",
       "      <td>Front</td>\n",
       "      <td>04-May</td>\n",
       "      <td>Left wheel</td>\n",
       "      <td>Silver</td>\n",
       "      <td>4</td>\n",
       "      <td>False</td>\n",
       "    </tr>\n",
       "  </tbody>\n",
       "</table>\n",
       "</div>"
      ],
      "text/plain": [
       "             ID  Price  Levy Manufacturer   Model  Prod_year Category  \\\n",
       "2357   45803214  10036  5603      HYUNDAI  Sonata       2014    Sedan   \n",
       "17777  45732659  10036  5603      HYUNDAI  Sonata       2014    Sedan   \n",
       "\n",
       "      Leather_interior Fuel_type  Engine_volume  Mileage  Cylinders  \\\n",
       "2357               Yes       LPG           20.0   333686        4.0   \n",
       "17777              Yes       LPG           20.0   333686        4.0   \n",
       "\n",
       "      Gear_box_type Drive_wheels   Doors       Wheel   Color  Airbags  Turbo  \n",
       "2357      Automatic        Front  04-May  Left wheel  Silver        4  False  \n",
       "17777     Automatic        Front  04-May  Left wheel  Silver        4  False  "
      ]
     },
     "execution_count": 20,
     "metadata": {},
     "output_type": "execute_result"
    }
   ],
   "source": [
    "df[df['Engine_volume'] > 8]"
   ]
  },
  {
   "cell_type": "code",
   "execution_count": 21,
   "id": "47e83467",
   "metadata": {
    "scrolled": true
   },
   "outputs": [
    {
     "data": {
      "text/plain": [
       "count    1.923700e+04\n",
       "mean     1.532236e+06\n",
       "std      4.840387e+07\n",
       "min      0.000000e+00\n",
       "25%      7.013900e+04\n",
       "50%      1.260000e+05\n",
       "75%      1.888880e+05\n",
       "max      2.147484e+09\n",
       "Name: Mileage, dtype: float64"
      ]
     },
     "execution_count": 21,
     "metadata": {},
     "output_type": "execute_result"
    }
   ],
   "source": [
    "df['Mileage'].describe()"
   ]
  },
  {
   "cell_type": "code",
   "execution_count": 22,
   "id": "21b5822e",
   "metadata": {},
   "outputs": [
    {
     "data": {
      "text/plain": [
       "999999.0"
      ]
     },
     "execution_count": 22,
     "metadata": {},
     "output_type": "execute_result"
    }
   ],
   "source": [
    "df['Mileage'].quantile(.996)"
   ]
  },
  {
   "cell_type": "code",
   "execution_count": 23,
   "id": "bf74e7f0",
   "metadata": {
    "scrolled": false
   },
   "outputs": [
    {
     "data": {
      "text/plain": [
       "12214       1000000\n",
       "5228        1000900\n",
       "9592        1100000\n",
       "2666        1101001\n",
       "12220       1111111\n",
       "            ...    \n",
       "12734    2147483647\n",
       "11901    2147483647\n",
       "19167    2147483647\n",
       "2278     2147483647\n",
       "6157     2147483647\n",
       "Name: Mileage, Length: 75, dtype: int64"
      ]
     },
     "execution_count": 23,
     "metadata": {},
     "output_type": "execute_result"
    }
   ],
   "source": [
    "df[df['Mileage'] > df['Mileage'].quantile(.996)]['Mileage'].sort_values()"
   ]
  },
  {
   "cell_type": "markdown",
   "id": "2614d13d",
   "metadata": {},
   "source": [
    "Явные выбросы, нужно будет исправить"
   ]
  },
  {
   "cell_type": "markdown",
   "id": "d3f2727c",
   "metadata": {},
   "source": [
    "**Категориальные признаки**"
   ]
  },
  {
   "cell_type": "code",
   "execution_count": 24,
   "id": "7b74da7e",
   "metadata": {
    "scrolled": false
   },
   "outputs": [
    {
     "name": "stdout",
     "output_type": "stream",
     "text": [
      "Manufacturer\n",
      "['LEXUS' 'CHEVROLET' 'HONDA' 'FORD' 'HYUNDAI' 'TOYOTA' 'MERCEDES-BENZ'\n",
      " 'OPEL' 'PORSCHE' 'BMW' 'JEEP' 'VOLKSWAGEN' 'AUDI' 'RENAULT' 'NISSAN'\n",
      " 'SUBARU' 'DAEWOO' 'KIA' 'MITSUBISHI' 'SSANGYONG' 'MAZDA' 'GMC' 'FIAT'\n",
      " 'INFINITI' 'ALFA ROMEO' 'SUZUKI' 'ACURA' 'LINCOLN' 'VAZ' 'GAZ' 'CITROEN'\n",
      " 'LAND ROVER' 'MINI' 'DODGE' 'CHRYSLER' 'JAGUAR' 'ISUZU' 'SKODA'\n",
      " 'DAIHATSU' 'BUICK' 'TESLA' 'CADILLAC' 'PEUGEOT' 'BENTLEY' 'VOLVO' 'სხვა'\n",
      " 'HAVAL' 'HUMMER' 'SCION' 'UAZ' 'MERCURY' 'ZAZ' 'ROVER' 'SEAT' 'LANCIA'\n",
      " 'MOSKVICH' 'MASERATI' 'FERRARI' 'SAAB' 'LAMBORGHINI' 'ROLLS-ROYCE'\n",
      " 'PONTIAC' 'SATURN' 'ASTON MARTIN' 'GREATWALL']\n",
      "---------------------------------------------------------------------------\n",
      "Model\n",
      "['RX 450' 'Equinox' 'FIT' ... 'E 230 124' 'RX 450 F SPORT' 'Prius C aqua']\n",
      "---------------------------------------------------------------------------\n",
      "Category\n",
      "['Jeep' 'Hatchback' 'Sedan' 'Microbus' 'Goods wagon' 'Universal' 'Coupe'\n",
      " 'Minivan' 'Cabriolet' 'Limousine' 'Pickup']\n",
      "---------------------------------------------------------------------------\n",
      "Fuel_type\n",
      "['Hybrid' 'Petrol' 'Diesel' 'CNG' 'Plug-in Hybrid' 'LPG' 'Hydrogen']\n",
      "---------------------------------------------------------------------------\n",
      "Gear_box_type\n",
      "['Automatic' 'Tiptronic' 'Variator' 'Manual']\n",
      "---------------------------------------------------------------------------\n",
      "Drive_wheels\n",
      "['4x4' 'Front' 'Rear']\n",
      "---------------------------------------------------------------------------\n",
      "Doors\n",
      "['04-May' '02-Mar' '>5']\n",
      "---------------------------------------------------------------------------\n",
      "Color\n",
      "['Silver' 'Black' 'White' 'Grey' 'Blue' 'Green' 'Red' 'Sky blue' 'Orange'\n",
      " 'Yellow' 'Brown' 'Golden' 'Beige' 'Carnelian red' 'Purple' 'Pink']\n",
      "---------------------------------------------------------------------------\n"
     ]
    }
   ],
   "source": [
    "for cat_f in cat_features:\n",
    "    print(cat_f)\n",
    "    print(df[cat_f].unique())\n",
    "    print('-'*75)"
   ]
  },
  {
   "cell_type": "code",
   "execution_count": 25,
   "id": "dbc7bd6f",
   "metadata": {},
   "outputs": [
    {
     "data": {
      "image/png": "[encoded data removed]",
      "text/plain": [
       "<Figure size 1500x500 with 1 Axes>"
      ]
     },
     "metadata": {},
     "output_type": "display_data"
    }
   ],
   "source": [
    "counts_category= df['Category'].value_counts()\n",
    "plt.figure(figsize=(15,5))    \n",
    "sns.barplot(counts_category.index, counts_category.values)\n",
    "plt.show()"
   ]
  },
  {
   "cell_type": "code",
   "execution_count": 26,
   "id": "98b84590",
   "metadata": {},
   "outputs": [
    {
     "data": {
      "image/png": "[encoded data removed]",
      "text/plain": [
       "<Figure size 1500x500 with 1 Axes>"
      ]
     },
     "metadata": {},
     "output_type": "display_data"
    }
   ],
   "source": [
    "counts_colors = df['Color'].value_counts()\n",
    "plt.figure(figsize=(15,5))    \n",
    "sns.barplot(counts_colors.index, counts_colors.values)\n",
    "plt.show()"
   ]
  },
  {
   "cell_type": "markdown",
   "id": "89326726",
   "metadata": {},
   "source": [
    "**Бинарные признаки**"
   ]
  },
  {
   "cell_type": "code",
   "execution_count": 27,
   "id": "21b61a6f",
   "metadata": {},
   "outputs": [
    {
     "name": "stdout",
     "output_type": "stream",
     "text": [
      "Leather_interior\n",
      "Yes    13954\n",
      "No      5283\n",
      "Name: Leather_interior, dtype: int64\n",
      "---------------------------------------------------------------------------\n",
      "Wheel\n",
      "Left wheel          17753\n",
      "Right-hand drive     1484\n",
      "Name: Wheel, dtype: int64\n",
      "---------------------------------------------------------------------------\n",
      "Turbo\n",
      "False    17306\n",
      "True      1931\n",
      "Name: Turbo, dtype: int64\n",
      "---------------------------------------------------------------------------\n"
     ]
    }
   ],
   "source": [
    "for bin_f in bin_features:\n",
    "    print(bin_f)\n",
    "    print(df[bin_f].value_counts())\n",
    "    print('-'*75)"
   ]
  },
  {
   "cell_type": "markdown",
   "id": "d7106c74",
   "metadata": {},
   "source": [
    "### Устраняем выбросы"
   ]
  },
  {
   "cell_type": "markdown",
   "id": "79e84d4e",
   "metadata": {},
   "source": [
    "* Cylinders"
   ]
  },
  {
   "cell_type": "code",
   "execution_count": 28,
   "id": "346dcc71",
   "metadata": {
    "scrolled": true
   },
   "outputs": [
    {
     "data": {
      "text/html": [
       "<div>\n",
       "<style scoped>\n",
       "    .dataframe tbody tr th:only-of-type {\n",
       "        vertical-align: middle;\n",
       "    }\n",
       "\n",
       "    .dataframe tbody tr th {\n",
       "        vertical-align: top;\n",
       "    }\n",
       "\n",
       "    .dataframe thead th {\n",
       "        text-align: right;\n",
       "    }\n",
       "</style>\n",
       "<table border=\"1\" class=\"dataframe\">\n",
       "  <thead>\n",
       "    <tr style=\"text-align: right;\">\n",
       "      <th></th>\n",
       "      <th>ID</th>\n",
       "      <th>Price</th>\n",
       "      <th>Levy</th>\n",
       "      <th>Manufacturer</th>\n",
       "      <th>Model</th>\n",
       "      <th>Prod_year</th>\n",
       "      <th>Category</th>\n",
       "      <th>Leather_interior</th>\n",
       "      <th>Fuel_type</th>\n",
       "      <th>Engine_volume</th>\n",
       "      <th>Mileage</th>\n",
       "      <th>Cylinders</th>\n",
       "      <th>Gear_box_type</th>\n",
       "      <th>Drive_wheels</th>\n",
       "      <th>Doors</th>\n",
       "      <th>Wheel</th>\n",
       "      <th>Color</th>\n",
       "      <th>Airbags</th>\n",
       "      <th>Turbo</th>\n",
       "    </tr>\n",
       "  </thead>\n",
       "  <tbody>\n",
       "    <tr>\n",
       "      <th>456</th>\n",
       "      <td>45773579</td>\n",
       "      <td>11604</td>\n",
       "      <td>993</td>\n",
       "      <td>OPEL</td>\n",
       "      <td>Astra</td>\n",
       "      <td>2006</td>\n",
       "      <td>Goods wagon</td>\n",
       "      <td>No</td>\n",
       "      <td>Diesel</td>\n",
       "      <td>1.3</td>\n",
       "      <td>27000</td>\n",
       "      <td>16.0</td>\n",
       "      <td>Manual</td>\n",
       "      <td>Front</td>\n",
       "      <td>04-May</td>\n",
       "      <td>Left wheel</td>\n",
       "      <td>Black</td>\n",
       "      <td>8</td>\n",
       "      <td>True</td>\n",
       "    </tr>\n",
       "    <tr>\n",
       "      <th>1917</th>\n",
       "      <td>45768286</td>\n",
       "      <td>7000</td>\n",
       "      <td>-</td>\n",
       "      <td>HONDA</td>\n",
       "      <td>Fit Aria</td>\n",
       "      <td>2003</td>\n",
       "      <td>Hatchback</td>\n",
       "      <td>No</td>\n",
       "      <td>Petrol</td>\n",
       "      <td>1.5</td>\n",
       "      <td>140203</td>\n",
       "      <td>16.0</td>\n",
       "      <td>Automatic</td>\n",
       "      <td>Front</td>\n",
       "      <td>04-May</td>\n",
       "      <td>Right-hand drive</td>\n",
       "      <td>Silver</td>\n",
       "      <td>2</td>\n",
       "      <td>True</td>\n",
       "    </tr>\n",
       "    <tr>\n",
       "      <th>6863</th>\n",
       "      <td>45802046</td>\n",
       "      <td>21953</td>\n",
       "      <td>-</td>\n",
       "      <td>HYUNDAI</td>\n",
       "      <td>Elantra</td>\n",
       "      <td>2016</td>\n",
       "      <td>Sedan</td>\n",
       "      <td>Yes</td>\n",
       "      <td>Petrol</td>\n",
       "      <td>1.8</td>\n",
       "      <td>69000</td>\n",
       "      <td>16.0</td>\n",
       "      <td>Automatic</td>\n",
       "      <td>Front</td>\n",
       "      <td>04-May</td>\n",
       "      <td>Left wheel</td>\n",
       "      <td>Silver</td>\n",
       "      <td>16</td>\n",
       "      <td>False</td>\n",
       "    </tr>\n",
       "    <tr>\n",
       "      <th>8358</th>\n",
       "      <td>45797531</td>\n",
       "      <td>15681</td>\n",
       "      <td>966</td>\n",
       "      <td>CHEVROLET</td>\n",
       "      <td>Lacetti</td>\n",
       "      <td>2009</td>\n",
       "      <td>Sedan</td>\n",
       "      <td>Yes</td>\n",
       "      <td>Diesel</td>\n",
       "      <td>2.0</td>\n",
       "      <td>6500</td>\n",
       "      <td>14.0</td>\n",
       "      <td>Automatic</td>\n",
       "      <td>Front</td>\n",
       "      <td>04-May</td>\n",
       "      <td>Left wheel</td>\n",
       "      <td>White</td>\n",
       "      <td>8</td>\n",
       "      <td>False</td>\n",
       "    </tr>\n",
       "    <tr>\n",
       "      <th>12550</th>\n",
       "      <td>45770557</td>\n",
       "      <td>39829</td>\n",
       "      <td>-</td>\n",
       "      <td>BMW</td>\n",
       "      <td>X6</td>\n",
       "      <td>2009</td>\n",
       "      <td>Jeep</td>\n",
       "      <td>Yes</td>\n",
       "      <td>Petrol</td>\n",
       "      <td>3.5</td>\n",
       "      <td>152000</td>\n",
       "      <td>16.0</td>\n",
       "      <td>Tiptronic</td>\n",
       "      <td>4x4</td>\n",
       "      <td>04-May</td>\n",
       "      <td>Left wheel</td>\n",
       "      <td>Grey</td>\n",
       "      <td>16</td>\n",
       "      <td>True</td>\n",
       "    </tr>\n",
       "    <tr>\n",
       "      <th>16487</th>\n",
       "      <td>45772894</td>\n",
       "      <td>7213</td>\n",
       "      <td>-</td>\n",
       "      <td>OPEL</td>\n",
       "      <td>Combo</td>\n",
       "      <td>2001</td>\n",
       "      <td>Goods wagon</td>\n",
       "      <td>No</td>\n",
       "      <td>Diesel</td>\n",
       "      <td>1.7</td>\n",
       "      <td>242701</td>\n",
       "      <td>16.0</td>\n",
       "      <td>Manual</td>\n",
       "      <td>Front</td>\n",
       "      <td>02-Mar</td>\n",
       "      <td>Left wheel</td>\n",
       "      <td>Blue</td>\n",
       "      <td>2</td>\n",
       "      <td>True</td>\n",
       "    </tr>\n",
       "  </tbody>\n",
       "</table>\n",
       "</div>"
      ],
      "text/plain": [
       "             ID  Price Levy Manufacturer     Model  Prod_year     Category  \\\n",
       "456    45773579  11604  993         OPEL     Astra       2006  Goods wagon   \n",
       "1917   45768286   7000    -        HONDA  Fit Aria       2003    Hatchback   \n",
       "6863   45802046  21953    -      HYUNDAI   Elantra       2016        Sedan   \n",
       "8358   45797531  15681  966    CHEVROLET   Lacetti       2009        Sedan   \n",
       "12550  45770557  39829    -          BMW        X6       2009         Jeep   \n",
       "16487  45772894   7213    -         OPEL     Combo       2001  Goods wagon   \n",
       "\n",
       "      Leather_interior Fuel_type  Engine_volume  Mileage  Cylinders  \\\n",
       "456                 No    Diesel            1.3    27000       16.0   \n",
       "1917                No    Petrol            1.5   140203       16.0   \n",
       "6863               Yes    Petrol            1.8    69000       16.0   \n",
       "8358               Yes    Diesel            2.0     6500       14.0   \n",
       "12550              Yes    Petrol            3.5   152000       16.0   \n",
       "16487               No    Diesel            1.7   242701       16.0   \n",
       "\n",
       "      Gear_box_type Drive_wheels   Doors             Wheel   Color  Airbags  \\\n",
       "456          Manual        Front  04-May        Left wheel   Black        8   \n",
       "1917      Automatic        Front  04-May  Right-hand drive  Silver        2   \n",
       "6863      Automatic        Front  04-May        Left wheel  Silver       16   \n",
       "8358      Automatic        Front  04-May        Left wheel   White        8   \n",
       "12550     Tiptronic          4x4  04-May        Left wheel    Grey       16   \n",
       "16487        Manual        Front  02-Mar        Left wheel    Blue        2   \n",
       "\n",
       "       Turbo  \n",
       "456     True  \n",
       "1917    True  \n",
       "6863   False  \n",
       "8358   False  \n",
       "12550   True  \n",
       "16487   True  "
      ]
     },
     "execution_count": 28,
     "metadata": {},
     "output_type": "execute_result"
    }
   ],
   "source": [
    "df[df['Cylinders'] > 12]"
   ]
  },
  {
   "cell_type": "code",
   "execution_count": 29,
   "id": "81da0cc5",
   "metadata": {
    "scrolled": true
   },
   "outputs": [],
   "source": [
    "cylinders_mode = df['Cylinders'].mode()[0]\n",
    "df.loc[df['Cylinders'] > 12, 'Cylinders'] = cylinders_mode"
   ]
  },
  {
   "cell_type": "markdown",
   "id": "a6e391d5",
   "metadata": {},
   "source": [
    "* Engine_volume"
   ]
  },
  {
   "cell_type": "code",
   "execution_count": 30,
   "id": "f55eccde",
   "metadata": {},
   "outputs": [],
   "source": [
    "eng_volume_mean = round(df['Engine_volume'].mean(), 1)\n",
    "df.loc[df['Engine_volume'] > 8, 'Engine_volume'] = eng_volume_mean\n",
    "df.loc[df['Engine_volume'] == 0, 'Engine_volume'] = eng_volume_mean"
   ]
  },
  {
   "cell_type": "markdown",
   "id": "1de05685",
   "metadata": {},
   "source": [
    "* Mileage"
   ]
  },
  {
   "cell_type": "code",
   "execution_count": 31,
   "id": "4cf527ce",
   "metadata": {},
   "outputs": [],
   "source": [
    "mileage_lim = df['Mileage'].quantile(.996)\n",
    "mileage_mean = df[df['Mileage'] < mileage_lim]['Mileage'].mean()\n",
    "df.loc[df['Mileage'] > mileage_lim, 'Mileage'] = mileage_mean"
   ]
  },
  {
   "cell_type": "markdown",
   "id": "1eb3fbd6",
   "metadata": {},
   "source": [
    "* Price"
   ]
  },
  {
   "cell_type": "code",
   "execution_count": 32,
   "id": "e0f0a12e",
   "metadata": {},
   "outputs": [],
   "source": [
    "mask = df['Price'] < 600000\n",
    "df = df[mask]"
   ]
  },
  {
   "cell_type": "code",
   "execution_count": 33,
   "id": "2fc59f87",
   "metadata": {
    "scrolled": true
   },
   "outputs": [
    {
     "name": "stdout",
     "output_type": "stream",
     "text": [
      "<class 'pandas.core.frame.DataFrame'>\n",
      "Int64Index: 19234 entries, 0 to 19236\n",
      "Data columns (total 19 columns):\n",
      " #   Column            Non-Null Count  Dtype  \n",
      "---  ------            --------------  -----  \n",
      " 0   ID                19234 non-null  int64  \n",
      " 1   Price             19234 non-null  int64  \n",
      " 2   Levy              19234 non-null  object \n",
      " 3   Manufacturer      19234 non-null  object \n",
      " 4   Model             19234 non-null  object \n",
      " 5   Prod_year         19234 non-null  int64  \n",
      " 6   Category          19234 non-null  object \n",
      " 7   Leather_interior  19234 non-null  object \n",
      " 8   Fuel_type         19234 non-null  object \n",
      " 9   Engine_volume     19234 non-null  float64\n",
      " 10  Mileage           19234 non-null  float64\n",
      " 11  Cylinders         19234 non-null  float64\n",
      " 12  Gear_box_type     19234 non-null  object \n",
      " 13  Drive_wheels      19234 non-null  object \n",
      " 14  Doors             19234 non-null  object \n",
      " 15  Wheel             19234 non-null  object \n",
      " 16  Color             19234 non-null  object \n",
      " 17  Airbags           19234 non-null  int64  \n",
      " 18  Turbo             19234 non-null  bool   \n",
      "dtypes: bool(1), float64(3), int64(4), object(11)\n",
      "memory usage: 2.8+ MB\n"
     ]
    }
   ],
   "source": [
    "df.info()"
   ]
  },
  {
   "cell_type": "code",
   "execution_count": 34,
   "id": "7611f600",
   "metadata": {
    "scrolled": false
   },
   "outputs": [
    {
     "data": {
      "text/html": [
       "<div>\n",
       "<style scoped>\n",
       "    .dataframe tbody tr th:only-of-type {\n",
       "        vertical-align: middle;\n",
       "    }\n",
       "\n",
       "    .dataframe tbody tr th {\n",
       "        vertical-align: top;\n",
       "    }\n",
       "\n",
       "    .dataframe thead th {\n",
       "        text-align: right;\n",
       "    }\n",
       "</style>\n",
       "<table border=\"1\" class=\"dataframe\">\n",
       "  <thead>\n",
       "    <tr style=\"text-align: right;\">\n",
       "      <th></th>\n",
       "      <th>ID</th>\n",
       "      <th>Price</th>\n",
       "      <th>Levy</th>\n",
       "      <th>Manufacturer</th>\n",
       "      <th>Model</th>\n",
       "      <th>Prod_year</th>\n",
       "      <th>Category</th>\n",
       "      <th>Leather_interior</th>\n",
       "      <th>Fuel_type</th>\n",
       "      <th>Engine_volume</th>\n",
       "      <th>Mileage</th>\n",
       "      <th>Cylinders</th>\n",
       "      <th>Gear_box_type</th>\n",
       "      <th>Drive_wheels</th>\n",
       "      <th>Doors</th>\n",
       "      <th>Wheel</th>\n",
       "      <th>Color</th>\n",
       "      <th>Airbags</th>\n",
       "      <th>Turbo</th>\n",
       "    </tr>\n",
       "  </thead>\n",
       "  <tbody>\n",
       "    <tr>\n",
       "      <th>0</th>\n",
       "      <td>45654403</td>\n",
       "      <td>13328</td>\n",
       "      <td>1399</td>\n",
       "      <td>LEXUS</td>\n",
       "      <td>RX 450</td>\n",
       "      <td>2010</td>\n",
       "      <td>Jeep</td>\n",
       "      <td>Yes</td>\n",
       "      <td>Hybrid</td>\n",
       "      <td>3.5</td>\n",
       "      <td>186005.0</td>\n",
       "      <td>6.0</td>\n",
       "      <td>Automatic</td>\n",
       "      <td>4x4</td>\n",
       "      <td>04-May</td>\n",
       "      <td>Left wheel</td>\n",
       "      <td>Silver</td>\n",
       "      <td>12</td>\n",
       "      <td>False</td>\n",
       "    </tr>\n",
       "    <tr>\n",
       "      <th>1</th>\n",
       "      <td>44731507</td>\n",
       "      <td>16621</td>\n",
       "      <td>1018</td>\n",
       "      <td>CHEVROLET</td>\n",
       "      <td>Equinox</td>\n",
       "      <td>2011</td>\n",
       "      <td>Jeep</td>\n",
       "      <td>No</td>\n",
       "      <td>Petrol</td>\n",
       "      <td>3.0</td>\n",
       "      <td>192000.0</td>\n",
       "      <td>6.0</td>\n",
       "      <td>Tiptronic</td>\n",
       "      <td>4x4</td>\n",
       "      <td>04-May</td>\n",
       "      <td>Left wheel</td>\n",
       "      <td>Black</td>\n",
       "      <td>8</td>\n",
       "      <td>False</td>\n",
       "    </tr>\n",
       "    <tr>\n",
       "      <th>2</th>\n",
       "      <td>45774419</td>\n",
       "      <td>8467</td>\n",
       "      <td>-</td>\n",
       "      <td>HONDA</td>\n",
       "      <td>FIT</td>\n",
       "      <td>2006</td>\n",
       "      <td>Hatchback</td>\n",
       "      <td>No</td>\n",
       "      <td>Petrol</td>\n",
       "      <td>1.3</td>\n",
       "      <td>200000.0</td>\n",
       "      <td>4.0</td>\n",
       "      <td>Variator</td>\n",
       "      <td>Front</td>\n",
       "      <td>04-May</td>\n",
       "      <td>Right-hand drive</td>\n",
       "      <td>Black</td>\n",
       "      <td>2</td>\n",
       "      <td>False</td>\n",
       "    </tr>\n",
       "    <tr>\n",
       "      <th>3</th>\n",
       "      <td>45769185</td>\n",
       "      <td>3607</td>\n",
       "      <td>862</td>\n",
       "      <td>FORD</td>\n",
       "      <td>Escape</td>\n",
       "      <td>2011</td>\n",
       "      <td>Jeep</td>\n",
       "      <td>Yes</td>\n",
       "      <td>Hybrid</td>\n",
       "      <td>2.5</td>\n",
       "      <td>168966.0</td>\n",
       "      <td>4.0</td>\n",
       "      <td>Automatic</td>\n",
       "      <td>4x4</td>\n",
       "      <td>04-May</td>\n",
       "      <td>Left wheel</td>\n",
       "      <td>White</td>\n",
       "      <td>0</td>\n",
       "      <td>False</td>\n",
       "    </tr>\n",
       "    <tr>\n",
       "      <th>4</th>\n",
       "      <td>45809263</td>\n",
       "      <td>11726</td>\n",
       "      <td>446</td>\n",
       "      <td>HONDA</td>\n",
       "      <td>FIT</td>\n",
       "      <td>2014</td>\n",
       "      <td>Hatchback</td>\n",
       "      <td>Yes</td>\n",
       "      <td>Petrol</td>\n",
       "      <td>1.3</td>\n",
       "      <td>91901.0</td>\n",
       "      <td>4.0</td>\n",
       "      <td>Automatic</td>\n",
       "      <td>Front</td>\n",
       "      <td>04-May</td>\n",
       "      <td>Left wheel</td>\n",
       "      <td>Silver</td>\n",
       "      <td>4</td>\n",
       "      <td>False</td>\n",
       "    </tr>\n",
       "  </tbody>\n",
       "</table>\n",
       "</div>"
      ],
      "text/plain": [
       "         ID  Price  Levy Manufacturer    Model  Prod_year   Category  \\\n",
       "0  45654403  13328  1399        LEXUS   RX 450       2010       Jeep   \n",
       "1  44731507  16621  1018    CHEVROLET  Equinox       2011       Jeep   \n",
       "2  45774419   8467     -        HONDA      FIT       2006  Hatchback   \n",
       "3  45769185   3607   862         FORD   Escape       2011       Jeep   \n",
       "4  45809263  11726   446        HONDA      FIT       2014  Hatchback   \n",
       "\n",
       "  Leather_interior Fuel_type  Engine_volume   Mileage  Cylinders  \\\n",
       "0              Yes    Hybrid            3.5  186005.0        6.0   \n",
       "1               No    Petrol            3.0  192000.0        6.0   \n",
       "2               No    Petrol            1.3  200000.0        4.0   \n",
       "3              Yes    Hybrid            2.5  168966.0        4.0   \n",
       "4              Yes    Petrol            1.3   91901.0        4.0   \n",
       "\n",
       "  Gear_box_type Drive_wheels   Doors             Wheel   Color  Airbags  Turbo  \n",
       "0     Automatic          4x4  04-May        Left wheel  Silver       12  False  \n",
       "1     Tiptronic          4x4  04-May        Left wheel   Black        8  False  \n",
       "2      Variator        Front  04-May  Right-hand drive   Black        2  False  \n",
       "3     Automatic          4x4  04-May        Left wheel   White        0  False  \n",
       "4     Automatic        Front  04-May        Left wheel  Silver        4  False  "
      ]
     },
     "execution_count": 34,
     "metadata": {},
     "output_type": "execute_result"
    }
   ],
   "source": [
    "df.head()"
   ]
  },
  {
   "cell_type": "markdown",
   "id": "c94e3919",
   "metadata": {},
   "source": [
    "Еще раз посмотрим на выбросы"
   ]
  },
  {
   "cell_type": "code",
   "execution_count": 35,
   "id": "0250b719",
   "metadata": {},
   "outputs": [
    {
     "data": {
      "image/png": "[encoded data removed]",
      "text/plain": [
       "<Figure size 1600x1000 with 6 Axes>"
      ]
     },
     "metadata": {},
     "output_type": "display_data"
    }
   ],
   "source": [
    "dftr_num_features = df[num_features]\n",
    "dftr_num_features.hist(figsize=(16,10), bins=20, grid=False)\n",
    "plt.show()"
   ]
  },
  {
   "cell_type": "markdown",
   "id": "e5f31da8",
   "metadata": {},
   "source": [
    "### Матрица корреляций"
   ]
  },
  {
   "cell_type": "code",
   "execution_count": 36,
   "id": "e193f74e",
   "metadata": {},
   "outputs": [
    {
     "data": {
      "image/png": "[encoded data removed]",
      "text/plain": [
       "<Figure size 800x300 with 2 Axes>"
      ]
     },
     "metadata": {},
     "output_type": "display_data"
    }
   ],
   "source": [
    "plt.figure(figsize = (8,3))\n",
    "\n",
    "sns.set(font_scale=1)\n",
    "\n",
    "corr_matrix = df.corr()\n",
    "corr_matrix = np.round(corr_matrix, 2)\n",
    "corr_matrix[np.abs(corr_matrix) < 0.3] = 0\n",
    "\n",
    "sns.heatmap(corr_matrix, annot=True, linewidths=.5, cmap='nipy_spectral')\n",
    "\n",
    "plt.title('Correlation matrix')\n",
    "plt.show()"
   ]
  },
  {
   "cell_type": "markdown",
   "id": "16c67ded",
   "metadata": {},
   "source": [
    "Как видно из графика, сильно коррелируют между собой только два признака. Остальные не корреляруют вообще."
   ]
  },
  {
   "cell_type": "markdown",
   "id": "7e54c2ae",
   "metadata": {},
   "source": [
    "### Сохранение подготовленного датасета"
   ]
  },
  {
   "cell_type": "code",
   "execution_count": 37,
   "id": "d10cfa16",
   "metadata": {},
   "outputs": [],
   "source": [
    "df.to_csv(PREPARED_DATASET_PATH, index=False)"
   ]
  },
  {
   "cell_type": "markdown",
   "id": "3350a8f1",
   "metadata": {},
   "source": [
    "---"
   ]
  },
  {
   "cell_type": "markdown",
   "id": "91218cec",
   "metadata": {},
   "source": [
    "## 2. Моделирование <a class='anchor' id='modeling'>"
   ]
  },
  {
   "cell_type": "markdown",
   "id": "f4ae0008",
   "metadata": {},
   "source": [
    "### Загрузка датасета"
   ]
  },
  {
   "cell_type": "code",
   "execution_count": 38,
   "id": "c20db9ef",
   "metadata": {},
   "outputs": [],
   "source": [
    "df = pd.read_csv(PREPARED_DATASET_PATH)"
   ]
  },
  {
   "cell_type": "code",
   "execution_count": 39,
   "id": "f0d37fd9",
   "metadata": {
    "scrolled": true
   },
   "outputs": [
    {
     "data": {
      "text/html": [
       "<div>\n",
       "<style scoped>\n",
       "    .dataframe tbody tr th:only-of-type {\n",
       "        vertical-align: middle;\n",
       "    }\n",
       "\n",
       "    .dataframe tbody tr th {\n",
       "        vertical-align: top;\n",
       "    }\n",
       "\n",
       "    .dataframe thead th {\n",
       "        text-align: right;\n",
       "    }\n",
       "</style>\n",
       "<table border=\"1\" class=\"dataframe\">\n",
       "  <thead>\n",
       "    <tr style=\"text-align: right;\">\n",
       "      <th></th>\n",
       "      <th>ID</th>\n",
       "      <th>Price</th>\n",
       "      <th>Levy</th>\n",
       "      <th>Manufacturer</th>\n",
       "      <th>Model</th>\n",
       "      <th>Prod_year</th>\n",
       "      <th>Category</th>\n",
       "      <th>Leather_interior</th>\n",
       "      <th>Fuel_type</th>\n",
       "      <th>Engine_volume</th>\n",
       "      <th>Mileage</th>\n",
       "      <th>Cylinders</th>\n",
       "      <th>Gear_box_type</th>\n",
       "      <th>Drive_wheels</th>\n",
       "      <th>Doors</th>\n",
       "      <th>Wheel</th>\n",
       "      <th>Color</th>\n",
       "      <th>Airbags</th>\n",
       "      <th>Turbo</th>\n",
       "    </tr>\n",
       "  </thead>\n",
       "  <tbody>\n",
       "    <tr>\n",
       "      <th>0</th>\n",
       "      <td>45654403</td>\n",
       "      <td>13328</td>\n",
       "      <td>1399</td>\n",
       "      <td>LEXUS</td>\n",
       "      <td>RX 450</td>\n",
       "      <td>2010</td>\n",
       "      <td>Jeep</td>\n",
       "      <td>Yes</td>\n",
       "      <td>Hybrid</td>\n",
       "      <td>3.5</td>\n",
       "      <td>186005.0</td>\n",
       "      <td>6.0</td>\n",
       "      <td>Automatic</td>\n",
       "      <td>4x4</td>\n",
       "      <td>04-May</td>\n",
       "      <td>Left wheel</td>\n",
       "      <td>Silver</td>\n",
       "      <td>12</td>\n",
       "      <td>False</td>\n",
       "    </tr>\n",
       "    <tr>\n",
       "      <th>1</th>\n",
       "      <td>44731507</td>\n",
       "      <td>16621</td>\n",
       "      <td>1018</td>\n",
       "      <td>CHEVROLET</td>\n",
       "      <td>Equinox</td>\n",
       "      <td>2011</td>\n",
       "      <td>Jeep</td>\n",
       "      <td>No</td>\n",
       "      <td>Petrol</td>\n",
       "      <td>3.0</td>\n",
       "      <td>192000.0</td>\n",
       "      <td>6.0</td>\n",
       "      <td>Tiptronic</td>\n",
       "      <td>4x4</td>\n",
       "      <td>04-May</td>\n",
       "      <td>Left wheel</td>\n",
       "      <td>Black</td>\n",
       "      <td>8</td>\n",
       "      <td>False</td>\n",
       "    </tr>\n",
       "    <tr>\n",
       "      <th>2</th>\n",
       "      <td>45774419</td>\n",
       "      <td>8467</td>\n",
       "      <td>-</td>\n",
       "      <td>HONDA</td>\n",
       "      <td>FIT</td>\n",
       "      <td>2006</td>\n",
       "      <td>Hatchback</td>\n",
       "      <td>No</td>\n",
       "      <td>Petrol</td>\n",
       "      <td>1.3</td>\n",
       "      <td>200000.0</td>\n",
       "      <td>4.0</td>\n",
       "      <td>Variator</td>\n",
       "      <td>Front</td>\n",
       "      <td>04-May</td>\n",
       "      <td>Right-hand drive</td>\n",
       "      <td>Black</td>\n",
       "      <td>2</td>\n",
       "      <td>False</td>\n",
       "    </tr>\n",
       "    <tr>\n",
       "      <th>3</th>\n",
       "      <td>45769185</td>\n",
       "      <td>3607</td>\n",
       "      <td>862</td>\n",
       "      <td>FORD</td>\n",
       "      <td>Escape</td>\n",
       "      <td>2011</td>\n",
       "      <td>Jeep</td>\n",
       "      <td>Yes</td>\n",
       "      <td>Hybrid</td>\n",
       "      <td>2.5</td>\n",
       "      <td>168966.0</td>\n",
       "      <td>4.0</td>\n",
       "      <td>Automatic</td>\n",
       "      <td>4x4</td>\n",
       "      <td>04-May</td>\n",
       "      <td>Left wheel</td>\n",
       "      <td>White</td>\n",
       "      <td>0</td>\n",
       "      <td>False</td>\n",
       "    </tr>\n",
       "    <tr>\n",
       "      <th>4</th>\n",
       "      <td>45809263</td>\n",
       "      <td>11726</td>\n",
       "      <td>446</td>\n",
       "      <td>HONDA</td>\n",
       "      <td>FIT</td>\n",
       "      <td>2014</td>\n",
       "      <td>Hatchback</td>\n",
       "      <td>Yes</td>\n",
       "      <td>Petrol</td>\n",
       "      <td>1.3</td>\n",
       "      <td>91901.0</td>\n",
       "      <td>4.0</td>\n",
       "      <td>Automatic</td>\n",
       "      <td>Front</td>\n",
       "      <td>04-May</td>\n",
       "      <td>Left wheel</td>\n",
       "      <td>Silver</td>\n",
       "      <td>4</td>\n",
       "      <td>False</td>\n",
       "    </tr>\n",
       "  </tbody>\n",
       "</table>\n",
       "</div>"
      ],
      "text/plain": [
       "         ID  Price  Levy Manufacturer    Model  Prod_year   Category  \\\n",
       "0  45654403  13328  1399        LEXUS   RX 450       2010       Jeep   \n",
       "1  44731507  16621  1018    CHEVROLET  Equinox       2011       Jeep   \n",
       "2  45774419   8467     -        HONDA      FIT       2006  Hatchback   \n",
       "3  45769185   3607   862         FORD   Escape       2011       Jeep   \n",
       "4  45809263  11726   446        HONDA      FIT       2014  Hatchback   \n",
       "\n",
       "  Leather_interior Fuel_type  Engine_volume   Mileage  Cylinders  \\\n",
       "0              Yes    Hybrid            3.5  186005.0        6.0   \n",
       "1               No    Petrol            3.0  192000.0        6.0   \n",
       "2               No    Petrol            1.3  200000.0        4.0   \n",
       "3              Yes    Hybrid            2.5  168966.0        4.0   \n",
       "4              Yes    Petrol            1.3   91901.0        4.0   \n",
       "\n",
       "  Gear_box_type Drive_wheels   Doors             Wheel   Color  Airbags  Turbo  \n",
       "0     Automatic          4x4  04-May        Left wheel  Silver       12  False  \n",
       "1     Tiptronic          4x4  04-May        Left wheel   Black        8  False  \n",
       "2      Variator        Front  04-May  Right-hand drive   Black        2  False  \n",
       "3     Automatic          4x4  04-May        Left wheel   White        0  False  \n",
       "4     Automatic        Front  04-May        Left wheel  Silver        4  False  "
      ]
     },
     "execution_count": 39,
     "metadata": {},
     "output_type": "execute_result"
    }
   ],
   "source": [
    "df.head()"
   ]
  },
  {
   "cell_type": "markdown",
   "id": "ac2be0ba",
   "metadata": {},
   "source": [
    "### Отбор признаков"
   ]
  },
  {
   "cell_type": "code",
   "execution_count": 40,
   "id": "fe5ade40",
   "metadata": {},
   "outputs": [],
   "source": [
    "continuous_columns = ['Prod_year', 'Engine_volume', 'Mileage', 'Cylinders', 'Airbags']\n",
    "categorical_columns = ['Manufacturer', 'Model', \"Category\", 'Fuel_type', 'Gear_box_type', 'Drive_wheels', 'Doors', 'Color', 'Leather_interior', 'Wheel', 'Turbo']\n",
    "target = ['Price']"
   ]
  },
  {
   "cell_type": "markdown",
   "id": "ce7fe487",
   "metadata": {},
   "source": [
    "### Разбиение на train и test"
   ]
  },
  {
   "cell_type": "code",
   "execution_count": 41,
   "id": "902ddc0a",
   "metadata": {},
   "outputs": [],
   "source": [
    "X_train, X_test, y_train, y_test = train_test_split(df[continuous_columns+categorical_columns], \n",
    "                                                    df[target], \n",
    "                                                    random_state=12)"
   ]
  },
  {
   "cell_type": "markdown",
   "id": "950c470c",
   "metadata": {},
   "source": [
    "Сохраним"
   ]
  },
  {
   "cell_type": "code",
   "execution_count": 42,
   "id": "0fc6c042",
   "metadata": {},
   "outputs": [],
   "source": [
    "# train\n",
    "X_train.to_csv(SPLIT_DATASET_DIR + \"X_train.csv\", index=None)\n",
    "y_train.to_csv(SPLIT_DATASET_DIR + \"y_train.csv\", index=None)\n",
    "# test\n",
    "X_test.to_csv(SPLIT_DATASET_DIR + \"X_test.csv\", index=None)\n",
    "y_test.to_csv(SPLIT_DATASET_DIR + \"y_test.csv\", index=None)"
   ]
  },
  {
   "cell_type": "markdown",
   "id": "05e908b1",
   "metadata": {},
   "source": [
    "### Pipeline"
   ]
  },
  {
   "cell_type": "code",
   "execution_count": 43,
   "id": "88963f4e",
   "metadata": {},
   "outputs": [],
   "source": [
    "class FeatureSelector(BaseEstimator, TransformerMixin):\n",
    "    def __init__(self, column):\n",
    "        self.column = column\n",
    "\n",
    "    def fit(self, X, y=None):\n",
    "        return self\n",
    "\n",
    "    def transform(self, X, y=None):\n",
    "        return X[self.column]\n",
    "    \n",
    "class NumberSelector(BaseEstimator, TransformerMixin):\n",
    "    def __init__(self, key):\n",
    "        self.key = key\n",
    "\n",
    "    def fit(self, X, y=None):\n",
    "        return self\n",
    "\n",
    "    def transform(self, X):\n",
    "        return X[[self.key]]\n",
    "\n",
    "class OHEEncoder(BaseEstimator, TransformerMixin):\n",
    "    def __init__(self, key):\n",
    "        self.key = key\n",
    "        self.columns = []\n",
    "\n",
    "    def fit(self, X, y=None):\n",
    "        self.columns = [col for col in pd.get_dummies(X, prefix=self.key).columns]\n",
    "        return self\n",
    "\n",
    "    def transform(self, X):\n",
    "        X = pd.get_dummies(X, prefix=self.key)\n",
    "        test_columns = [col for col in X.columns]\n",
    "        for col_ in self.columns:\n",
    "            if col_ not in test_columns:\n",
    "                X[col_] = 0\n",
    "        return X[self.columns]"
   ]
  },
  {
   "cell_type": "code",
   "execution_count": 44,
   "id": "ae597f88",
   "metadata": {},
   "outputs": [],
   "source": [
    "final_transformers = list()\n",
    "\n",
    "for cat_col in categorical_columns:\n",
    "    cat_transformer = Pipeline([\n",
    "                ('selector', FeatureSelector(column=cat_col)),\n",
    "                ('ohe', OHEEncoder(key=cat_col))\n",
    "            ])\n",
    "    final_transformers.append((cat_col, cat_transformer))\n",
    "    \n",
    "for cont_col in continuous_columns:\n",
    "    cont_transformer = Pipeline([\n",
    "                ('selector', NumberSelector(key=cont_col)),\n",
    "                ('scaler', StandardScaler())\n",
    "            ])\n",
    "    final_transformers.append((cont_col, cont_transformer))"
   ]
  },
  {
   "cell_type": "code",
   "execution_count": 45,
   "id": "99ccb17a",
   "metadata": {},
   "outputs": [
    {
     "data": {
      "text/plain": [
       "[('Manufacturer',\n",
       "  Pipeline(steps=[('selector', FeatureSelector(column='Manufacturer')),\n",
       "                  ('ohe', OHEEncoder(key='Manufacturer'))])),\n",
       " ('Model',\n",
       "  Pipeline(steps=[('selector', FeatureSelector(column='Model')),\n",
       "                  ('ohe', OHEEncoder(key='Model'))])),\n",
       " ('Category',\n",
       "  Pipeline(steps=[('selector', FeatureSelector(column='Category')),\n",
       "                  ('ohe', OHEEncoder(key='Category'))])),\n",
       " ('Fuel_type',\n",
       "  Pipeline(steps=[('selector', FeatureSelector(column='Fuel_type')),\n",
       "                  ('ohe', OHEEncoder(key='Fuel_type'))])),\n",
       " ('Gear_box_type',\n",
       "  Pipeline(steps=[('selector', FeatureSelector(column='Gear_box_type')),\n",
       "                  ('ohe', OHEEncoder(key='Gear_box_type'))])),\n",
       " ('Drive_wheels',\n",
       "  Pipeline(steps=[('selector', FeatureSelector(column='Drive_wheels')),\n",
       "                  ('ohe', OHEEncoder(key='Drive_wheels'))])),\n",
       " ('Doors',\n",
       "  Pipeline(steps=[('selector', FeatureSelector(column='Doors')),\n",
       "                  ('ohe', OHEEncoder(key='Doors'))])),\n",
       " ('Color',\n",
       "  Pipeline(steps=[('selector', FeatureSelector(column='Color')),\n",
       "                  ('ohe', OHEEncoder(key='Color'))])),\n",
       " ('Leather_interior',\n",
       "  Pipeline(steps=[('selector', FeatureSelector(column='Leather_interior')),\n",
       "                  ('ohe', OHEEncoder(key='Leather_interior'))])),\n",
       " ('Wheel',\n",
       "  Pipeline(steps=[('selector', FeatureSelector(column='Wheel')),\n",
       "                  ('ohe', OHEEncoder(key='Wheel'))])),\n",
       " ('Turbo',\n",
       "  Pipeline(steps=[('selector', FeatureSelector(column='Turbo')),\n",
       "                  ('ohe', OHEEncoder(key='Turbo'))])),\n",
       " ('Prod_year',\n",
       "  Pipeline(steps=[('selector', NumberSelector(key='Prod_year')),\n",
       "                  ('scaler', StandardScaler())])),\n",
       " ('Engine_volume',\n",
       "  Pipeline(steps=[('selector', NumberSelector(key='Engine_volume')),\n",
       "                  ('scaler', StandardScaler())])),\n",
       " ('Mileage',\n",
       "  Pipeline(steps=[('selector', NumberSelector(key='Mileage')),\n",
       "                  ('scaler', StandardScaler())])),\n",
       " ('Cylinders',\n",
       "  Pipeline(steps=[('selector', NumberSelector(key='Cylinders')),\n",
       "                  ('scaler', StandardScaler())])),\n",
       " ('Airbags',\n",
       "  Pipeline(steps=[('selector', NumberSelector(key='Airbags')),\n",
       "                  ('scaler', StandardScaler())]))]"
      ]
     },
     "execution_count": 45,
     "metadata": {},
     "output_type": "execute_result"
    }
   ],
   "source": [
    "final_transformers"
   ]
  },
  {
   "cell_type": "code",
   "execution_count": 46,
   "id": "a8148358",
   "metadata": {},
   "outputs": [],
   "source": [
    "feats = FeatureUnion(final_transformers)\n",
    "\n",
    "pipeline = Pipeline([\n",
    "    ('features_eng', feats),\n",
    "    ('regressor', GradientBoostingRegressor(random_state=42))\n",
    "])"
   ]
  },
  {
   "cell_type": "markdown",
   "id": "982cfcb0",
   "metadata": {},
   "source": [
    "### Обучение модели"
   ]
  },
  {
   "cell_type": "code",
   "execution_count": 47,
   "id": "68ac0388",
   "metadata": {},
   "outputs": [
    {
     "data": {
      "text/plain": [
       "Pipeline(steps=[('features_eng',\n",
       "                 FeatureUnion(transformer_list=[('Manufacturer',\n",
       "                                                 Pipeline(steps=[('selector',\n",
       "                                                                  FeatureSelector(column='Manufacturer')),\n",
       "                                                                 ('ohe',\n",
       "                                                                  OHEEncoder(key='Manufacturer'))])),\n",
       "                                                ('Model',\n",
       "                                                 Pipeline(steps=[('selector',\n",
       "                                                                  FeatureSelector(column='Model')),\n",
       "                                                                 ('ohe',\n",
       "                                                                  OHEEncoder(key='Model'))])),\n",
       "                                                ('Category',\n",
       "                                                 Pipeline(steps=[('selector',\n",
       "                                                                  FeatureSelector(...\n",
       "                                                 Pipeline(steps=[('selector',\n",
       "                                                                  NumberSelector(key='Mileage')),\n",
       "                                                                 ('scaler',\n",
       "                                                                  StandardScaler())])),\n",
       "                                                ('Cylinders',\n",
       "                                                 Pipeline(steps=[('selector',\n",
       "                                                                  NumberSelector(key='Cylinders')),\n",
       "                                                                 ('scaler',\n",
       "                                                                  StandardScaler())])),\n",
       "                                                ('Airbags',\n",
       "                                                 Pipeline(steps=[('selector',\n",
       "                                                                  NumberSelector(key='Airbags')),\n",
       "                                                                 ('scaler',\n",
       "                                                                  StandardScaler())]))])),\n",
       "                ('regressor', GradientBoostingRegressor(random_state=42))])"
      ]
     },
     "execution_count": 47,
     "metadata": {},
     "output_type": "execute_result"
    }
   ],
   "source": [
    "pipeline.fit(X_train, y_train)"
   ]
  },
  {
   "cell_type": "markdown",
   "id": "47afd4b3",
   "metadata": {},
   "source": [
    "### Сохранение модели"
   ]
  },
  {
   "cell_type": "code",
   "execution_count": 48,
   "id": "827acb6e",
   "metadata": {},
   "outputs": [],
   "source": [
    "with open(MODEL_PATH, \"wb\") as f:\n",
    "    dill.dump(pipeline, f)"
   ]
  },
  {
   "cell_type": "markdown",
   "id": "f002248c",
   "metadata": {},
   "source": [
    "---"
   ]
  },
  {
   "cell_type": "markdown",
   "id": "d5635171",
   "metadata": {},
   "source": [
    "## 3. Оценка <a class='anchor' id='evaluation'>"
   ]
  },
  {
   "cell_type": "markdown",
   "id": "7a86f0de",
   "metadata": {},
   "source": [
    "### Загрузка модели и датасета"
   ]
  },
  {
   "cell_type": "code",
   "execution_count": 49,
   "id": "1437bd22",
   "metadata": {},
   "outputs": [],
   "source": [
    "with open(MODEL_PATH, 'rb') as in_strm:\n",
    "    pipeline = dill.load(in_strm)"
   ]
  },
  {
   "cell_type": "code",
   "execution_count": 50,
   "id": "c199712d",
   "metadata": {},
   "outputs": [],
   "source": [
    "# train\n",
    "X_train = pd.read_csv(SPLIT_DATASET_DIR + \"X_train.csv\")\n",
    "y_train = pd.read_csv(SPLIT_DATASET_DIR + \"y_train.csv\")\n",
    "# test\n",
    "X_test = pd.read_csv(SPLIT_DATASET_DIR + \"X_test.csv\")\n",
    "y_test = pd.read_csv(SPLIT_DATASET_DIR + \"y_test.csv\")"
   ]
  },
  {
   "cell_type": "markdown",
   "id": "a7f64372",
   "metadata": {},
   "source": [
    "### Оценка качества"
   ]
  },
  {
   "cell_type": "code",
   "execution_count": 51,
   "id": "71a8e932",
   "metadata": {},
   "outputs": [],
   "source": [
    "def evaluate_preds(train_true_values, train_pred_values, test_true_values, test_pred_values):\n",
    "    \"\"\"       \n",
    "    \"\"\"\n",
    "    print(\"Train R2:\\t\" + str(round(r2_score(train_true_values, train_pred_values), 3)))\n",
    "    print(\"Test R2:\\t\" + str(round(r2_score(test_true_values, test_pred_values), 3)))\n",
    "    print()\n",
    "    print(\"Test MSE:\\t\" + str(round(mean_squared_error(test_true_values, test_pred_values), 3)))\n",
    "    print(\"Test MAE:\\t\" + str(round(mean_absolute_error(test_true_values, test_pred_values), 3)))\n",
    "    \n",
    "    plt.figure(figsize=(18,10))\n",
    "    \n",
    "    plt.subplot(121)\n",
    "    sns.scatterplot(x=train_pred_values, y=train_true_values)\n",
    "    plt.xlabel('Predicted values')\n",
    "    plt.ylabel('True values')\n",
    "    plt.title('Train sample prediction')\n",
    "    \n",
    "    plt.subplot(122)\n",
    "    sns.scatterplot(x=test_pred_values, y=test_true_values)\n",
    "    plt.xlabel('Predicted values')\n",
    "    plt.ylabel('True values')\n",
    "    plt.title('Test sample prediction')\n",
    "\n",
    "    plt.show()"
   ]
  },
  {
   "cell_type": "code",
   "execution_count": 52,
   "id": "e4e581d4",
   "metadata": {
    "scrolled": false
   },
   "outputs": [
    {
     "name": "stdout",
     "output_type": "stream",
     "text": [
      "Train R2:\t0.653\n",
      "Test R2:\t0.582\n",
      "\n",
      "Test MSE:\t131855000.356\n",
      "Test MAE:\t7260.757\n"
     ]
    },
    {
     "data": {
      "image/png": "[encoded data removed]",
      "text/plain": [
       "<Figure size 1800x1000 with 2 Axes>"
      ]
     },
     "metadata": {},
     "output_type": "display_data"
    }
   ],
   "source": [
    "y_train_preds = pipeline.predict(X_train)\n",
    "y_test_preds = pipeline.predict(X_test)\n",
    "\n",
    "evaluate_preds(y_train.squeeze(), y_train_preds, y_test.squeeze(), y_test_preds)"
   ]
  },
  {
   "cell_type": "markdown",
   "id": "ed853e66",
   "metadata": {},
   "source": [
    "### Сохранение предсказаний"
   ]
  },
  {
   "cell_type": "code",
   "execution_count": 53,
   "id": "bc6bfb5d",
   "metadata": {},
   "outputs": [],
   "source": [
    "y_train_preds_df = pd.DataFrame({'Train_predictions': y_train_preds})\n",
    "y_test_preds_df = pd.DataFrame({'Test_predictions': y_test_preds})\n",
    "\n",
    "y_train_preds_df.to_csv(TRAIN_PREDICTIONS_PATH, index=None)\n",
    "y_test_preds_df.to_csv(TEST_PREDICTIONS_PATH, index=None)"
   ]
  },
  {
   "cell_type": "markdown",
   "id": "7c2e71fb",
   "metadata": {},
   "source": [
    "---"
   ]
  }
 ],
 "metadata": {
  "kernelspec": {
   "display_name": "Python 3 (ipykernel)",
   "language": "python",
   "name": "python3"
  },
  "language_info": {
   "codemirror_mode": {
    "name": "ipython",
    "version": 3
   },
   "file_extension": ".py",
   "mimetype": "text/x-python",
   "name": "python",
   "nbconvert_exporter": "python",
   "pygments_lexer": "ipython3",
   "version": "3.9.12"
  }
 },
 "nbformat": 4,
 "nbformat_minor": 5
}
