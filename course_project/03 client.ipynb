{
 "cells": [
  {
   "cell_type": "markdown",
   "id": "1c421051",
   "metadata": {},
   "source": [
    "# Клиент"
   ]
  },
  {
   "cell_type": "code",
   "execution_count": 1,
   "id": "99a601cd",
   "metadata": {},
   "outputs": [],
   "source": [
    "import requests\n",
    "import urllib.request\n",
    "import json  \n",
    "import pandas as pd\n",
    "from sklearn.metrics import r2_score"
   ]
  },
  {
   "cell_type": "code",
   "execution_count": 2,
   "id": "1ed48f24",
   "metadata": {},
   "outputs": [],
   "source": [
    "SPLIT_DATASET_DIR = 'model/dataset/'"
   ]
  },
  {
   "cell_type": "markdown",
   "id": "5a9856fc",
   "metadata": {},
   "source": [
    "### Реализация запроса"
   ]
  },
  {
   "cell_type": "code",
   "execution_count": 3,
   "id": "0df27425",
   "metadata": {},
   "outputs": [],
   "source": [
    "def get_prediction(x):\n",
    "    \n",
    "    prod_year, engine_volume, mileage, cylinders, airbags, manufacturer, model, category, fuel_type, gear_box_type, drive_wheels, doors, color, leather_interior, wheel, turbo = x\n",
    "    \n",
    "    body = {'Prod_year': int(prod_year),\n",
    "            'Engine_volume': engine_volume,\n",
    "            'Mileage': mileage,\n",
    "            'Cylinders': cylinders,\n",
    "            'Airbags': int(airbags),\n",
    "            'Manufacturer': manufacturer,\n",
    "            'Model': model,\n",
    "            'Category': category,\n",
    "            'Fuel_type': fuel_type,\n",
    "            'Gear_box_type': gear_box_type,\n",
    "            'Drive_wheels': drive_wheels,\n",
    "            'Doors': doors,\n",
    "            'Color': color,\n",
    "            'Leather_interior': leather_interior,\n",
    "            'Wheel': wheel,\n",
    "            'Turbo': str(turbo)\n",
    "    }\n",
    "    \n",
    "    myurl = 'http://127.0.0.1:5000/' + 'predict'\n",
    "    headers = {'content-type': 'application/json; charset=utf-8'}\n",
    "    response = requests.post(myurl, json=body, headers=headers)\n",
    "    return response.json()['predictions']"
   ]
  },
  {
   "cell_type": "markdown",
   "id": "bd3db04e",
   "metadata": {},
   "source": [
    "### Поток запросов"
   ]
  },
  {
   "cell_type": "markdown",
   "id": "a63215f3",
   "metadata": {},
   "source": [
    "1. Загружаем данные"
   ]
  },
  {
   "cell_type": "code",
   "execution_count": 4,
   "id": "4cbfb9e0",
   "metadata": {},
   "outputs": [],
   "source": [
    "# test\n",
    "X_test = pd.read_csv(SPLIT_DATASET_DIR + \"X_test.csv\")\n",
    "y_test = pd.read_csv(SPLIT_DATASET_DIR + \"y_test.csv\")"
   ]
  },
  {
   "cell_type": "markdown",
   "id": "0245c48d",
   "metadata": {},
   "source": [
    "2. Сделаем N запросов и оценим время"
   ]
  },
  {
   "cell_type": "code",
   "execution_count": 5,
   "id": "027731d1",
   "metadata": {},
   "outputs": [],
   "source": [
    "N = 25"
   ]
  },
  {
   "cell_type": "code",
   "execution_count": 6,
   "id": "4483792c",
   "metadata": {
    "scrolled": true
   },
   "outputs": [
    {
     "name": "stdout",
     "output_type": "stream",
     "text": [
      "CPU times: total: 78.1 ms\n",
      "Wall time: 4min 2s\n"
     ]
    }
   ],
   "source": [
    "%%time\n",
    "predictions = X_test.iloc[:N].apply(lambda x: get_prediction(x), axis=1)"
   ]
  },
  {
   "cell_type": "markdown",
   "id": "ce986e2a",
   "metadata": {},
   "source": [
    "3. Метрика"
   ]
  },
  {
   "cell_type": "code",
   "execution_count": 9,
   "id": "a2487f03",
   "metadata": {
    "scrolled": true
   },
   "outputs": [
    {
     "name": "stdout",
     "output_type": "stream",
     "text": [
      "R2: 0.754\n"
     ]
    }
   ],
   "source": [
    "print(f\"R2: {round(r2_score(y_test.iloc[:N], predictions), 3)}\")"
   ]
  },
  {
   "cell_type": "markdown",
   "id": "1869aaf3",
   "metadata": {},
   "source": [
    "---"
   ]
  }
 ],
 "metadata": {
  "kernelspec": {
   "display_name": "Python 3 (ipykernel)",
   "language": "python",
   "name": "python3"
  },
  "language_info": {
   "codemirror_mode": {
    "name": "ipython",
    "version": 3
   },
   "file_extension": ".py",
   "mimetype": "text/x-python",
   "name": "python",
   "nbconvert_exporter": "python",
   "pygments_lexer": "ipython3",
   "version": "3.9.12"
  }
 },
 "nbformat": 4,
 "nbformat_minor": 5
}
