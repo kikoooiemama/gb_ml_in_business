{
 "cells": [
  {
   "cell_type": "markdown",
   "id": "9972a135",
   "metadata": {},
   "source": [
    "# Практическое задание №5 по теме \"Задача оттока: варианты постановки, возможные способы решения\"."
   ]
  },
  {
   "cell_type": "markdown",
   "id": "184289c1",
   "metadata": {},
   "source": [
    "1. Для нашего пайплайна (Case1) поэкспериментировать с разными моделями: \n",
    "    * бустинг\n",
    "    * логистическая регрессия (не забудьте здесь добавить в cont_transformer стандартизацию - нормирование вещественных признаков)\n",
    "2. Отобрать лучшую модель по метрикам (кстати, какая по вашему мнению здесь наиболее подходящая DS-метрика)\n",
    "3. Для отобранной модели (на отложенной выборке) сделать оценку экономической эффективности при тех же вводных, как в вопросе 2:\n",
    "    * 1 доллар на привлечение (удержание)\n",
    "    * 2 доллара - с каждого правильно классифицированного (True Positive) удержанного. \n",
    "    \n",
    "подсказка: нужно посчитать FP/TP/FN/TN для выбранного оптимального порога вероятности и посчитать выручку и траты. \n",
    "\n",
    "4. (опционально) Провести подбор гиперпараметров лучшей модели по итогам 2-3\n",
    "5. (опционально) Еще раз провести оценку экономической эффективности"
   ]
  },
  {
   "cell_type": "code",
   "execution_count": 1,
   "id": "9551999e",
   "metadata": {},
   "outputs": [],
   "source": [
    "import pandas as pd\n",
    "import numpy as np\n",
    "\n",
    "from sklearn.pipeline import Pipeline, FeatureUnion\n",
    "from sklearn.base import BaseEstimator, TransformerMixin\n",
    "from sklearn.model_selection import train_test_split, GridSearchCV\n",
    "from sklearn.preprocessing import StandardScaler\n",
    "from sklearn.linear_model import LogisticRegression\n",
    "from sklearn.ensemble import RandomForestClassifier\n",
    "from xgboost import XGBClassifier\n",
    "from sklearn.metrics import precision_recall_curve, f1_score, confusion_matrix"
   ]
  },
  {
   "cell_type": "code",
   "execution_count": 2,
   "id": "cd6a13c9",
   "metadata": {
    "scrolled": true
   },
   "outputs": [
    {
     "data": {
      "text/html": [
       "<div>\n",
       "<style scoped>\n",
       "    .dataframe tbody tr th:only-of-type {\n",
       "        vertical-align: middle;\n",
       "    }\n",
       "\n",
       "    .dataframe tbody tr th {\n",
       "        vertical-align: top;\n",
       "    }\n",
       "\n",
       "    .dataframe thead th {\n",
       "        text-align: right;\n",
       "    }\n",
       "</style>\n",
       "<table border=\"1\" class=\"dataframe\">\n",
       "  <thead>\n",
       "    <tr style=\"text-align: right;\">\n",
       "      <th></th>\n",
       "      <th>RowNumber</th>\n",
       "      <th>CustomerId</th>\n",
       "      <th>Surname</th>\n",
       "      <th>CreditScore</th>\n",
       "      <th>Geography</th>\n",
       "      <th>Gender</th>\n",
       "      <th>Age</th>\n",
       "      <th>Tenure</th>\n",
       "      <th>Balance</th>\n",
       "      <th>NumOfProducts</th>\n",
       "      <th>HasCrCard</th>\n",
       "      <th>IsActiveMember</th>\n",
       "      <th>EstimatedSalary</th>\n",
       "      <th>Exited</th>\n",
       "    </tr>\n",
       "  </thead>\n",
       "  <tbody>\n",
       "    <tr>\n",
       "      <th>0</th>\n",
       "      <td>1</td>\n",
       "      <td>15634602</td>\n",
       "      <td>Hargrave</td>\n",
       "      <td>619</td>\n",
       "      <td>France</td>\n",
       "      <td>Female</td>\n",
       "      <td>42</td>\n",
       "      <td>2</td>\n",
       "      <td>0.00</td>\n",
       "      <td>1</td>\n",
       "      <td>1</td>\n",
       "      <td>1</td>\n",
       "      <td>101348.88</td>\n",
       "      <td>1</td>\n",
       "    </tr>\n",
       "    <tr>\n",
       "      <th>1</th>\n",
       "      <td>2</td>\n",
       "      <td>15647311</td>\n",
       "      <td>Hill</td>\n",
       "      <td>608</td>\n",
       "      <td>Spain</td>\n",
       "      <td>Female</td>\n",
       "      <td>41</td>\n",
       "      <td>1</td>\n",
       "      <td>83807.86</td>\n",
       "      <td>1</td>\n",
       "      <td>0</td>\n",
       "      <td>1</td>\n",
       "      <td>112542.58</td>\n",
       "      <td>0</td>\n",
       "    </tr>\n",
       "    <tr>\n",
       "      <th>2</th>\n",
       "      <td>3</td>\n",
       "      <td>15619304</td>\n",
       "      <td>Onio</td>\n",
       "      <td>502</td>\n",
       "      <td>France</td>\n",
       "      <td>Female</td>\n",
       "      <td>42</td>\n",
       "      <td>8</td>\n",
       "      <td>159660.80</td>\n",
       "      <td>3</td>\n",
       "      <td>1</td>\n",
       "      <td>0</td>\n",
       "      <td>113931.57</td>\n",
       "      <td>1</td>\n",
       "    </tr>\n",
       "  </tbody>\n",
       "</table>\n",
       "</div>"
      ],
      "text/plain": [
       "   RowNumber  CustomerId   Surname  CreditScore Geography  Gender  Age  \\\n",
       "0          1    15634602  Hargrave          619    France  Female   42   \n",
       "1          2    15647311      Hill          608     Spain  Female   41   \n",
       "2          3    15619304      Onio          502    France  Female   42   \n",
       "\n",
       "   Tenure    Balance  NumOfProducts  HasCrCard  IsActiveMember  \\\n",
       "0       2       0.00              1          1               1   \n",
       "1       1   83807.86              1          0               1   \n",
       "2       8  159660.80              3          1               0   \n",
       "\n",
       "   EstimatedSalary  Exited  \n",
       "0        101348.88       1  \n",
       "1        112542.58       0  \n",
       "2        113931.57       1  "
      ]
     },
     "execution_count": 2,
     "metadata": {},
     "output_type": "execute_result"
    }
   ],
   "source": [
    "df = pd.read_csv(\"churn_data.csv\")\n",
    "df.head(3)"
   ]
  },
  {
   "cell_type": "code",
   "execution_count": 3,
   "id": "4d563306",
   "metadata": {},
   "outputs": [
    {
     "data": {
      "text/plain": [
       "0    7963\n",
       "1    2037\n",
       "Name: Exited, dtype: int64"
      ]
     },
     "execution_count": 3,
     "metadata": {},
     "output_type": "execute_result"
    }
   ],
   "source": [
    "df['Exited'].value_counts()"
   ]
  },
  {
   "cell_type": "markdown",
   "id": "6dc75a31",
   "metadata": {},
   "source": [
    "Не самое плохое распределение (1 к 4)"
   ]
  },
  {
   "cell_type": "code",
   "execution_count": 4,
   "id": "fbcb310c",
   "metadata": {},
   "outputs": [],
   "source": [
    "#разделим данные на train/test\n",
    "X_train, X_test, y_train, y_test = train_test_split(df, df['Exited'], random_state=0)"
   ]
  },
  {
   "cell_type": "code",
   "execution_count": 5,
   "id": "50be7676",
   "metadata": {},
   "outputs": [],
   "source": [
    "#соберем наш простой pipeline, но нам понадобится написать класс для выбора нужного поля\n",
    "class FeatureSelector(BaseEstimator, TransformerMixin):\n",
    "    def __init__(self, column):\n",
    "        self.column = column\n",
    "\n",
    "    def fit(self, X, y=None):\n",
    "        return self\n",
    "\n",
    "    def transform(self, X, y=None):\n",
    "        return X[self.column]\n",
    "    \n",
    "class NumberSelector(BaseEstimator, TransformerMixin):\n",
    "    \"\"\"\n",
    "    Transformer to select a single column from the data frame to perform additional transformations on\n",
    "    Use on numeric columns in the data\n",
    "    \"\"\"\n",
    "    def __init__(self, key):\n",
    "        self.key = key\n",
    "\n",
    "    def fit(self, X, y=None):\n",
    "        return self\n",
    "\n",
    "    def transform(self, X):\n",
    "        return X[[self.key]]\n",
    "\n",
    "# перевод категориального признака в бинарное представление\n",
    "class OHEEncoder(BaseEstimator, TransformerMixin):\n",
    "    def __init__(self, key):\n",
    "        self.key = key\n",
    "        self.columns = []\n",
    "\n",
    "    def fit(self, X, y=None):\n",
    "        self.columns = [col for col in pd.get_dummies(X, prefix=self.key).columns]\n",
    "        return self\n",
    "\n",
    "    def transform(self, X):\n",
    "        X = pd.get_dummies(X, prefix=self.key)\n",
    "        test_columns = [col for col in X.columns]\n",
    "        for col_ in self.columns:\n",
    "            if col_ not in test_columns:\n",
    "                X[col_] = 0\n",
    "        return X[self.columns]"
   ]
  },
  {
   "cell_type": "code",
   "execution_count": 6,
   "id": "b3418745",
   "metadata": {},
   "outputs": [],
   "source": [
    "categorical_columns = ['Geography', 'Gender', 'Tenure', 'HasCrCard', 'IsActiveMember']\n",
    "continuous_columns = ['CreditScore', 'Age', 'Balance', 'NumOfProducts', 'EstimatedSalary']"
   ]
  },
  {
   "cell_type": "code",
   "execution_count": 7,
   "id": "274aa124",
   "metadata": {},
   "outputs": [],
   "source": [
    "final_transformers = list()\n",
    "\n",
    "for cat_col in categorical_columns:\n",
    "    cat_transformer = Pipeline([\n",
    "                ('selector', FeatureSelector(column=cat_col)),\n",
    "                ('ohe', OHEEncoder(key=cat_col))\n",
    "            ])\n",
    "    final_transformers.append((cat_col, cat_transformer))\n",
    "    \n",
    "for cont_col in continuous_columns:\n",
    "    cont_transformer = Pipeline([\n",
    "                ('selector', NumberSelector(key=cont_col)),\n",
    "                ('scaler', StandardScaler()) # делаем для логистической регрессии\n",
    "            ])\n",
    "    final_transformers.append((cont_col, cont_transformer))"
   ]
  },
  {
   "cell_type": "code",
   "execution_count": 8,
   "id": "50b56319",
   "metadata": {},
   "outputs": [],
   "source": [
    "feats = FeatureUnion(final_transformers)\n",
    "\n",
    "feature_processing = Pipeline([('feats', feats)])"
   ]
  },
  {
   "cell_type": "code",
   "execution_count": 9,
   "id": "96e9932a",
   "metadata": {},
   "outputs": [],
   "source": [
    "# словарь для записи результатов \n",
    "models_results = {\n",
    "    'model': [],\n",
    "    'threshold': [],\n",
    "    'f-score': [],\n",
    "    'precision': [],\n",
    "    'recall': []\n",
    "}"
   ]
  },
  {
   "cell_type": "markdown",
   "id": "a95f80c1",
   "metadata": {},
   "source": [
    "## Задание №1"
   ]
  },
  {
   "cell_type": "markdown",
   "id": "49daf6b8",
   "metadata": {},
   "source": [
    "#### 1. Случайный лес"
   ]
  },
  {
   "cell_type": "code",
   "execution_count": 10,
   "id": "24aa170e",
   "metadata": {},
   "outputs": [],
   "source": [
    "pipeline_rf = Pipeline([\n",
    "    ('features', feats),\n",
    "    ('classifier', RandomForestClassifier(random_state=42)),\n",
    "])\n",
    "\n",
    "pipeline_rf.fit(X_train, y_train)\n",
    "preds = pipeline_rf.predict_proba(X_test)[:, 1]"
   ]
  },
  {
   "cell_type": "code",
   "execution_count": 11,
   "id": "8f982ca7",
   "metadata": {},
   "outputs": [],
   "source": [
    "precision, recall, thresholds = precision_recall_curve(y_test, preds)\n",
    "\n",
    "fscore = (2 * precision * recall) / (precision + recall)\n",
    "ix = np.argmax(fscore)\n",
    "cnf_matrix_rf = confusion_matrix(y_test, preds > thresholds[ix])\n",
    "\n",
    "models_results['model'].append('RandomForest')\n",
    "models_results['threshold'].append(thresholds[ix])\n",
    "models_results['f-score'].append(fscore[ix])\n",
    "models_results['precision'].append(precision[ix])\n",
    "models_results['recall'].append(recall[ix])"
   ]
  },
  {
   "cell_type": "markdown",
   "id": "d33f4e72",
   "metadata": {},
   "source": [
    "#### 2. Градиентный бустинг"
   ]
  },
  {
   "cell_type": "code",
   "execution_count": 12,
   "id": "c8cf6c54",
   "metadata": {},
   "outputs": [],
   "source": [
    "pipeline_xgb = Pipeline([\n",
    "    ('features', feats),\n",
    "    ('classifier', XGBClassifier(random_state=42)),\n",
    "])\n",
    "\n",
    "pipeline_xgb.fit(X_train, y_train)\n",
    "preds = pipeline_xgb.predict_proba(X_test)[:, 1]"
   ]
  },
  {
   "cell_type": "code",
   "execution_count": 13,
   "id": "8a267912",
   "metadata": {},
   "outputs": [],
   "source": [
    "precision, recall, thresholds = precision_recall_curve(y_test, preds)\n",
    "\n",
    "fscore = (2 * precision * recall) / (precision + recall)\n",
    "ix = np.argmax(fscore)\n",
    "cnf_matrix_xgb = confusion_matrix(y_test, preds > thresholds[ix])\n",
    "\n",
    "models_results['model'].append('XGB')\n",
    "models_results['threshold'].append(thresholds[ix])\n",
    "models_results['f-score'].append(fscore[ix])\n",
    "models_results['precision'].append(precision[ix])\n",
    "models_results['recall'].append(recall[ix])"
   ]
  },
  {
   "cell_type": "markdown",
   "id": "ff32ef4a",
   "metadata": {},
   "source": [
    "#### 3. Логистическая регрессия"
   ]
  },
  {
   "cell_type": "code",
   "execution_count": 14,
   "id": "0bc79717",
   "metadata": {},
   "outputs": [],
   "source": [
    "pipeline_lr = Pipeline([\n",
    "    ('features', feats),\n",
    "    ('classifier', LogisticRegression(random_state=42)),\n",
    "])\n",
    "\n",
    "pipeline_lr.fit(X_train, y_train)\n",
    "preds = pipeline_lr.predict_proba(X_test)[:, 1]"
   ]
  },
  {
   "cell_type": "code",
   "execution_count": 15,
   "id": "2bf4817a",
   "metadata": {},
   "outputs": [],
   "source": [
    "precision, recall, thresholds = precision_recall_curve(y_test, preds)\n",
    "\n",
    "fscore = (2 * precision * recall) / (precision + recall)\n",
    "ix = np.argmax(fscore)\n",
    "cnf_matrix_lr = confusion_matrix(y_test, preds > thresholds[ix])\n",
    "\n",
    "models_results['model'].append('LogReg')\n",
    "models_results['threshold'].append(thresholds[ix])\n",
    "models_results['f-score'].append(fscore[ix])\n",
    "models_results['precision'].append(precision[ix])\n",
    "models_results['recall'].append(recall[ix])"
   ]
  },
  {
   "cell_type": "markdown",
   "id": "c95f62b7",
   "metadata": {},
   "source": [
    "## Задание №2"
   ]
  },
  {
   "cell_type": "code",
   "execution_count": 16,
   "id": "74e9439b",
   "metadata": {
    "scrolled": true
   },
   "outputs": [
    {
     "data": {
      "text/html": [
       "<div>\n",
       "<style scoped>\n",
       "    .dataframe tbody tr th:only-of-type {\n",
       "        vertical-align: middle;\n",
       "    }\n",
       "\n",
       "    .dataframe tbody tr th {\n",
       "        vertical-align: top;\n",
       "    }\n",
       "\n",
       "    .dataframe thead th {\n",
       "        text-align: right;\n",
       "    }\n",
       "</style>\n",
       "<table border=\"1\" class=\"dataframe\">\n",
       "  <thead>\n",
       "    <tr style=\"text-align: right;\">\n",
       "      <th></th>\n",
       "      <th>threshold</th>\n",
       "      <th>f-score</th>\n",
       "      <th>precision</th>\n",
       "      <th>recall</th>\n",
       "    </tr>\n",
       "    <tr>\n",
       "      <th>model</th>\n",
       "      <th></th>\n",
       "      <th></th>\n",
       "      <th></th>\n",
       "      <th></th>\n",
       "    </tr>\n",
       "  </thead>\n",
       "  <tbody>\n",
       "    <tr>\n",
       "      <th>RandomForest</th>\n",
       "      <td>0.380000</td>\n",
       "      <td>0.641283</td>\n",
       "      <td>0.654397</td>\n",
       "      <td>0.628684</td>\n",
       "    </tr>\n",
       "    <tr>\n",
       "      <th>XGB</th>\n",
       "      <td>0.373318</td>\n",
       "      <td>0.625850</td>\n",
       "      <td>0.619231</td>\n",
       "      <td>0.632613</td>\n",
       "    </tr>\n",
       "    <tr>\n",
       "      <th>LogReg</th>\n",
       "      <td>0.289522</td>\n",
       "      <td>0.509700</td>\n",
       "      <td>0.462400</td>\n",
       "      <td>0.567780</td>\n",
       "    </tr>\n",
       "  </tbody>\n",
       "</table>\n",
       "</div>"
      ],
      "text/plain": [
       "              threshold   f-score  precision    recall\n",
       "model                                                 \n",
       "RandomForest   0.380000  0.641283   0.654397  0.628684\n",
       "XGB            0.373318  0.625850   0.619231  0.632613\n",
       "LogReg         0.289522  0.509700   0.462400  0.567780"
      ]
     },
     "execution_count": 16,
     "metadata": {},
     "output_type": "execute_result"
    }
   ],
   "source": [
    "pd.DataFrame(models_results).set_index('model')"
   ]
  },
  {
   "cell_type": "markdown",
   "id": "b7b17c67",
   "metadata": {},
   "source": [
    "По полученным результатам мы можем сделать вывод, что самые высокие результаты показала модель **RandomForest**."
   ]
  },
  {
   "cell_type": "markdown",
   "id": "466a5dbd",
   "metadata": {},
   "source": [
    "## Задание №3"
   ]
  },
  {
   "cell_type": "markdown",
   "id": "fa855cd4",
   "metadata": {},
   "source": [
    "Сделаем оценку экономической эффективности для модели **RandomForest**."
   ]
  },
  {
   "cell_type": "code",
   "execution_count": 17,
   "id": "93dbd9c8",
   "metadata": {},
   "outputs": [],
   "source": [
    "TN = cnf_matrix_rf[0][0]\n",
    "FP = cnf_matrix_rf[0][1]\n",
    "FN = cnf_matrix_rf[1][0]\n",
    "TP = cnf_matrix_rf[1][1]"
   ]
  },
  {
   "cell_type": "code",
   "execution_count": 18,
   "id": "88826756",
   "metadata": {},
   "outputs": [
    {
     "name": "stdout",
     "output_type": "stream",
     "text": [
      "Экономическая выгода: 156\n"
     ]
    }
   ],
   "source": [
    "income = TP * 2\n",
    "costs = (FP + TP) * 1\n",
    "profit = income - costs\n",
    "print(f\"Экономическая выгода: {profit}\")"
   ]
  },
  {
   "cell_type": "markdown",
   "id": "f41dac03",
   "metadata": {},
   "source": [
    "## Задание №4"
   ]
  },
  {
   "cell_type": "code",
   "execution_count": 19,
   "id": "72fe3ecf",
   "metadata": {},
   "outputs": [],
   "source": [
    "params={'classifier__max_features':[0.3, 0.5, 0.7], # максимальное количество признаков (доля признаков)\n",
    "        'classifier__min_samples_leaf':[1, 2, 3], # минимальное количество объектов в одном листе\n",
    "        'classifier__max_depth':[50, 100, 150, 200], # максимальная глубина дерева в лесу\n",
    "        'classifier__class_weight':[{0:1, 1:4}, 'balanced_subsample'] \n",
    "        }"
   ]
  },
  {
   "cell_type": "code",
   "execution_count": 20,
   "id": "caf0d1e9",
   "metadata": {},
   "outputs": [
    {
     "data": {
      "text/plain": [
       "{'classifier__class_weight': {0: 1, 1: 4},\n",
       " 'classifier__max_depth': 50,\n",
       " 'classifier__max_features': 0.3,\n",
       " 'classifier__min_samples_leaf': 1}"
      ]
     },
     "execution_count": 20,
     "metadata": {},
     "output_type": "execute_result"
    }
   ],
   "source": [
    "grid = GridSearchCV(pipeline_rf,\n",
    "                    param_grid=params,\n",
    "                    cv=5,\n",
    "                    refit=False)\n",
    "\n",
    "search = grid.fit(X_train, y_train)\n",
    "search.best_params_"
   ]
  },
  {
   "cell_type": "markdown",
   "id": "1b29b433",
   "metadata": {},
   "source": [
    "Создаем новый pipeline и обучаем модель уже с новыми найденными GridSearch параметрами:"
   ]
  },
  {
   "cell_type": "markdown",
   "id": "430bd484",
   "metadata": {},
   "source": [
    "Создаем новый pipeline и обучаем модель уже с основыми параметрами:"
   ]
  },
  {
   "cell_type": "code",
   "execution_count": 21,
   "id": "fd757561",
   "metadata": {},
   "outputs": [],
   "source": [
    "pipeline = Pipeline([\n",
    "    ('features',feats),\n",
    "    ('classifier', RandomForestClassifier(max_depth=50, \n",
    "                                          max_features=0.3, \n",
    "                                          min_samples_leaf=1, # хоть это и переобучние, но у нас все таки лес - Bagging\n",
    "                                          class_weight={0:1, 1:4},\n",
    "                                          random_state=42))\n",
    "])\n",
    "\n",
    "pipeline.fit(X_train, y_train)\n",
    "preds = pipeline.predict_proba(X_test)[:, 1]"
   ]
  },
  {
   "cell_type": "code",
   "execution_count": 22,
   "id": "4a3c3927",
   "metadata": {},
   "outputs": [],
   "source": [
    "precision, recall, thresholds = precision_recall_curve(y_test, preds)\n",
    "\n",
    "fscore = (2 * precision * recall) / (precision + recall)\n",
    "ix = np.argmax(fscore)\n",
    "cnf_matrix = confusion_matrix(y_test, preds > thresholds[ix])\n",
    "\n",
    "models_results['model'].append('RandomForestOpt')\n",
    "models_results['threshold'].append(thresholds[ix])\n",
    "models_results['f-score'].append(fscore[ix])\n",
    "models_results['precision'].append(precision[ix])\n",
    "models_results['recall'].append(recall[ix])"
   ]
  },
  {
   "cell_type": "markdown",
   "id": "fa8a0865",
   "metadata": {},
   "source": [
    "Сравним получившиеся метрики с ранее посчитанными:"
   ]
  },
  {
   "cell_type": "code",
   "execution_count": 23,
   "id": "cadb3565",
   "metadata": {
    "scrolled": true
   },
   "outputs": [
    {
     "data": {
      "text/html": [
       "<div>\n",
       "<style scoped>\n",
       "    .dataframe tbody tr th:only-of-type {\n",
       "        vertical-align: middle;\n",
       "    }\n",
       "\n",
       "    .dataframe tbody tr th {\n",
       "        vertical-align: top;\n",
       "    }\n",
       "\n",
       "    .dataframe thead th {\n",
       "        text-align: right;\n",
       "    }\n",
       "</style>\n",
       "<table border=\"1\" class=\"dataframe\">\n",
       "  <thead>\n",
       "    <tr style=\"text-align: right;\">\n",
       "      <th></th>\n",
       "      <th>threshold</th>\n",
       "      <th>f-score</th>\n",
       "      <th>precision</th>\n",
       "      <th>recall</th>\n",
       "    </tr>\n",
       "    <tr>\n",
       "      <th>model</th>\n",
       "      <th></th>\n",
       "      <th></th>\n",
       "      <th></th>\n",
       "      <th></th>\n",
       "    </tr>\n",
       "  </thead>\n",
       "  <tbody>\n",
       "    <tr>\n",
       "      <th>RandomForest</th>\n",
       "      <td>0.380000</td>\n",
       "      <td>0.641283</td>\n",
       "      <td>0.654397</td>\n",
       "      <td>0.628684</td>\n",
       "    </tr>\n",
       "    <tr>\n",
       "      <th>XGB</th>\n",
       "      <td>0.373318</td>\n",
       "      <td>0.625850</td>\n",
       "      <td>0.619231</td>\n",
       "      <td>0.632613</td>\n",
       "    </tr>\n",
       "    <tr>\n",
       "      <th>LogReg</th>\n",
       "      <td>0.289522</td>\n",
       "      <td>0.509700</td>\n",
       "      <td>0.462400</td>\n",
       "      <td>0.567780</td>\n",
       "    </tr>\n",
       "    <tr>\n",
       "      <th>RandomForestOpt</th>\n",
       "      <td>0.420000</td>\n",
       "      <td>0.643923</td>\n",
       "      <td>0.703963</td>\n",
       "      <td>0.593320</td>\n",
       "    </tr>\n",
       "  </tbody>\n",
       "</table>\n",
       "</div>"
      ],
      "text/plain": [
       "                 threshold   f-score  precision    recall\n",
       "model                                                    \n",
       "RandomForest      0.380000  0.641283   0.654397  0.628684\n",
       "XGB               0.373318  0.625850   0.619231  0.632613\n",
       "LogReg            0.289522  0.509700   0.462400  0.567780\n",
       "RandomForestOpt   0.420000  0.643923   0.703963  0.593320"
      ]
     },
     "execution_count": 23,
     "metadata": {},
     "output_type": "execute_result"
    }
   ],
   "source": [
    "pd.DataFrame(models_results).set_index('model')"
   ]
  },
  {
   "cell_type": "markdown",
   "id": "f17dfdd2",
   "metadata": {},
   "source": [
    "## Задание №5"
   ]
  },
  {
   "cell_type": "code",
   "execution_count": 24,
   "id": "57718779",
   "metadata": {},
   "outputs": [],
   "source": [
    "TN = cnf_matrix[0][0]\n",
    "FP = cnf_matrix[0][1]\n",
    "FN = cnf_matrix[1][0]\n",
    "TP = cnf_matrix[1][1]"
   ]
  },
  {
   "cell_type": "code",
   "execution_count": 25,
   "id": "1df70c3c",
   "metadata": {},
   "outputs": [
    {
     "name": "stdout",
     "output_type": "stream",
     "text": [
      "Экономическая выгода до подбора гиперпараметров: 156\n",
      "Экономическая выгода после подбора гиперпараметров: 178\n",
      "Выгода от применения оптимизации: 22\n"
     ]
    }
   ],
   "source": [
    "income = TP * 2\n",
    "costs = (FP + TP) * 1\n",
    "profit_after_opt = income - costs\n",
    "print(f\"Экономическая выгода до подбора гиперпараметров: {profit}\")\n",
    "print(f\"Экономическая выгода после подбора гиперпараметров: {profit_after_opt}\")\n",
    "print(f\"Выгода от применения оптимизации: {profit_after_opt-profit}\")"
   ]
  },
  {
   "cell_type": "markdown",
   "id": "95354f59",
   "metadata": {},
   "source": [
    "---"
   ]
  }
 ],
 "metadata": {
  "kernelspec": {
   "display_name": "Python 3 (ipykernel)",
   "language": "python",
   "name": "python3"
  },
  "language_info": {
   "codemirror_mode": {
    "name": "ipython",
    "version": 3
   },
   "file_extension": ".py",
   "mimetype": "text/x-python",
   "name": "python",
   "nbconvert_exporter": "python",
   "pygments_lexer": "ipython3",
   "version": "3.9.12"
  }
 },
 "nbformat": 4,
 "nbformat_minor": 5
}
