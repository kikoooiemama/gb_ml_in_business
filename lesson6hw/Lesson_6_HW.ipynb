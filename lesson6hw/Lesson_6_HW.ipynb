{
 "cells": [
  {
   "cell_type": "markdown",
   "id": "53f8aa29",
   "metadata": {},
   "source": [
    "# Практическое задание №6 по теме \"Задача lookalike (Positive Unlabeled Learning)\"."
   ]
  },
  {
   "cell_type": "markdown",
   "id": "2891d81b",
   "metadata": {},
   "source": [
    "1. Взять любой набор данных для бинарной классификации (можно скачать один из модельных с https://archive.ics.uci.edu/ml/datasets.php)\n",
    "3. Сделать feature engineering (под вопросом)\n",
    "4. Обучить любой классификатор (какой вам нравится)\n",
    "5. Разделить ваш набор данных на два множества: P (positives) и U (unlabeled). Причем брать нужно не все положительные (класс 1) примеры, а только лишь часть\n",
    "6. Применить random negative sampling для построения классификатора в новых условиях\n",
    "7. Сравнить качество с решением из пункта 4 (построить отчет - таблицу метрик)\n",
    "8. Поэкспериментировать с долей P на шаге 5 (как будет меняться качество модели при уменьшении/увеличении размера P)"
   ]
  },
  {
   "cell_type": "code",
   "execution_count": 1,
   "id": "87dc86a8",
   "metadata": {},
   "outputs": [],
   "source": [
    "import pandas as pd\n",
    "import numpy as np\n",
    "\n",
    "from sklearn.model_selection import train_test_split\n",
    "from sklearn.base import BaseEstimator, TransformerMixin\n",
    "from sklearn.pipeline import Pipeline\n",
    "from sklearn.pipeline import FeatureUnion\n",
    "from sklearn.ensemble import RandomForestClassifier\n",
    "from sklearn.metrics import recall_score, precision_score, roc_auc_score, f1_score\n",
    "import matplotlib.pyplot as plt\n",
    "%matplotlib inline\n",
    "\n",
    "import warnings\n",
    "warnings.filterwarnings('ignore')"
   ]
  },
  {
   "cell_type": "code",
   "execution_count": 2,
   "id": "3837a5fd",
   "metadata": {},
   "outputs": [],
   "source": [
    "# словарь для записи результатов \n",
    "results = {}"
   ]
  },
  {
   "cell_type": "markdown",
   "id": "0b0369d4",
   "metadata": {},
   "source": [
    "## Задание №1"
   ]
  },
  {
   "cell_type": "markdown",
   "id": "8d1764f3",
   "metadata": {},
   "source": [
    "Возьмем датасет из урока по оттоку (клиенты банка).<br>\n",
    "1 - человек пошел в отток<br>\n",
    "0 - человек остается с нами"
   ]
  },
  {
   "cell_type": "code",
   "execution_count": 3,
   "id": "aa06a435",
   "metadata": {},
   "outputs": [
    {
     "data": {
      "text/html": [
       "<div>\n",
       "<style scoped>\n",
       "    .dataframe tbody tr th:only-of-type {\n",
       "        vertical-align: middle;\n",
       "    }\n",
       "\n",
       "    .dataframe tbody tr th {\n",
       "        vertical-align: top;\n",
       "    }\n",
       "\n",
       "    .dataframe thead th {\n",
       "        text-align: right;\n",
       "    }\n",
       "</style>\n",
       "<table border=\"1\" class=\"dataframe\">\n",
       "  <thead>\n",
       "    <tr style=\"text-align: right;\">\n",
       "      <th></th>\n",
       "      <th>RowNumber</th>\n",
       "      <th>CustomerId</th>\n",
       "      <th>Surname</th>\n",
       "      <th>CreditScore</th>\n",
       "      <th>Geography</th>\n",
       "      <th>Gender</th>\n",
       "      <th>Age</th>\n",
       "      <th>Tenure</th>\n",
       "      <th>Balance</th>\n",
       "      <th>NumOfProducts</th>\n",
       "      <th>HasCrCard</th>\n",
       "      <th>IsActiveMember</th>\n",
       "      <th>EstimatedSalary</th>\n",
       "      <th>Exited</th>\n",
       "    </tr>\n",
       "  </thead>\n",
       "  <tbody>\n",
       "    <tr>\n",
       "      <th>0</th>\n",
       "      <td>1</td>\n",
       "      <td>15634602</td>\n",
       "      <td>Hargrave</td>\n",
       "      <td>619</td>\n",
       "      <td>France</td>\n",
       "      <td>Female</td>\n",
       "      <td>42</td>\n",
       "      <td>2</td>\n",
       "      <td>0.00</td>\n",
       "      <td>1</td>\n",
       "      <td>1</td>\n",
       "      <td>1</td>\n",
       "      <td>101348.88</td>\n",
       "      <td>1</td>\n",
       "    </tr>\n",
       "    <tr>\n",
       "      <th>1</th>\n",
       "      <td>2</td>\n",
       "      <td>15647311</td>\n",
       "      <td>Hill</td>\n",
       "      <td>608</td>\n",
       "      <td>Spain</td>\n",
       "      <td>Female</td>\n",
       "      <td>41</td>\n",
       "      <td>1</td>\n",
       "      <td>83807.86</td>\n",
       "      <td>1</td>\n",
       "      <td>0</td>\n",
       "      <td>1</td>\n",
       "      <td>112542.58</td>\n",
       "      <td>0</td>\n",
       "    </tr>\n",
       "    <tr>\n",
       "      <th>2</th>\n",
       "      <td>3</td>\n",
       "      <td>15619304</td>\n",
       "      <td>Onio</td>\n",
       "      <td>502</td>\n",
       "      <td>France</td>\n",
       "      <td>Female</td>\n",
       "      <td>42</td>\n",
       "      <td>8</td>\n",
       "      <td>159660.80</td>\n",
       "      <td>3</td>\n",
       "      <td>1</td>\n",
       "      <td>0</td>\n",
       "      <td>113931.57</td>\n",
       "      <td>1</td>\n",
       "    </tr>\n",
       "  </tbody>\n",
       "</table>\n",
       "</div>"
      ],
      "text/plain": [
       "   RowNumber  CustomerId   Surname  CreditScore Geography  Gender  Age  \\\n",
       "0          1    15634602  Hargrave          619    France  Female   42   \n",
       "1          2    15647311      Hill          608     Spain  Female   41   \n",
       "2          3    15619304      Onio          502    France  Female   42   \n",
       "\n",
       "   Tenure    Balance  NumOfProducts  HasCrCard  IsActiveMember  \\\n",
       "0       2       0.00              1          1               1   \n",
       "1       1   83807.86              1          0               1   \n",
       "2       8  159660.80              3          1               0   \n",
       "\n",
       "   EstimatedSalary  Exited  \n",
       "0        101348.88       1  \n",
       "1        112542.58       0  \n",
       "2        113931.57       1  "
      ]
     },
     "execution_count": 3,
     "metadata": {},
     "output_type": "execute_result"
    }
   ],
   "source": [
    "df = pd.read_csv(\"churn_data.csv\")\n",
    "df.head(3)"
   ]
  },
  {
   "cell_type": "code",
   "execution_count": 4,
   "id": "2c696a1d",
   "metadata": {
    "scrolled": true
   },
   "outputs": [
    {
     "data": {
      "text/plain": [
       "0    7963\n",
       "1    2037\n",
       "Name: Exited, dtype: int64"
      ]
     },
     "execution_count": 4,
     "metadata": {},
     "output_type": "execute_result"
    }
   ],
   "source": [
    "df['Exited'].value_counts()"
   ]
  },
  {
   "cell_type": "markdown",
   "id": "be6b3c5c",
   "metadata": {},
   "source": [
    "Не самое плохое распределение (1 к 4)"
   ]
  },
  {
   "cell_type": "code",
   "execution_count": 5,
   "id": "950afedf",
   "metadata": {
    "scrolled": true
   },
   "outputs": [
    {
     "name": "stdout",
     "output_type": "stream",
     "text": [
      "<class 'pandas.core.frame.DataFrame'>\n",
      "RangeIndex: 10000 entries, 0 to 9999\n",
      "Data columns (total 14 columns):\n",
      " #   Column           Non-Null Count  Dtype  \n",
      "---  ------           --------------  -----  \n",
      " 0   RowNumber        10000 non-null  int64  \n",
      " 1   CustomerId       10000 non-null  int64  \n",
      " 2   Surname          10000 non-null  object \n",
      " 3   CreditScore      10000 non-null  int64  \n",
      " 4   Geography        10000 non-null  object \n",
      " 5   Gender           10000 non-null  object \n",
      " 6   Age              10000 non-null  int64  \n",
      " 7   Tenure           10000 non-null  int64  \n",
      " 8   Balance          10000 non-null  float64\n",
      " 9   NumOfProducts    10000 non-null  int64  \n",
      " 10  HasCrCard        10000 non-null  int64  \n",
      " 11  IsActiveMember   10000 non-null  int64  \n",
      " 12  EstimatedSalary  10000 non-null  float64\n",
      " 13  Exited           10000 non-null  int64  \n",
      "dtypes: float64(2), int64(9), object(3)\n",
      "memory usage: 1.1+ MB\n"
     ]
    }
   ],
   "source": [
    "df.info()"
   ]
  },
  {
   "cell_type": "markdown",
   "id": "ca260c28",
   "metadata": {},
   "source": [
    "## Задание №2"
   ]
  },
  {
   "cell_type": "markdown",
   "id": "e9f213e3",
   "metadata": {},
   "source": [
    "Составим списки и избавимся от RowNumber, CustomerId, Surname. "
   ]
  },
  {
   "cell_type": "code",
   "execution_count": 6,
   "id": "573de7d8",
   "metadata": {},
   "outputs": [],
   "source": [
    "num_features = ['CreditScore', 'Age', 'Tenure', 'Balance', 'NumOfProducts', 'EstimatedSalary']\n",
    "cat_features = ['Geography', 'Gender', 'HasCrCard', 'IsActiveMember']\n",
    "target = ['Exited']"
   ]
  },
  {
   "cell_type": "code",
   "execution_count": 7,
   "id": "ad4c3d66",
   "metadata": {},
   "outputs": [
    {
     "data": {
      "text/html": [
       "<div>\n",
       "<style scoped>\n",
       "    .dataframe tbody tr th:only-of-type {\n",
       "        vertical-align: middle;\n",
       "    }\n",
       "\n",
       "    .dataframe tbody tr th {\n",
       "        vertical-align: top;\n",
       "    }\n",
       "\n",
       "    .dataframe thead th {\n",
       "        text-align: right;\n",
       "    }\n",
       "</style>\n",
       "<table border=\"1\" class=\"dataframe\">\n",
       "  <thead>\n",
       "    <tr style=\"text-align: right;\">\n",
       "      <th></th>\n",
       "      <th>CreditScore</th>\n",
       "      <th>Age</th>\n",
       "      <th>Tenure</th>\n",
       "      <th>Balance</th>\n",
       "      <th>NumOfProducts</th>\n",
       "      <th>EstimatedSalary</th>\n",
       "      <th>Geography</th>\n",
       "      <th>Gender</th>\n",
       "      <th>HasCrCard</th>\n",
       "      <th>IsActiveMember</th>\n",
       "      <th>Exited</th>\n",
       "    </tr>\n",
       "  </thead>\n",
       "  <tbody>\n",
       "    <tr>\n",
       "      <th>0</th>\n",
       "      <td>619</td>\n",
       "      <td>42</td>\n",
       "      <td>2</td>\n",
       "      <td>0.00</td>\n",
       "      <td>1</td>\n",
       "      <td>101348.88</td>\n",
       "      <td>France</td>\n",
       "      <td>Female</td>\n",
       "      <td>1</td>\n",
       "      <td>1</td>\n",
       "      <td>1</td>\n",
       "    </tr>\n",
       "    <tr>\n",
       "      <th>1</th>\n",
       "      <td>608</td>\n",
       "      <td>41</td>\n",
       "      <td>1</td>\n",
       "      <td>83807.86</td>\n",
       "      <td>1</td>\n",
       "      <td>112542.58</td>\n",
       "      <td>Spain</td>\n",
       "      <td>Female</td>\n",
       "      <td>0</td>\n",
       "      <td>1</td>\n",
       "      <td>0</td>\n",
       "    </tr>\n",
       "    <tr>\n",
       "      <th>2</th>\n",
       "      <td>502</td>\n",
       "      <td>42</td>\n",
       "      <td>8</td>\n",
       "      <td>159660.80</td>\n",
       "      <td>3</td>\n",
       "      <td>113931.57</td>\n",
       "      <td>France</td>\n",
       "      <td>Female</td>\n",
       "      <td>1</td>\n",
       "      <td>0</td>\n",
       "      <td>1</td>\n",
       "    </tr>\n",
       "  </tbody>\n",
       "</table>\n",
       "</div>"
      ],
      "text/plain": [
       "   CreditScore  Age  Tenure    Balance  NumOfProducts  EstimatedSalary  \\\n",
       "0          619   42       2       0.00              1        101348.88   \n",
       "1          608   41       1   83807.86              1        112542.58   \n",
       "2          502   42       8  159660.80              3        113931.57   \n",
       "\n",
       "  Geography  Gender  HasCrCard  IsActiveMember  Exited  \n",
       "0    France  Female          1               1       1  \n",
       "1     Spain  Female          0               1       0  \n",
       "2    France  Female          1               0       1  "
      ]
     },
     "execution_count": 7,
     "metadata": {},
     "output_type": "execute_result"
    }
   ],
   "source": [
    "df = df[num_features+cat_features+target]\n",
    "df.head(3)"
   ]
  },
  {
   "cell_type": "code",
   "execution_count": 8,
   "id": "06e04f6f",
   "metadata": {},
   "outputs": [],
   "source": [
    "X_train, X_test, y_train, y_test = train_test_split(df, df[target], random_state=12)"
   ]
  },
  {
   "cell_type": "code",
   "execution_count": 9,
   "id": "dc55084a",
   "metadata": {},
   "outputs": [],
   "source": [
    "class FeatureSelector(BaseEstimator, TransformerMixin):\n",
    "    def __init__(self, column):\n",
    "        self.column = column\n",
    "\n",
    "    def fit(self, X, y=None):\n",
    "        return self\n",
    "\n",
    "    def transform(self, X, y=None):\n",
    "        return X[self.column]\n",
    "    \n",
    "class NumberSelector(BaseEstimator, TransformerMixin):\n",
    "    \"\"\"\n",
    "    Transformer to select a single column from the data frame to perform additional transformations on\n",
    "    Use on numeric columns in the data\n",
    "    \"\"\"\n",
    "    def __init__(self, key):\n",
    "        self.key = key\n",
    "\n",
    "    def fit(self, X, y=None):\n",
    "        return self\n",
    "\n",
    "    def transform(self, X):\n",
    "        return X[[self.key]]\n",
    "\n",
    "# перевод категориального признака в бинарное представление\n",
    "class OHEEncoder(BaseEstimator, TransformerMixin):\n",
    "    def __init__(self, key):\n",
    "        self.key = key\n",
    "        self.columns = []\n",
    "\n",
    "    def fit(self, X, y=None):\n",
    "        self.columns = [col for col in pd.get_dummies(X, prefix=self.key).columns]\n",
    "        return self\n",
    "\n",
    "    def transform(self, X):\n",
    "        X = pd.get_dummies(X, prefix=self.key)\n",
    "        test_columns = [col for col in X.columns]\n",
    "        for col_ in self.columns:\n",
    "            if col_ not in test_columns:\n",
    "                X[col_] = 0\n",
    "        return X[self.columns]"
   ]
  },
  {
   "cell_type": "code",
   "execution_count": 10,
   "id": "e4513009",
   "metadata": {},
   "outputs": [],
   "source": [
    "def print_pu_metrics(pu_metrics, pu_learning_perc_dict):\n",
    "    plt.figure(figsize=(14, 8))\n",
    "    x = np.fromiter(pu_learning_perc_dict.values(), dtype=float)*100\n",
    "    y1 = pu_metrics['f-score']\n",
    "    y2 = pu_metrics['recall'] \n",
    "    y3 = pu_metrics['precision']\n",
    "    plt.plot(x, y1, label='f-score')\n",
    "    plt.plot(x, y2, label='recall')\n",
    "    plt.plot(x, y3, label='precision')\n",
    "    plt.title(\"Графики зависимостей показателей метрик от доли позитивных ответов P\")\n",
    "    plt.xlabel(\"Доля позитивных ответов P, %\")\n",
    "    plt.ylabel(\"Значение метрик, [0, 1]\", )\n",
    "    plt.legend()\n",
    "    plt.grid()\n",
    "    plt.show()"
   ]
  },
  {
   "cell_type": "code",
   "execution_count": 11,
   "id": "a6bbfbe4",
   "metadata": {},
   "outputs": [],
   "source": [
    "final_transformers = list()\n",
    "\n",
    "for cat_col in cat_features:\n",
    "    cat_transformer = Pipeline([\n",
    "                ('selector', FeatureSelector(column=cat_col)),\n",
    "                ('ohe', OHEEncoder(key=cat_col))\n",
    "            ])\n",
    "    final_transformers.append((cat_col, cat_transformer))\n",
    "    \n",
    "for cont_col in num_features:\n",
    "    cont_transformer = Pipeline([\n",
    "                ('selector', NumberSelector(key=cont_col))\n",
    "            ])\n",
    "    final_transformers.append((cont_col, cont_transformer))"
   ]
  },
  {
   "cell_type": "code",
   "execution_count": 12,
   "id": "b7522351",
   "metadata": {},
   "outputs": [],
   "source": [
    "feats = FeatureUnion(final_transformers)\n",
    "\n",
    "feature_processing = Pipeline([('feats', feats)])"
   ]
  },
  {
   "cell_type": "markdown",
   "id": "7fe2222d",
   "metadata": {},
   "source": [
    "## Задание №3\n",
    "\n",
    "Обучим классификатор \"Случайный лес\"."
   ]
  },
  {
   "cell_type": "code",
   "execution_count": 13,
   "id": "4e492417",
   "metadata": {},
   "outputs": [],
   "source": [
    "pipeline = Pipeline([\n",
    "    ('features',feats),\n",
    "    ('classifier', RandomForestClassifier(random_state = 42)),\n",
    "])"
   ]
  },
  {
   "cell_type": "code",
   "execution_count": 14,
   "id": "217a6a5f",
   "metadata": {
    "scrolled": true
   },
   "outputs": [],
   "source": [
    "pipeline.fit(X_train, y_train)\n",
    "preds = pipeline.predict(X_test)"
   ]
  },
  {
   "cell_type": "code",
   "execution_count": 15,
   "id": "ce768dcc",
   "metadata": {
    "scrolled": false
   },
   "outputs": [
    {
     "name": "stdout",
     "output_type": "stream",
     "text": [
      "f1: 59.22%\n",
      "roc: 71.70%\n",
      "recall: 46.22%\n",
      "precision: 82.37%\n"
     ]
    }
   ],
   "source": [
    "f1 = f1_score(y_test, preds)\n",
    "print(\"f1: %.2f%%\" % (f1 * 100.0))\n",
    "roc = roc_auc_score(y_test, preds)\n",
    "print(\"roc: %.2f%%\" % (roc * 100.0)) \n",
    "recall = recall_score(y_test, preds, average='binary')\n",
    "print(\"recall: %.2f%%\" % (recall * 100.0)) \n",
    "precision = precision_score(y_test, preds, average='binary')\n",
    "print(\"precision: %.2f%%\" % (precision * 100.0)) "
   ]
  },
  {
   "cell_type": "code",
   "execution_count": 16,
   "id": "43f31e4b",
   "metadata": {},
   "outputs": [],
   "source": [
    "results['RandomForest'] = [f1, roc, recall, precision]"
   ]
  },
  {
   "cell_type": "markdown",
   "id": "6633d32f",
   "metadata": {},
   "source": [
    "## Задание №4, 5"
   ]
  },
  {
   "cell_type": "markdown",
   "id": "d8c16706",
   "metadata": {},
   "source": [
    "Теперь очередь за **PU Learning**. Заранее сделаем PU Learning с разными долями P (это нужно для дальнейших заданий)."
   ]
  },
  {
   "cell_type": "code",
   "execution_count": 17,
   "id": "52700a7e",
   "metadata": {},
   "outputs": [],
   "source": [
    "pu_learning_perc = {'PU_10':0.1, 'PU_15':0.15, 'PU_20':0.2, 'PU_25':0.25, 'PU_30':0.3, 'PU_40':0.4, 'PU_50':0.5, 'PU_75':0.75}"
   ]
  },
  {
   "cell_type": "code",
   "execution_count": 18,
   "id": "98d5558d",
   "metadata": {
    "scrolled": false
   },
   "outputs": [
    {
     "name": "stdout",
     "output_type": "stream",
     "text": [
      "PU Learning 10.0%\n",
      "\t\tUsing 204/2037 as positives and unlabeling the rest.\n",
      "\t\tNeg: (204, 12), Pos: (204, 12)\n",
      "\t\tTrain: (408, 12), Test: (9592, 12)\n",
      "PU Learning 15.0%\n",
      "\t\tUsing 306/2037 as positives and unlabeling the rest.\n",
      "\t\tNeg: (306, 12), Pos: (306, 12)\n",
      "\t\tTrain: (612, 12), Test: (9388, 12)\n",
      "PU Learning 20.0%\n",
      "\t\tUsing 408/2037 as positives and unlabeling the rest.\n",
      "\t\tNeg: (408, 12), Pos: (408, 12)\n",
      "\t\tTrain: (816, 12), Test: (9184, 12)\n",
      "PU Learning 25.0%\n",
      "\t\tUsing 510/2037 as positives and unlabeling the rest.\n",
      "\t\tNeg: (510, 12), Pos: (510, 12)\n",
      "\t\tTrain: (1020, 12), Test: (8980, 12)\n",
      "PU Learning 30.0%\n",
      "\t\tUsing 612/2037 as positives and unlabeling the rest.\n",
      "\t\tNeg: (612, 12), Pos: (612, 12)\n",
      "\t\tTrain: (1224, 12), Test: (8776, 12)\n",
      "PU Learning 40.0%\n",
      "\t\tUsing 815/2037 as positives and unlabeling the rest.\n",
      "\t\tNeg: (815, 12), Pos: (815, 12)\n",
      "\t\tTrain: (1630, 12), Test: (8370, 12)\n",
      "PU Learning 50.0%\n",
      "\t\tUsing 1019/2037 as positives and unlabeling the rest.\n",
      "\t\tNeg: (1019, 12), Pos: (1019, 12)\n",
      "\t\tTrain: (2038, 12), Test: (7962, 12)\n",
      "PU Learning 75.0%\n",
      "\t\tUsing 1528/2037 as positives and unlabeling the rest.\n",
      "\t\tNeg: (1528, 12), Pos: (1528, 12)\n",
      "\t\tTrain: (3056, 12), Test: (6944, 12)\n"
     ]
    }
   ],
   "source": [
    "# Разбиваем данные на P и U.\n",
    "for approach, pos_perc in pu_learning_perc.items():\n",
    "    print(f\"PU Learning {pos_perc*100}%\")\n",
    "    \n",
    "    #Представим, что нам неизвестны негативы и часть позитивов.\n",
    "    mod_data = df.copy()\n",
    "    pos_ind = np.where(mod_data.iloc[:,-1].values == 1)[0]\n",
    "    np.random.shuffle(pos_ind)\n",
    "    pos_sample_len = int(np.ceil(pos_perc * len(pos_ind)))\n",
    "    print(f\"\\t\\tUsing {pos_sample_len}/{len(pos_ind)} as positives and unlabeling the rest.\")\n",
    "    pos_sample = pos_ind[:pos_sample_len]\n",
    "\n",
    "    # делаем новый таргентный столбец\n",
    "    mod_data['class_test'] = -1\n",
    "    mod_data.loc[pos_sample,'class_test'] = 1\n",
    "\n",
    "    # использщуем random negative sampling\n",
    "    mod_data = mod_data.sample(frac=1)\n",
    "    data_U = mod_data[mod_data['class_test']==-1]\n",
    "    data_P = mod_data[mod_data['class_test']==1]\n",
    "    neg_sample = data_U[:data_P.shape[0]] # чтоб сбалансированная выборка была\n",
    "    sample_test = data_U[data_P.shape[0]:]\n",
    "    pos_sample = data_P.copy()\n",
    "    print(f\"\\t\\tNeg: {neg_sample.shape}, Pos: {pos_sample.shape}\")\n",
    "    sample_train = pd.concat([neg_sample, pos_sample]).sample(frac=1)\n",
    "    print(f\"\\t\\tTrain: {sample_train.shape}, Test: {sample_test.shape}\")\n",
    "    \n",
    "    # обучение модели\n",
    "    pipeline = Pipeline([\n",
    "        ('features',feats),\n",
    "        ('classifier', RandomForestClassifier(random_state = 42)),\n",
    "    ])\n",
    "    pipeline.fit(sample_train.iloc[:,:-2], \n",
    "                 sample_train.iloc[:,-2])\n",
    "    preds = pipeline.predict(sample_test.iloc[:,:-2])\n",
    "\n",
    "    # оценка\n",
    "    f1 = f1_score(sample_test.iloc[:,-2].values, preds)\n",
    "    roc = roc_auc_score(sample_test.iloc[:,-2].values, preds)\n",
    "    recall = recall_score(sample_test.iloc[:,-2].values, preds, average='binary') \n",
    "    precision = precision_score(sample_test.iloc[:,-2].values, preds, average='binary')\n",
    "    \n",
    "    # запись в словарь\n",
    "    results[approach] = [f1, roc, recall, precision]"
   ]
  },
  {
   "cell_type": "markdown",
   "id": "ed19b0db",
   "metadata": {},
   "source": [
    "## Задание №6, 7"
   ]
  },
  {
   "cell_type": "code",
   "execution_count": 19,
   "id": "29d77a8f",
   "metadata": {
    "scrolled": false
   },
   "outputs": [
    {
     "data": {
      "text/html": [
       "<div>\n",
       "<style scoped>\n",
       "    .dataframe tbody tr th:only-of-type {\n",
       "        vertical-align: middle;\n",
       "    }\n",
       "\n",
       "    .dataframe tbody tr th {\n",
       "        vertical-align: top;\n",
       "    }\n",
       "\n",
       "    .dataframe thead th {\n",
       "        text-align: right;\n",
       "    }\n",
       "</style>\n",
       "<table border=\"1\" class=\"dataframe\">\n",
       "  <thead>\n",
       "    <tr style=\"text-align: right;\">\n",
       "      <th></th>\n",
       "      <th>f-score</th>\n",
       "      <th>roc</th>\n",
       "      <th>recall</th>\n",
       "      <th>precision</th>\n",
       "    </tr>\n",
       "  </thead>\n",
       "  <tbody>\n",
       "    <tr>\n",
       "      <th>RandomForest</th>\n",
       "      <td>0.592166</td>\n",
       "      <td>0.716969</td>\n",
       "      <td>0.462230</td>\n",
       "      <td>0.823718</td>\n",
       "    </tr>\n",
       "    <tr>\n",
       "      <th>PU_10</th>\n",
       "      <td>0.492266</td>\n",
       "      <td>0.733683</td>\n",
       "      <td>0.805787</td>\n",
       "      <td>0.354381</td>\n",
       "    </tr>\n",
       "    <tr>\n",
       "      <th>PU_15</th>\n",
       "      <td>0.486506</td>\n",
       "      <td>0.743346</td>\n",
       "      <td>0.826243</td>\n",
       "      <td>0.344750</td>\n",
       "    </tr>\n",
       "    <tr>\n",
       "      <th>PU_20</th>\n",
       "      <td>0.467800</td>\n",
       "      <td>0.738990</td>\n",
       "      <td>0.828846</td>\n",
       "      <td>0.325857</td>\n",
       "    </tr>\n",
       "    <tr>\n",
       "      <th>PU_25</th>\n",
       "      <td>0.476388</td>\n",
       "      <td>0.749978</td>\n",
       "      <td>0.796399</td>\n",
       "      <td>0.339835</td>\n",
       "    </tr>\n",
       "    <tr>\n",
       "      <th>PU_30</th>\n",
       "      <td>0.463387</td>\n",
       "      <td>0.748369</td>\n",
       "      <td>0.781532</td>\n",
       "      <td>0.329326</td>\n",
       "    </tr>\n",
       "    <tr>\n",
       "      <th>PU_40</th>\n",
       "      <td>0.425025</td>\n",
       "      <td>0.736249</td>\n",
       "      <td>0.746441</td>\n",
       "      <td>0.297096</td>\n",
       "    </tr>\n",
       "    <tr>\n",
       "      <th>PU_50</th>\n",
       "      <td>0.404972</td>\n",
       "      <td>0.766139</td>\n",
       "      <td>0.813541</td>\n",
       "      <td>0.269584</td>\n",
       "    </tr>\n",
       "    <tr>\n",
       "      <th>PU_75</th>\n",
       "      <td>0.273911</td>\n",
       "      <td>0.749601</td>\n",
       "      <td>0.729665</td>\n",
       "      <td>0.168601</td>\n",
       "    </tr>\n",
       "  </tbody>\n",
       "</table>\n",
       "</div>"
      ],
      "text/plain": [
       "               f-score       roc    recall  precision\n",
       "RandomForest  0.592166  0.716969  0.462230   0.823718\n",
       "PU_10         0.492266  0.733683  0.805787   0.354381\n",
       "PU_15         0.486506  0.743346  0.826243   0.344750\n",
       "PU_20         0.467800  0.738990  0.828846   0.325857\n",
       "PU_25         0.476388  0.749978  0.796399   0.339835\n",
       "PU_30         0.463387  0.748369  0.781532   0.329326\n",
       "PU_40         0.425025  0.736249  0.746441   0.297096\n",
       "PU_50         0.404972  0.766139  0.813541   0.269584\n",
       "PU_75         0.273911  0.749601  0.729665   0.168601"
      ]
     },
     "execution_count": 19,
     "metadata": {},
     "output_type": "execute_result"
    }
   ],
   "source": [
    "df = pd.DataFrame(results, index=['f-score','roc', 'recall', 'precision']).T\n",
    "df"
   ]
  },
  {
   "cell_type": "code",
   "execution_count": 20,
   "id": "9267dd52",
   "metadata": {},
   "outputs": [
    {
     "data": {
      "image/png": "[encoded data removed]",
      "text/plain": [
       "<Figure size 1400x800 with 1 Axes>"
      ]
     },
     "metadata": {},
     "output_type": "display_data"
    }
   ],
   "source": [
    "print_pu_metrics(df[1:], pu_learning_perc)"
   ]
  },
  {
   "cell_type": "markdown",
   "id": "4eacf1a8",
   "metadata": {},
   "source": [
    "**Вывод:**"
   ]
  },
  {
   "cell_type": "markdown",
   "id": "e5e4b9a9",
   "metadata": {},
   "source": [
    "Как видно по результирующей табилце, обычный классификатор RandomForest показывает лучшие результаты по сравнению со всеми вариантами PU Learning, за исключением показателя *Recall*. Это подтверждает логичный факт, что классический Supervised Learning на размеченных данных лучше, чем PU Learning на частично-размеченных данных.\n",
    "\n",
    "Если по данной таблице анализировать результаты PU Learning с разной долей $P$ ответов, то можно сказать, что при увеличении доли $P$ качество модели становилось хуже."
   ]
  },
  {
   "cell_type": "markdown",
   "id": "02da40b9",
   "metadata": {},
   "source": [
    "---"
   ]
  }
 ],
 "metadata": {
  "kernelspec": {
   "display_name": "Python 3 (ipykernel)",
   "language": "python",
   "name": "python3"
  },
  "language_info": {
   "codemirror_mode": {
    "name": "ipython",
    "version": 3
   },
   "file_extension": ".py",
   "mimetype": "text/x-python",
   "name": "python",
   "nbconvert_exporter": "python",
   "pygments_lexer": "ipython3",
   "version": "3.9.12"
  }
 },
 "nbformat": 4,
 "nbformat_minor": 5
}
